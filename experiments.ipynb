{
 "cells": [
  {
   "cell_type": "code",
   "execution_count": 1,
   "id": "844de144-ffbf-40ef-b63e-59cefddc05ff",
   "metadata": {},
   "outputs": [],
   "source": [
    "from util.loadSensor import get_data, get_Mydata, get_leaveOneDatasetOut"
   ]
  },
  {
   "cell_type": "code",
   "execution_count": 2,
   "id": "ae22f089-49f9-40cb-a2bc-2a570d86e03d",
   "metadata": {},
   "outputs": [],
   "source": [
    "from scipy.stats import kurtosis, skew\n",
    "from scipy.signal import find_peaks\n",
    "import numpy as np\n",
    "\n",
    "def statistical_features(arr):\n",
    "    arr = arr.numpy()\n",
    "    vmin = np.amin(arr)\n",
    "    vmax = np.amax(arr)\n",
    "    mean = np.mean(arr)\n",
    "    std = np.std(arr)\n",
    "    return vmin, vmax, mean, std\n",
    "\n",
    "def shape_features(arr):\n",
    "    arr = arr.numpy()\n",
    "    skewness = skew(arr)\n",
    "    kurt = kurtosis(arr)\n",
    "    return skewness, kurt"
   ]
  },
  {
   "cell_type": "code",
   "execution_count": 6,
   "id": "d2b5ae4a-1d1a-47b4-aed3-919d10a7b45c",
   "metadata": {},
   "outputs": [],
   "source": [
    "import os\n",
    "import scipy.io as sio\n",
    "from sklearn.ensemble import RandomForestClassifier\n",
    "from sklearn.metrics import accuracy_score\n",
    "\n",
    "data_path = f\"/scratch/project_2014260/data/LOO/LOO1/test\"\n",
    "for root, dirs, files in os.walk(data_path):\n",
    "    subs = sorted(files)\n",
    "#train_dataset,valid_dataset,test_dataset = get_Mydata(subs[0],data_path,0, target_sample=256*2)"
   ]
  },
  {
   "cell_type": "code",
   "execution_count": 38,
   "id": "28a0bc8e-442a-4031-bc0e-f11c519e1cf7",
   "metadata": {},
   "outputs": [],
   "source": [
    "___test = sio.loadmat(f'/scratch/project_2014260/data/LOO/LOO1/test/{subs[0]}')"
   ]
  },
  {
   "cell_type": "code",
   "execution_count": 36,
   "id": "31c36855-498f-45d8-851f-5dd2de3a3b4d",
   "metadata": {},
   "outputs": [],
   "source": [
    "for iii in ___test['x_data']:\n",
    "    iii[0]=[0.0 for f in range(len(iii[0]))]\n",
    "    break"
   ]
  },
  {
   "cell_type": "code",
   "execution_count": 39,
   "id": "fc52f2c3-c916-4995-ad0d-55e25a1c7a96",
   "metadata": {},
   "outputs": [
    {
     "data": {
      "text/plain": [
       "array([17., 17., 17., 17., 17., 17., 17., 17., 17., 17., 17., 17., 17.,\n",
       "       17., 16., 16., 17., 17., 17., 17., 17., 17., 16., 16., 16., 16.,\n",
       "       17., 17., 17., 17., 17., 17., 18., 18., 18., 18., 18., 18., 18.,\n",
       "       18., 18., 18., 18., 18., 18., 18., 18., 18., 18., 18., 18., 18.,\n",
       "       17., 17., 17., 17., 17., 17., 17., 17., 17., 17., 17., 17., 17.,\n",
       "       17., 17., 17., 16., 16., 16., 16., 17., 17., 17., 17., 17., 17.,\n",
       "       18., 18., 18., 18., 17., 17., 17., 17., 17., 17., 17., 17., 17.,\n",
       "       17., 17., 17., 17., 17., 17., 17., 17., 17., 17., 17., 17., 17.,\n",
       "       17., 17., 17., 17., 16., 16., 17., 17., 17., 17., 17., 17., 16.,\n",
       "       16., 17., 17., 17., 17., 17., 17., 17., 17., 17., 17., 17., 17.,\n",
       "       17., 17., 17., 17., 17., 17., 17., 17., 17., 17., 17., 17., 17.,\n",
       "       17., 17., 17., 17., 17., 17., 17., 17., 17., 17., 17., 17., 17.,\n",
       "       17., 17., 17., 17., 17., 17., 17., 17., 17., 17., 17., 17., 17.,\n",
       "       17., 17., 17., 17., 17., 17., 17., 17., 17., 17., 17., 17., 17.,\n",
       "       17., 17., 17., 17., 17., 17., 17., 17., 17., 17., 17., 17., 17.,\n",
       "       17., 17., 17., 17., 17., 17., 17., 17., 17., 17., 17., 17., 17.,\n",
       "       17., 17., 17., 17., 17., 17., 17., 17., 17., 17., 17., 17., 17.,\n",
       "       17., 17., 17., 17., 17., 17., 17., 17., 17., 17., 17., 17., 17.,\n",
       "       17., 17., 17., 17., 17., 17., 17., 17., 17., 17., 17., 17., 17.,\n",
       "       17., 17., 17., 17., 17., 17., 17., 17., 17., 17., 17., 17., 17.,\n",
       "       17., 17., 17., 17., 17., 17., 17., 17., 17., 17., 17., 17., 17.,\n",
       "       17., 17., 17., 17., 17., 17., 17., 17., 17., 17., 17., 18., 18.,\n",
       "       17., 17., 18., 18., 18., 18., 18., 18., 18., 18., 17., 17., 17.,\n",
       "       17., 17., 17., 17., 17., 18., 18., 18., 18., 18., 18., 17., 17.,\n",
       "       17., 17., 17., 17., 18., 18., 18., 18., 18., 18., 18., 18., 17.,\n",
       "       17., 18., 18., 18., 18., 18., 18., 18., 18., 17., 17., 18., 18.,\n",
       "       18., 18., 17., 17., 17., 17., 18., 18., 18., 18., 22., 22., 21.,\n",
       "       21., 23., 23., 23., 23., 23., 23., 22., 22., 22., 22., 21., 21.,\n",
       "       21., 21., 21., 21., 21., 21., 21., 21., 21., 21., 20., 20., 21.,\n",
       "       21., 21., 21., 22., 22., 22., 22., 22., 22., 22., 22., 23., 23.,\n",
       "       23., 23., 23., 23., 23., 23., 23., 23., 23., 23., 23., 23., 22.,\n",
       "       22., 22., 22., 22., 22., 22., 22., 22., 22., 22., 22., 21., 21.,\n",
       "       21., 21., 21., 21., 21., 21., 21., 21., 21., 21., 21., 21., 21.,\n",
       "       21., 21., 21., 21., 21., 21., 21., 21., 21., 21., 21., 21., 21.,\n",
       "       22., 22., 21., 21., 21., 21., 21., 21., 21., 21., 21., 21., 21.,\n",
       "       21., 21., 21., 21., 21., 21., 21., 21., 21., 21., 21., 21., 21.,\n",
       "       21., 21., 21., 21., 21., 21., 21., 21., 21., 21., 23., 23., 24.,\n",
       "       24., 27., 27., 29., 29., 31., 31., 31., 31., 31., 31., 29., 29.,\n",
       "       28., 28., 29., 29., 29., 29., 30., 30., 30., 30., 30., 30., 30.,\n",
       "       30., 30., 30., 30., 30.], dtype=float32)"
      ]
     },
     "execution_count": 39,
     "metadata": {},
     "output_type": "execute_result"
    }
   ],
   "source": [
    "___test['x_data'][0][0]"
   ]
  },
  {
   "cell_type": "code",
   "execution_count": null,
   "id": "51413978-75ec-4437-81d4-0fc737b4b750",
   "metadata": {},
   "outputs": [],
   "source": []
  },
  {
   "cell_type": "code",
   "execution_count": 12,
   "id": "0d953d2b-8eb0-4380-b50f-95dab0242456",
   "metadata": {
    "scrolled": true
   },
   "outputs": [
    {
     "name": "stdout",
     "output_type": "stream",
     "text": [
      "\n",
      "===== Running RF =====\n",
      "\n",
      "----- /scratch/project_2014260/data/LOO/LOO1/test\n",
      "User: sub_S10_Data.mat\n",
      "User: sub_S10_Data.mat | Acc: 0.8750 | Prec: 1.0000 | Spec: 1.0000 | AUC: 1.0000 | Kappa: 0.7500\n",
      "User: sub_S11_Data.mat\n",
      "User: sub_S11_Data.mat | Acc: 0.6591 | Prec: 0.8889 | Spec: 0.9545 | AUC: 0.8037 | Kappa: 0.3182\n",
      "User: sub_S13_Data.mat\n",
      "User: sub_S13_Data.mat | Acc: 0.6667 | Prec: 0.8333 | Spec: 0.9167 | AUC: 0.6285 | Kappa: 0.3333\n",
      "User: sub_S14_Data.mat\n",
      "User: sub_S14_Data.mat | Acc: 0.8571 | Prec: 0.7778 | Spec: 0.7143 | AUC: 0.9807 | Kappa: 0.7143\n",
      "User: sub_S15_Data.mat\n",
      "User: sub_S15_Data.mat | Acc: 0.8182 | Prec: 0.8889 | Spec: 0.9091 | AUC: 0.8926 | Kappa: 0.6364\n",
      "LOO LOO1: Acc=0.7752, Prec=0.8778, Spec=0.8989, AUC=0.8611, Kappa=0.5504\n",
      "----- /scratch/project_2014260/data/LOO/LOO2/test\n",
      "User: sub_subject0_Data.mat\n",
      "User: sub_subject0_Data.mat | Acc: 0.7500 | Prec: 0.8095 | Spec: 0.8462 | AUC: 0.8683 | Kappa: 0.5000\n",
      "User: sub_subject10_Data.mat\n",
      "User: sub_subject10_Data.mat | Acc: 0.4853 | Prec: 0.4884 | Spec: 0.3529 | AUC: 0.4230 | Kappa: -0.0294\n",
      "User: sub_subject11_Data.mat\n",
      "User: sub_subject11_Data.mat | Acc: 0.4800 | Prec: 0.0000 | Spec: 0.9600 | AUC: 0.3552 | Kappa: -0.0400\n",
      "User: sub_subject12_Data.mat\n",
      "User: sub_subject12_Data.mat | Acc: 0.5577 | Prec: 0.5385 | Spec: 0.3077 | AUC: 0.7019 | Kappa: 0.1154\n",
      "User: sub_subject13_Data.mat\n",
      "User: sub_subject13_Data.mat | Acc: 0.5417 | Prec: 1.0000 | Spec: 1.0000 | AUC: 0.5573 | Kappa: 0.0833\n",
      "LOO LOO2: Acc=0.5629, Prec=0.5673, Spec=0.6934, AUC=0.5812, Kappa=0.1259\n",
      "----- /scratch/project_2014260/data/LOO/LOO3/test\n",
      "User: sub_subject0_Data.mat\n",
      "User: sub_subject0_Data.mat | Acc: 0.6415 | Prec: 0.6667 | Spec: 0.7170 | AUC: 0.6714 | Kappa: 0.2830\n",
      "User: sub_subject10_Data.mat\n",
      "User: sub_subject10_Data.mat | Acc: 0.6900 | Prec: 1.0000 | Spec: 1.0000 | AUC: 0.7976 | Kappa: 0.3800\n",
      "LOO LOO3: Acc=0.6658, Prec=0.8333, Spec=0.8585, AUC=0.7345, Kappa=0.3315\n",
      "----- /scratch/project_2014260/data/LOO/LOO4/test\n",
      "User: sub_subject0_Data.mat\n",
      "User: sub_subject0_Data.mat | Acc: 0.4000 | Prec: 0.0000 | Spec: 0.8000 | AUC: 0.6150 | Kappa: -0.2000\n",
      "User: sub_subject1_Data.mat\n",
      "User: sub_subject1_Data.mat | Acc: 0.5000 | Prec: 0.5385 | Spec: 0.0000 | AUC: 0.2734 | Kappa: -0.1395\n",
      "User: sub_subject2_Data.mat\n",
      "User: sub_subject2_Data.mat | Acc: 0.8750 | Prec: 1.0000 | Spec: 1.0000 | AUC: 0.9375 | Kappa: 0.7500\n",
      "User: sub_subject3_Data.mat\n",
      "User: sub_subject3_Data.mat | Acc: 0.8750 | Prec: 1.0000 | Spec: 1.0000 | AUC: 0.9531 | Kappa: 0.7500\n",
      "User: sub_subject4_Data.mat\n",
      "User: sub_subject4_Data.mat | Acc: 0.8889 | Prec: 0.8182 | Spec: 0.7778 | AUC: 1.0000 | Kappa: 0.7778\n",
      "LOO LOO4: Acc=0.7078, Prec=0.6713, Spec=0.7156, AUC=0.7558, Kappa=0.3876\n",
      "----- /scratch/project_2014260/data/LOO/LOO5/test\n",
      "User: sub_subject0_Data.mat\n",
      "User: sub_subject0_Data.mat | Acc: 0.4762 | Prec: 0.5294 | Spec: 0.1111 | AUC: 0.5648 | Kappa: -0.1493\n",
      "User: sub_subject1_Data.mat\n",
      "User: sub_subject1_Data.mat | Acc: 0.9375 | Prec: 0.8889 | Spec: 0.8750 | AUC: 0.9844 | Kappa: 0.8750\n",
      "User: sub_subject2_Data.mat\n",
      "User: sub_subject2_Data.mat | Acc: 0.9500 | Prec: 0.9091 | Spec: 0.9000 | AUC: 1.0000 | Kappa: 0.9000\n",
      "User: sub_subject3_Data.mat\n",
      "User: sub_subject3_Data.mat | Acc: 0.7500 | Prec: 0.8571 | Spec: 0.9000 | AUC: 0.8150 | Kappa: 0.5000\n",
      "User: sub_subject4_Data.mat\n",
      "User: sub_subject4_Data.mat | Acc: 0.6000 | Prec: 0.6111 | Spec: 0.1250 | AUC: 0.4115 | Kappa: 0.0476\n",
      "LOO LOO5: Acc=0.7427, Prec=0.7591, Spec=0.5822, AUC=0.7551, Kappa=0.4347\n",
      "----- /scratch/project_2014260/data/LOO/LOO6/test\n",
      "User: sub_subject0_Data.mat\n",
      "User: sub_subject0_Data.mat | Acc: 0.4500 | Prec: 1.0000 | Spec: 1.0000 | AUC: 0.3177 | Kappa: 0.0678\n",
      "User: sub_subject1_Data.mat\n",
      "User: sub_subject1_Data.mat | Acc: 0.9500 | Prec: 0.9167 | Spec: 0.8889 | AUC: 1.0000 | Kappa: 0.8980\n",
      "User: sub_subject2_Data.mat\n",
      "User: sub_subject2_Data.mat | Acc: 0.5238 | Prec: 0.5500 | Spec: 0.0000 | AUC: 0.6713 | Kappa: -0.0938\n",
      "User: sub_subject3_Data.mat\n",
      "User: sub_subject3_Data.mat | Acc: 0.5455 | Prec: 0.5714 | Spec: 0.0000 | AUC: 0.4786 | Kappa: -0.0891\n",
      "User: sub_subject4_Data.mat\n",
      "User: sub_subject4_Data.mat | Acc: 0.8636 | Prec: 0.8000 | Spec: 0.7000 | AUC: 0.9917 | Kappa: 0.7179\n",
      "LOO LOO6: Acc=0.6666, Prec=0.7676, Spec=0.5178, AUC=0.6919, Kappa=0.3002\n",
      "----- /scratch/project_2014260/data/LOO/LOO7/test\n",
      "User: sub_subject0_Data.mat\n",
      "User: sub_subject0_Data.mat | Acc: 0.1176 | Prec: 0.0000 | Spec: 0.2500 | AUC: 0.0000 | Kappa: -0.7347\n",
      "User: sub_subject1_Data.mat\n",
      "User: sub_subject1_Data.mat | Acc: 0.5500 | Prec: 0.5263 | Spec: 0.1000 | AUC: 0.7550 | Kappa: 0.1000\n",
      "User: sub_subject2_Data.mat\n",
      "User: sub_subject2_Data.mat | Acc: 0.4500 | Prec: 0.5000 | Spec: 0.1111 | AUC: 0.5303 | Kappa: -0.1702\n",
      "User: sub_subject3_Data.mat\n",
      "User: sub_subject3_Data.mat | Acc: 0.6667 | Prec: 0.8750 | Spec: 0.8750 | AUC: 0.6394 | Kappa: 0.3691\n",
      "User: sub_subject4_Data.mat\n",
      "User: sub_subject4_Data.mat | Acc: 0.5000 | Prec: 0.5333 | Spec: 0.2222 | AUC: 0.5303 | Kappa: -0.0526\n",
      "LOO LOO7: Acc=0.4569, Prec=0.4869, Spec=0.3117, AUC=0.4910, Kappa=-0.0977\n",
      "----- /scratch/project_2014260/data/LOO/LOO8/test\n",
      "User: sub_UN_101_Data.mat\n",
      "User: sub_UN_101_Data.mat | Acc: 0.5833 | Prec: 1.0000 | Spec: 1.0000 | AUC: 0.6944 | Kappa: 0.1667\n",
      "User: sub_UN_103_Data.mat\n",
      "User: sub_UN_103_Data.mat | Acc: 0.7222 | Prec: 0.6667 | Spec: 0.5556 | AUC: 0.7176 | Kappa: 0.4444\n",
      "User: sub_UN_104_Data.mat\n",
      "User: sub_UN_104_Data.mat | Acc: 0.7222 | Prec: 0.7500 | Spec: 0.7778 | AUC: 0.7948 | Kappa: 0.4444\n",
      "User: sub_UN_105_Data.mat\n",
      "User: sub_UN_105_Data.mat | Acc: 0.5833 | Prec: 0.8000 | Spec: 0.9444 | AUC: 0.8657 | Kappa: 0.1667\n",
      "User: sub_UN_106_Data.mat\n",
      "User: sub_UN_106_Data.mat | Acc: 0.8056 | Prec: 0.7200 | Spec: 0.6111 | AUC: 0.7006 | Kappa: 0.6111\n",
      "LOO LOO8: Acc=0.6833, Prec=0.7873, Spec=0.7778, AUC=0.7546, Kappa=0.3667\n",
      "----- /scratch/project_2014260/data/LOO/LOO9/test\n",
      "User: sub_UN_101_Data.mat\n",
      "User: sub_UN_101_Data.mat | Acc: 1.0000 | Prec: 1.0000 | Spec: 1.0000 | AUC: 1.0000 | Kappa: 1.0000\n",
      "User: sub_UN_102_Data.mat\n",
      "User: sub_UN_102_Data.mat | Acc: 0.8889 | Prec: 0.9375 | Spec: 0.9444 | AUC: 0.9815 | Kappa: 0.7778\n",
      "User: sub_UN_103_Data.mat\n",
      "User: sub_UN_103_Data.mat | Acc: 0.8056 | Prec: 1.0000 | Spec: 1.0000 | AUC: 0.9969 | Kappa: 0.6111\n",
      "User: sub_UN_104_Data.mat\n",
      "User: sub_UN_104_Data.mat | Acc: 0.5278 | Prec: 0.6667 | Spec: 0.9444 | AUC: 0.8519 | Kappa: 0.0556\n",
      "User: sub_UN_105_Data.mat\n",
      "User: sub_UN_105_Data.mat | Acc: 0.5556 | Prec: 0.7500 | Spec: 0.9444 | AUC: 0.7623 | Kappa: 0.1111\n",
      "LOO LOO9: Acc=0.7556, Prec=0.8708, Spec=0.9667, AUC=0.9185, Kappa=0.5111\n",
      "----- /scratch/project_2014260/data/LOO/LOO10/test\n",
      "User: sub_UN_101_Data.mat\n",
      "User: sub_UN_101_Data.mat | Acc: 0.5000 | Prec: 0.5000 | Spec: 0.0000 | AUC: 0.6094 | Kappa: 0.0000\n",
      "User: sub_UN_104_Data.mat\n",
      "User: sub_UN_104_Data.mat | Acc: 0.4531 | Prec: 0.5714 | Spec: 0.7778 | AUC: 0.4995 | Kappa: -0.0054\n",
      "User: sub_UN_108_Data.mat\n",
      "User: sub_UN_108_Data.mat | Acc: 0.6875 | Prec: 0.6667 | Spec: 0.6250 | AUC: 0.6406 | Kappa: 0.3750\n",
      "User: sub_UN_109_Data.mat\n",
      "User: sub_UN_109_Data.mat | Acc: 0.5000 | Prec: 0.5000 | Spec: 0.0000 | AUC: 0.4240 | Kappa: 0.0000\n",
      "User: sub_UN_110_Data.mat\n",
      "User: sub_UN_110_Data.mat | Acc: 0.4219 | Prec: 0.4324 | Spec: 0.3437 | AUC: 0.3784 | Kappa: -0.1562\n",
      "LOO LOO10: Acc=0.5125, Prec=0.5341, Spec=0.3493, AUC=0.5104, Kappa=0.0427\n",
      "----- /scratch/project_2014260/data/LOO/LOO11/test\n",
      "User: sub_UN_113_Data.mat\n",
      "User: sub_UN_113_Data.mat | Acc: 0.9444 | Prec: 0.9000 | Spec: 0.8889 | AUC: 0.9244 | Kappa: 0.8889\n",
      "User: sub_UN_114_Data.mat\n",
      "User: sub_UN_114_Data.mat | Acc: 0.6389 | Prec: 0.7273 | Spec: 0.8333 | AUC: 0.6852 | Kappa: 0.2778\n",
      "User: sub_UN_115_Data.mat\n",
      "User: sub_UN_115_Data.mat | Acc: 0.2500 | Prec: 0.3333 | Spec: 0.0000 | AUC: 0.3349 | Kappa: -0.5000\n",
      "User: sub_UN_116_Data.mat\n",
      "User: sub_UN_116_Data.mat | Acc: 0.4722 | Prec: 0.4706 | Spec: 0.5000 | AUC: 0.3858 | Kappa: -0.0556\n",
      "User: sub_UN_117_Data.mat\n",
      "User: sub_UN_117_Data.mat | Acc: 0.9722 | Prec: 1.0000 | Spec: 1.0000 | AUC: 1.0000 | Kappa: 0.9444\n",
      "LOO LOO11: Acc=0.6556, Prec=0.6862, Spec=0.6444, AUC=0.6660, Kappa=0.3111\n",
      "----- /scratch/project_2014260/data/LOO/LOO12/test\n",
      "User: sub_UN_113_Data.mat\n",
      "User: sub_UN_113_Data.mat | Acc: 0.5000 | Prec: 0.5000 | Spec: 0.0000 | AUC: 0.5386 | Kappa: 0.0000\n",
      "User: sub_UN_114_Data.mat\n",
      "User: sub_UN_114_Data.mat | Acc: 0.9167 | Prec: 0.8947 | Spec: 0.8889 | AUC: 0.9506 | Kappa: 0.8333\n",
      "User: sub_UN_115_Data.mat\n",
      "User: sub_UN_115_Data.mat | Acc: 0.8889 | Prec: 0.8182 | Spec: 0.7778 | AUC: 0.9923 | Kappa: 0.7778\n",
      "User: sub_UN_116_Data.mat\n",
      "User: sub_UN_116_Data.mat | Acc: 0.5833 | Prec: 0.5455 | Spec: 0.1667 | AUC: 0.5957 | Kappa: 0.1667\n",
      "User: sub_UN_117_Data.mat\n",
      "User: sub_UN_117_Data.mat | Acc: 0.3889 | Prec: 0.3571 | Spec: 0.5000 | AUC: 0.4012 | Kappa: -0.2222\n",
      "LOO LOO12: Acc=0.6556, Prec=0.6231, Spec=0.4667, AUC=0.6957, Kappa=0.3111\n",
      "MEAN: Acc=0.6534, Prec=0.7054, Spec=0.6486, AUC=0.7013, Kappa=0.2979\n",
      "Results saved to louo_rf_results.csv\n",
      "      LOO  Accuracy  Precision  Specificity     AUROC     Kappa\n",
      "0    LOO1  0.775216   0.877778     0.898918  0.861096  0.550433\n",
      "1    LOO2  0.562931   0.567271     0.693357  0.581154  0.125861\n",
      "2    LOO3  0.665755   0.833333     0.858491  0.734507  0.331509\n",
      "3    LOO4  0.707778   0.671329     0.715556  0.755812  0.387649\n",
      "4    LOO5  0.742738   0.759129     0.582222  0.755130  0.434673\n",
      "5    LOO6  0.666580   0.767619     0.517778  0.691861  0.300169\n",
      "6    LOO7  0.456863   0.486930     0.311667  0.491006 -0.097688\n",
      "7    LOO8  0.683333   0.787333     0.777778  0.754630  0.366667\n",
      "8    LOO9  0.755556   0.870833     0.966667  0.918519  0.511111\n",
      "9   LOO10  0.512500   0.534106     0.349306  0.510383  0.042673\n",
      "10  LOO11  0.655556   0.686239     0.644444  0.666049  0.311111\n",
      "11  LOO12  0.655556   0.623103     0.466667  0.695679  0.311111\n",
      "\n",
      "===== Running LDA =====\n",
      "\n",
      "----- /scratch/project_2014260/data/LOO/LOO1/test\n",
      "User: sub_S10_Data.mat\n",
      "User: sub_S10_Data.mat | Acc: 0.5000 | Prec: 0.0000 | Spec: 1.0000 | AUC: 0.7847 | Kappa: 0.0000\n",
      "User: sub_S11_Data.mat\n",
      "User: sub_S11_Data.mat | Acc: 0.9545 | Prec: 1.0000 | Spec: 1.0000 | AUC: 0.9959 | Kappa: 0.9091\n",
      "User: sub_S13_Data.mat\n",
      "User: sub_S13_Data.mat | Acc: 0.5417 | Prec: 0.6000 | Spec: 0.8333 | AUC: 0.6875 | Kappa: 0.0833\n",
      "User: sub_S14_Data.mat\n",
      "User: sub_S14_Data.mat | Acc: 0.8333 | Prec: 0.8182 | Spec: 0.8095 | AUC: 0.8821 | Kappa: 0.6667\n",
      "User: sub_S15_Data.mat\n",
      "User: sub_S15_Data.mat | Acc: 0.5909 | Prec: 1.0000 | Spec: 1.0000 | AUC: 0.8512 | Kappa: 0.1818\n",
      "LOO LOO1: Acc=0.6841, Prec=0.6836, Spec=0.9286, AUC=0.8403, Kappa=0.3682\n",
      "----- /scratch/project_2014260/data/LOO/LOO2/test\n",
      "User: sub_subject0_Data.mat\n",
      "User: sub_subject0_Data.mat | Acc: 0.6731 | Prec: 0.6154 | Spec: 0.4231 | AUC: 0.8003 | Kappa: 0.3462\n",
      "User: sub_subject10_Data.mat\n",
      "User: sub_subject10_Data.mat | Acc: 0.6471 | Prec: 0.6562 | Spec: 0.6765 | AUC: 0.7336 | Kappa: 0.2941\n",
      "User: sub_subject11_Data.mat\n",
      "User: sub_subject11_Data.mat | Acc: 0.5600 | Prec: 0.6667 | Spec: 0.8800 | AUC: 0.6960 | Kappa: 0.1200\n",
      "User: sub_subject12_Data.mat\n",
      "User: sub_subject12_Data.mat | Acc: 0.6154 | Prec: 0.5789 | Spec: 0.3846 | AUC: 0.7012 | Kappa: 0.2308\n",
      "User: sub_subject13_Data.mat\n",
      "User: sub_subject13_Data.mat | Acc: 0.6042 | Prec: 0.6471 | Spec: 0.7500 | AUC: 0.7274 | Kappa: 0.2083\n",
      "LOO LOO2: Acc=0.6199, Prec=0.6329, Spec=0.6228, AUC=0.7317, Kappa=0.2399\n",
      "----- /scratch/project_2014260/data/LOO/LOO3/test\n",
      "User: sub_subject0_Data.mat\n",
      "User: sub_subject0_Data.mat | Acc: 0.2830 | Prec: 0.1034 | Spec: 0.5094 | AUC: 0.2916 | Kappa: -0.4340\n",
      "User: sub_subject10_Data.mat\n",
      "User: sub_subject10_Data.mat | Acc: 0.7200 | Prec: 0.8929 | Spec: 0.9400 | AUC: 0.8388 | Kappa: 0.4400\n",
      "LOO LOO3: Acc=0.5015, Prec=0.4982, Spec=0.7247, AUC=0.5652, Kappa=0.0030\n",
      "----- /scratch/project_2014260/data/LOO/LOO4/test\n",
      "User: sub_subject0_Data.mat\n",
      "User: sub_subject0_Data.mat | Acc: 0.5500 | Prec: 1.0000 | Spec: 1.0000 | AUC: 0.3400 | Kappa: 0.1000\n",
      "User: sub_subject1_Data.mat\n",
      "User: sub_subject1_Data.mat | Acc: 0.4643 | Prec: 0.5200 | Spec: 0.0000 | AUC: 0.3125 | Kappa: -0.2069\n",
      "User: sub_subject2_Data.mat\n",
      "User: sub_subject2_Data.mat | Acc: 0.5000 | Prec: 0.5000 | Spec: 0.8750 | AUC: 0.6562 | Kappa: 0.0000\n",
      "User: sub_subject3_Data.mat\n",
      "User: sub_subject3_Data.mat | Acc: 0.5000 | Prec: 0.5000 | Spec: 0.7500 | AUC: 0.6875 | Kappa: 0.0000\n",
      "User: sub_subject4_Data.mat\n",
      "User: sub_subject4_Data.mat | Acc: 0.2778 | Prec: 0.1667 | Spec: 0.4444 | AUC: 0.4568 | Kappa: -0.4444\n",
      "LOO LOO4: Acc=0.4584, Prec=0.5373, Spec=0.6139, AUC=0.4906, Kappa=-0.1103\n",
      "----- /scratch/project_2014260/data/LOO/LOO5/test\n",
      "User: sub_subject0_Data.mat\n",
      "User: sub_subject0_Data.mat | Acc: 0.7619 | Prec: 0.7333 | Spec: 0.5556 | AUC: 0.7130 | Kappa: 0.4928\n",
      "User: sub_subject1_Data.mat\n",
      "User: sub_subject1_Data.mat | Acc: 0.6875 | Prec: 0.6154 | Spec: 0.3750 | AUC: 0.8438 | Kappa: 0.3750\n",
      "User: sub_subject2_Data.mat\n",
      "User: sub_subject2_Data.mat | Acc: 0.8500 | Prec: 0.7692 | Spec: 0.7000 | AUC: 0.9800 | Kappa: 0.7000\n",
      "User: sub_subject3_Data.mat\n",
      "User: sub_subject3_Data.mat | Acc: 0.7500 | Prec: 0.7273 | Spec: 0.7000 | AUC: 0.7600 | Kappa: 0.5000\n",
      "User: sub_subject4_Data.mat\n",
      "User: sub_subject4_Data.mat | Acc: 0.6500 | Prec: 0.6316 | Spec: 0.1250 | AUC: 0.8958 | Kappa: 0.1463\n",
      "LOO LOO5: Acc=0.7399, Prec=0.6954, Spec=0.4911, AUC=0.8385, Kappa=0.4428\n",
      "----- /scratch/project_2014260/data/LOO/LOO6/test\n",
      "User: sub_subject0_Data.mat\n",
      "User: sub_subject0_Data.mat | Acc: 0.5000 | Prec: 0.6250 | Spec: 0.6250 | AUC: 0.4062 | Kappa: 0.0385\n",
      "User: sub_subject1_Data.mat\n",
      "User: sub_subject1_Data.mat | Acc: 0.6500 | Prec: 1.0000 | Spec: 1.0000 | AUC: 0.7576 | Kappa: 0.3396\n",
      "User: sub_subject2_Data.mat\n",
      "User: sub_subject2_Data.mat | Acc: 0.5714 | Prec: 0.5714 | Spec: 0.0000 | AUC: 0.2037 | Kappa: 0.0000\n",
      "User: sub_subject3_Data.mat\n",
      "User: sub_subject3_Data.mat | Acc: 0.5909 | Prec: 0.6111 | Spec: 0.2222 | AUC: 0.5726 | Kappa: 0.0748\n",
      "User: sub_subject4_Data.mat\n",
      "User: sub_subject4_Data.mat | Acc: 0.6364 | Prec: 0.6429 | Spec: 0.5000 | AUC: 0.5833 | Kappa: 0.2542\n",
      "LOO LOO6: Acc=0.5897, Prec=0.6901, Spec=0.4694, AUC=0.5047, Kappa=0.1414\n",
      "----- /scratch/project_2014260/data/LOO/LOO7/test\n",
      "User: sub_subject0_Data.mat\n",
      "User: sub_subject0_Data.mat | Acc: 0.5882 | Prec: 0.5833 | Spec: 0.3750 | AUC: 0.4861 | Kappa: 0.1560\n",
      "User: sub_subject1_Data.mat\n",
      "User: sub_subject1_Data.mat | Acc: 0.6000 | Prec: 0.5556 | Spec: 0.2000 | AUC: 0.6500 | Kappa: 0.2000\n",
      "User: sub_subject2_Data.mat\n",
      "User: sub_subject2_Data.mat | Acc: 0.5500 | Prec: 0.5714 | Spec: 0.3333 | AUC: 0.5909 | Kappa: 0.0625\n",
      "User: sub_subject3_Data.mat\n",
      "User: sub_subject3_Data.mat | Acc: 0.6190 | Prec: 0.6923 | Spec: 0.5000 | AUC: 0.5673 | Kappa: 0.1923\n",
      "User: sub_subject4_Data.mat\n",
      "User: sub_subject4_Data.mat | Acc: 0.6000 | Prec: 0.6000 | Spec: 0.3333 | AUC: 0.5404 | Kappa: 0.1579\n",
      "LOO LOO7: Acc=0.5915, Prec=0.6005, Spec=0.3483, AUC=0.5669, Kappa=0.1537\n",
      "----- /scratch/project_2014260/data/LOO/LOO8/test\n",
      "User: sub_UN_101_Data.mat\n",
      "User: sub_UN_101_Data.mat | Acc: 0.8889 | Prec: 1.0000 | Spec: 1.0000 | AUC: 1.0000 | Kappa: 0.7778\n",
      "User: sub_UN_103_Data.mat\n",
      "User: sub_UN_103_Data.mat | Acc: 0.5000 | Prec: 0.5000 | Spec: 0.0000 | AUC: 0.5000 | Kappa: 0.0000\n",
      "User: sub_UN_104_Data.mat\n",
      "User: sub_UN_104_Data.mat | Acc: 1.0000 | Prec: 1.0000 | Spec: 1.0000 | AUC: 1.0000 | Kappa: 1.0000\n",
      "User: sub_UN_105_Data.mat\n",
      "User: sub_UN_105_Data.mat | Acc: 0.6667 | Prec: 0.8750 | Spec: 0.9444 | AUC: 0.5802 | Kappa: 0.3333\n",
      "User: sub_UN_106_Data.mat\n",
      "User: sub_UN_106_Data.mat | Acc: 0.8333 | Prec: 0.7500 | Spec: 0.6667 | AUC: 0.9753 | Kappa: 0.6667\n",
      "LOO LOO8: Acc=0.7778, Prec=0.8250, Spec=0.7222, AUC=0.8111, Kappa=0.5556\n",
      "----- /scratch/project_2014260/data/LOO/LOO9/test\n",
      "User: sub_UN_101_Data.mat\n",
      "User: sub_UN_101_Data.mat | Acc: 0.9722 | Prec: 0.9474 | Spec: 0.9444 | AUC: 0.9630 | Kappa: 0.9444\n",
      "User: sub_UN_102_Data.mat\n",
      "User: sub_UN_102_Data.mat | Acc: 0.8056 | Prec: 0.7619 | Spec: 0.7222 | AUC: 0.9136 | Kappa: 0.6111\n",
      "User: sub_UN_103_Data.mat\n",
      "User: sub_UN_103_Data.mat | Acc: 0.6667 | Prec: 0.7143 | Spec: 0.7778 | AUC: 0.7685 | Kappa: 0.3333\n",
      "User: sub_UN_104_Data.mat\n",
      "User: sub_UN_104_Data.mat | Acc: 0.6944 | Prec: 1.0000 | Spec: 1.0000 | AUC: 0.9938 | Kappa: 0.3889\n",
      "User: sub_UN_105_Data.mat\n",
      "User: sub_UN_105_Data.mat | Acc: 0.8611 | Prec: 0.8095 | Spec: 0.7778 | AUC: 0.8981 | Kappa: 0.7222\n",
      "LOO LOO9: Acc=0.8000, Prec=0.8466, Spec=0.8444, AUC=0.9074, Kappa=0.6000\n",
      "----- /scratch/project_2014260/data/LOO/LOO10/test\n",
      "User: sub_UN_101_Data.mat\n",
      "User: sub_UN_101_Data.mat | Acc: 0.5000 | Prec: 0.5000 | Spec: 0.0000 | AUC: 0.5938 | Kappa: 0.0000\n",
      "User: sub_UN_104_Data.mat\n",
      "User: sub_UN_104_Data.mat | Acc: 0.4062 | Prec: 0.4615 | Spec: 0.7407 | AUC: 0.4474 | Kappa: -0.0867\n",
      "User: sub_UN_108_Data.mat\n",
      "User: sub_UN_108_Data.mat | Acc: 0.3125 | Prec: 0.3846 | Spec: 0.0000 | AUC: 0.1250 | Kappa: -0.3750\n",
      "User: sub_UN_109_Data.mat\n",
      "User: sub_UN_109_Data.mat | Acc: 0.5400 | Prec: 0.5217 | Spec: 0.1200 | AUC: 0.6576 | Kappa: 0.0800\n",
      "User: sub_UN_110_Data.mat\n",
      "User: sub_UN_110_Data.mat | Acc: 0.6875 | Prec: 0.6667 | Spec: 0.6250 | AUC: 0.7744 | Kappa: 0.3750\n",
      "LOO LOO10: Acc=0.4893, Prec=0.5069, Spec=0.2971, AUC=0.5196, Kappa=-0.0013\n",
      "----- /scratch/project_2014260/data/LOO/LOO11/test\n",
      "User: sub_UN_113_Data.mat\n",
      "User: sub_UN_113_Data.mat | Acc: 0.5278 | Prec: 0.5161 | Spec: 0.1667 | AUC: 0.2932 | Kappa: 0.0556\n",
      "User: sub_UN_114_Data.mat\n",
      "User: sub_UN_114_Data.mat | Acc: 0.5278 | Prec: 0.5385 | Spec: 0.6667 | AUC: 0.5154 | Kappa: 0.0556\n",
      "User: sub_UN_115_Data.mat\n",
      "User: sub_UN_115_Data.mat | Acc: 0.4444 | Prec: 0.4706 | Spec: 0.0000 | AUC: 0.1914 | Kappa: -0.1111\n",
      "User: sub_UN_116_Data.mat\n",
      "User: sub_UN_116_Data.mat | Acc: 0.2778 | Prec: 0.2143 | Spec: 0.3889 | AUC: 0.3056 | Kappa: -0.4444\n",
      "User: sub_UN_117_Data.mat\n",
      "User: sub_UN_117_Data.mat | Acc: 0.5833 | Prec: 1.0000 | Spec: 1.0000 | AUC: 0.7716 | Kappa: 0.1667\n",
      "LOO LOO11: Acc=0.4722, Prec=0.5479, Spec=0.4444, AUC=0.4154, Kappa=-0.0556\n",
      "----- /scratch/project_2014260/data/LOO/LOO12/test\n",
      "User: sub_UN_113_Data.mat\n",
      "User: sub_UN_113_Data.mat | Acc: 0.7500 | Prec: 0.6800 | Spec: 0.5556 | AUC: 0.7593 | Kappa: 0.5000\n",
      "User: sub_UN_114_Data.mat\n",
      "User: sub_UN_114_Data.mat | Acc: 0.8611 | Prec: 0.8095 | Spec: 0.7778 | AUC: 0.9352 | Kappa: 0.7222\n",
      "User: sub_UN_115_Data.mat\n",
      "User: sub_UN_115_Data.mat | Acc: 0.8056 | Prec: 0.7200 | Spec: 0.6111 | AUC: 0.9784 | Kappa: 0.6111\n",
      "User: sub_UN_116_Data.mat\n",
      "User: sub_UN_116_Data.mat | Acc: 0.6944 | Prec: 0.6296 | Spec: 0.4444 | AUC: 0.8858 | Kappa: 0.3889\n",
      "User: sub_UN_117_Data.mat\n",
      "User: sub_UN_117_Data.mat | Acc: 0.6111 | Prec: 0.8333 | Spec: 0.9444 | AUC: 0.6667 | Kappa: 0.2222\n",
      "LOO LOO12: Acc=0.7444, Prec=0.7345, Spec=0.6667, AUC=0.8451, Kappa=0.4889\n",
      "MEAN: Acc=0.6224, Prec=0.6499, Spec=0.5978, AUC=0.6697, Kappa=0.2355\n",
      "Results saved to louo_lda_results.csv\n",
      "      LOO  Accuracy  Precision  Specificity     AUROC     Kappa\n",
      "0    LOO1  0.684091   0.683636     0.928571  0.840283  0.368182\n",
      "1    LOO2  0.619937   0.632861     0.622833  0.731695  0.239875\n",
      "2    LOO3  0.501509   0.498153     0.724717  0.565181  0.003019\n",
      "3    LOO4  0.458413   0.537333     0.613889  0.490608 -0.110268\n",
      "4    LOO5  0.739881   0.695360     0.491111  0.838509  0.442819\n",
      "5    LOO6  0.589740   0.690079     0.469444  0.504702  0.141418\n",
      "6    LOO7  0.591457   0.600525     0.348333  0.566946  0.153746\n",
      "7    LOO8  0.777778   0.825000     0.722222  0.811111  0.555556\n",
      "8    LOO9  0.800000   0.846617     0.844444  0.907407  0.600000\n",
      "9   LOO10  0.489250   0.506912     0.297148  0.519642 -0.001337\n",
      "10  LOO11  0.472222   0.547893     0.444444  0.415432 -0.055556\n",
      "11  LOO12  0.744444   0.734497     0.666667  0.845062  0.488889\n",
      "\n",
      "===== Running QDA =====\n",
      "\n",
      "----- /scratch/project_2014260/data/LOO/LOO1/test\n",
      "User: sub_S10_Data.mat\n"
     ]
    },
    {
     "name": "stderr",
     "output_type": "stream",
     "text": [
      "/PUHTI_TYKKY_FRQGCcR/miniconda/envs/env1/lib/python3.10/site-packages/sklearn/discriminant_analysis.py:935: UserWarning: Variables are collinear\n",
      "  warnings.warn(\"Variables are collinear\")\n"
     ]
    },
    {
     "name": "stdout",
     "output_type": "stream",
     "text": [
      "User: sub_S10_Data.mat | Acc: 0.6250 | Prec: 0.6667 | Spec: 0.7500 | AUC: 0.6806 | Kappa: 0.2500\n",
      "User: sub_S11_Data.mat\n"
     ]
    },
    {
     "name": "stderr",
     "output_type": "stream",
     "text": [
      "/PUHTI_TYKKY_FRQGCcR/miniconda/envs/env1/lib/python3.10/site-packages/sklearn/discriminant_analysis.py:935: UserWarning: Variables are collinear\n",
      "  warnings.warn(\"Variables are collinear\")\n"
     ]
    },
    {
     "name": "stdout",
     "output_type": "stream",
     "text": [
      "User: sub_S11_Data.mat | Acc: 0.6818 | Prec: 0.7500 | Spec: 0.8182 | AUC: 0.8306 | Kappa: 0.3636\n",
      "User: sub_S13_Data.mat\n"
     ]
    },
    {
     "name": "stderr",
     "output_type": "stream",
     "text": [
      "/PUHTI_TYKKY_FRQGCcR/miniconda/envs/env1/lib/python3.10/site-packages/sklearn/discriminant_analysis.py:935: UserWarning: Variables are collinear\n",
      "  warnings.warn(\"Variables are collinear\")\n"
     ]
    },
    {
     "name": "stdout",
     "output_type": "stream",
     "text": [
      "User: sub_S13_Data.mat | Acc: 0.7083 | Prec: 1.0000 | Spec: 1.0000 | AUC: 0.9028 | Kappa: 0.4167\n",
      "User: sub_S14_Data.mat\n"
     ]
    },
    {
     "name": "stderr",
     "output_type": "stream",
     "text": [
      "/PUHTI_TYKKY_FRQGCcR/miniconda/envs/env1/lib/python3.10/site-packages/sklearn/discriminant_analysis.py:935: UserWarning: Variables are collinear\n",
      "  warnings.warn(\"Variables are collinear\")\n"
     ]
    },
    {
     "name": "stdout",
     "output_type": "stream",
     "text": [
      "User: sub_S14_Data.mat | Acc: 0.8095 | Prec: 0.7407 | Spec: 0.6667 | AUC: 0.9569 | Kappa: 0.6190\n",
      "User: sub_S15_Data.mat\n"
     ]
    },
    {
     "name": "stderr",
     "output_type": "stream",
     "text": [
      "/PUHTI_TYKKY_FRQGCcR/miniconda/envs/env1/lib/python3.10/site-packages/sklearn/discriminant_analysis.py:935: UserWarning: Variables are collinear\n",
      "  warnings.warn(\"Variables are collinear\")\n"
     ]
    },
    {
     "name": "stdout",
     "output_type": "stream",
     "text": [
      "User: sub_S15_Data.mat | Acc: 0.5455 | Prec: 0.6667 | Spec: 0.9091 | AUC: 0.4628 | Kappa: 0.0909\n",
      "LOO LOO1: Acc=0.6740, Prec=0.7648, Spec=0.8288, AUC=0.7667, Kappa=0.3481\n",
      "----- /scratch/project_2014260/data/LOO/LOO2/test\n",
      "User: sub_subject0_Data.mat\n"
     ]
    },
    {
     "name": "stderr",
     "output_type": "stream",
     "text": [
      "/PUHTI_TYKKY_FRQGCcR/miniconda/envs/env1/lib/python3.10/site-packages/sklearn/discriminant_analysis.py:935: UserWarning: Variables are collinear\n",
      "  warnings.warn(\"Variables are collinear\")\n"
     ]
    },
    {
     "name": "stdout",
     "output_type": "stream",
     "text": [
      "User: sub_subject0_Data.mat | Acc: 0.7115 | Prec: 0.6774 | Spec: 0.6154 | AUC: 0.7825 | Kappa: 0.4231\n",
      "User: sub_subject10_Data.mat\n"
     ]
    },
    {
     "name": "stderr",
     "output_type": "stream",
     "text": [
      "/PUHTI_TYKKY_FRQGCcR/miniconda/envs/env1/lib/python3.10/site-packages/sklearn/discriminant_analysis.py:935: UserWarning: Variables are collinear\n",
      "  warnings.warn(\"Variables are collinear\")\n"
     ]
    },
    {
     "name": "stdout",
     "output_type": "stream",
     "text": [
      "User: sub_subject10_Data.mat | Acc: 0.6176 | Prec: 0.5769 | Spec: 0.3529 | AUC: 0.5506 | Kappa: 0.2353\n",
      "User: sub_subject11_Data.mat\n"
     ]
    },
    {
     "name": "stderr",
     "output_type": "stream",
     "text": [
      "/PUHTI_TYKKY_FRQGCcR/miniconda/envs/env1/lib/python3.10/site-packages/sklearn/discriminant_analysis.py:935: UserWarning: Variables are collinear\n",
      "  warnings.warn(\"Variables are collinear\")\n"
     ]
    },
    {
     "name": "stdout",
     "output_type": "stream",
     "text": [
      "User: sub_subject11_Data.mat | Acc: 0.5800 | Prec: 0.5714 | Spec: 0.5200 | AUC: 0.7360 | Kappa: 0.1600\n",
      "User: sub_subject12_Data.mat\n"
     ]
    },
    {
     "name": "stderr",
     "output_type": "stream",
     "text": [
      "/PUHTI_TYKKY_FRQGCcR/miniconda/envs/env1/lib/python3.10/site-packages/sklearn/discriminant_analysis.py:935: UserWarning: Variables are collinear\n",
      "  warnings.warn(\"Variables are collinear\")\n"
     ]
    },
    {
     "name": "stdout",
     "output_type": "stream",
     "text": [
      "User: sub_subject12_Data.mat | Acc: 0.6923 | Prec: 0.6316 | Spec: 0.4615 | AUC: 0.7337 | Kappa: 0.3846\n",
      "User: sub_subject13_Data.mat\n"
     ]
    },
    {
     "name": "stderr",
     "output_type": "stream",
     "text": [
      "/PUHTI_TYKKY_FRQGCcR/miniconda/envs/env1/lib/python3.10/site-packages/sklearn/discriminant_analysis.py:935: UserWarning: Variables are collinear\n",
      "  warnings.warn(\"Variables are collinear\")\n"
     ]
    },
    {
     "name": "stdout",
     "output_type": "stream",
     "text": [
      "User: sub_subject13_Data.mat | Acc: 0.7708 | Prec: 0.8824 | Spec: 0.9167 | AUC: 0.7752 | Kappa: 0.5417\n",
      "LOO LOO2: Acc=0.6745, Prec=0.6679, Spec=0.5733, AUC=0.7156, Kappa=0.3489\n",
      "----- /scratch/project_2014260/data/LOO/LOO3/test\n",
      "User: sub_subject0_Data.mat\n"
     ]
    },
    {
     "name": "stderr",
     "output_type": "stream",
     "text": [
      "/PUHTI_TYKKY_FRQGCcR/miniconda/envs/env1/lib/python3.10/site-packages/sklearn/discriminant_analysis.py:935: UserWarning: Variables are collinear\n",
      "  warnings.warn(\"Variables are collinear\")\n"
     ]
    },
    {
     "name": "stdout",
     "output_type": "stream",
     "text": [
      "User: sub_subject0_Data.mat | Acc: 0.6038 | Prec: 0.5821 | Spec: 0.4717 | AUC: 0.6579 | Kappa: 0.2075\n",
      "User: sub_subject10_Data.mat\n"
     ]
    },
    {
     "name": "stderr",
     "output_type": "stream",
     "text": [
      "/PUHTI_TYKKY_FRQGCcR/miniconda/envs/env1/lib/python3.10/site-packages/sklearn/discriminant_analysis.py:935: UserWarning: Variables are collinear\n",
      "  warnings.warn(\"Variables are collinear\")\n"
     ]
    },
    {
     "name": "stdout",
     "output_type": "stream",
     "text": [
      "User: sub_subject10_Data.mat | Acc: 0.6500 | Prec: 0.6829 | Spec: 0.7400 | AUC: 0.7280 | Kappa: 0.3000\n",
      "LOO LOO3: Acc=0.6269, Prec=0.6325, Spec=0.6058, AUC=0.6929, Kappa=0.2538\n",
      "----- /scratch/project_2014260/data/LOO/LOO4/test\n",
      "User: sub_subject0_Data.mat\n"
     ]
    },
    {
     "name": "stderr",
     "output_type": "stream",
     "text": [
      "/PUHTI_TYKKY_FRQGCcR/miniconda/envs/env1/lib/python3.10/site-packages/sklearn/discriminant_analysis.py:935: UserWarning: Variables are collinear\n",
      "  warnings.warn(\"Variables are collinear\")\n"
     ]
    },
    {
     "name": "stdout",
     "output_type": "stream",
     "text": [
      "User: sub_subject0_Data.mat | Acc: 0.6000 | Prec: 1.0000 | Spec: 1.0000 | AUC: 0.4400 | Kappa: 0.2000\n",
      "User: sub_subject1_Data.mat\n"
     ]
    },
    {
     "name": "stderr",
     "output_type": "stream",
     "text": [
      "/PUHTI_TYKKY_FRQGCcR/miniconda/envs/env1/lib/python3.10/site-packages/sklearn/discriminant_analysis.py:935: UserWarning: Variables are collinear\n",
      "  warnings.warn(\"Variables are collinear\")\n"
     ]
    },
    {
     "name": "stdout",
     "output_type": "stream",
     "text": [
      "User: sub_subject1_Data.mat | Acc: 0.5714 | Prec: 0.5833 | Spec: 0.1667 | AUC: 0.5208 | Kappa: 0.0455\n",
      "User: sub_subject2_Data.mat\n"
     ]
    },
    {
     "name": "stderr",
     "output_type": "stream",
     "text": [
      "/PUHTI_TYKKY_FRQGCcR/miniconda/envs/env1/lib/python3.10/site-packages/sklearn/discriminant_analysis.py:935: UserWarning: Variables are collinear\n",
      "  warnings.warn(\"Variables are collinear\")\n"
     ]
    },
    {
     "name": "stdout",
     "output_type": "stream",
     "text": [
      "User: sub_subject2_Data.mat | Acc: 0.6875 | Prec: 0.6364 | Spec: 0.5000 | AUC: 0.6875 | Kappa: 0.3750\n",
      "User: sub_subject3_Data.mat\n"
     ]
    },
    {
     "name": "stderr",
     "output_type": "stream",
     "text": [
      "/PUHTI_TYKKY_FRQGCcR/miniconda/envs/env1/lib/python3.10/site-packages/sklearn/discriminant_analysis.py:935: UserWarning: Variables are collinear\n",
      "  warnings.warn(\"Variables are collinear\")\n"
     ]
    },
    {
     "name": "stdout",
     "output_type": "stream",
     "text": [
      "User: sub_subject3_Data.mat | Acc: 0.6875 | Prec: 1.0000 | Spec: 1.0000 | AUC: 0.8125 | Kappa: 0.3750\n",
      "User: sub_subject4_Data.mat\n"
     ]
    },
    {
     "name": "stderr",
     "output_type": "stream",
     "text": [
      "/PUHTI_TYKKY_FRQGCcR/miniconda/envs/env1/lib/python3.10/site-packages/sklearn/discriminant_analysis.py:935: UserWarning: Variables are collinear\n",
      "  warnings.warn(\"Variables are collinear\")\n"
     ]
    },
    {
     "name": "stdout",
     "output_type": "stream",
     "text": [
      "User: sub_subject4_Data.mat | Acc: 0.8333 | Prec: 0.7500 | Spec: 0.6667 | AUC: 0.8333 | Kappa: 0.6667\n",
      "LOO LOO4: Acc=0.6760, Prec=0.7939, Spec=0.6667, AUC=0.6588, Kappa=0.3324\n",
      "----- /scratch/project_2014260/data/LOO/LOO5/test\n",
      "User: sub_subject0_Data.mat\n"
     ]
    },
    {
     "name": "stderr",
     "output_type": "stream",
     "text": [
      "/PUHTI_TYKKY_FRQGCcR/miniconda/envs/env1/lib/python3.10/site-packages/sklearn/discriminant_analysis.py:935: UserWarning: Variables are collinear\n",
      "  warnings.warn(\"Variables are collinear\")\n"
     ]
    },
    {
     "name": "stdout",
     "output_type": "stream",
     "text": [
      "User: sub_subject0_Data.mat | Acc: 0.5714 | Prec: 0.6000 | Spec: 0.3333 | AUC: 0.5926 | Kappa: 0.0870\n",
      "User: sub_subject1_Data.mat\n"
     ]
    },
    {
     "name": "stderr",
     "output_type": "stream",
     "text": [
      "/PUHTI_TYKKY_FRQGCcR/miniconda/envs/env1/lib/python3.10/site-packages/sklearn/discriminant_analysis.py:935: UserWarning: Variables are collinear\n",
      "  warnings.warn(\"Variables are collinear\")\n"
     ]
    },
    {
     "name": "stdout",
     "output_type": "stream",
     "text": [
      "User: sub_subject1_Data.mat | Acc: 0.8750 | Prec: 0.8000 | Spec: 0.7500 | AUC: 0.8750 | Kappa: 0.7500\n",
      "User: sub_subject2_Data.mat\n"
     ]
    },
    {
     "name": "stderr",
     "output_type": "stream",
     "text": [
      "/PUHTI_TYKKY_FRQGCcR/miniconda/envs/env1/lib/python3.10/site-packages/sklearn/discriminant_analysis.py:935: UserWarning: Variables are collinear\n",
      "  warnings.warn(\"Variables are collinear\")\n"
     ]
    },
    {
     "name": "stdout",
     "output_type": "stream",
     "text": [
      "User: sub_subject2_Data.mat | Acc: 0.5000 | Prec: 0.5000 | Spec: 0.0000 | AUC: 0.4500 | Kappa: 0.0000\n",
      "User: sub_subject3_Data.mat\n"
     ]
    },
    {
     "name": "stderr",
     "output_type": "stream",
     "text": [
      "/PUHTI_TYKKY_FRQGCcR/miniconda/envs/env1/lib/python3.10/site-packages/sklearn/discriminant_analysis.py:935: UserWarning: Variables are collinear\n",
      "  warnings.warn(\"Variables are collinear\")\n"
     ]
    },
    {
     "name": "stdout",
     "output_type": "stream",
     "text": [
      "User: sub_subject3_Data.mat | Acc: 0.5000 | Prec: 0.5000 | Spec: 0.1000 | AUC: 0.4050 | Kappa: 0.0000\n",
      "User: sub_subject4_Data.mat\n"
     ]
    },
    {
     "name": "stderr",
     "output_type": "stream",
     "text": [
      "/PUHTI_TYKKY_FRQGCcR/miniconda/envs/env1/lib/python3.10/site-packages/sklearn/discriminant_analysis.py:935: UserWarning: Variables are collinear\n",
      "  warnings.warn(\"Variables are collinear\")\n"
     ]
    },
    {
     "name": "stdout",
     "output_type": "stream",
     "text": [
      "User: sub_subject4_Data.mat | Acc: 0.5500 | Prec: 0.5789 | Spec: 0.0000 | AUC: 0.4583 | Kappa: -0.0976\n",
      "LOO LOO5: Acc=0.5993, Prec=0.5958, Spec=0.2367, AUC=0.5562, Kappa=0.1479\n",
      "----- /scratch/project_2014260/data/LOO/LOO6/test\n",
      "User: sub_subject0_Data.mat\n"
     ]
    },
    {
     "name": "stderr",
     "output_type": "stream",
     "text": [
      "/PUHTI_TYKKY_FRQGCcR/miniconda/envs/env1/lib/python3.10/site-packages/sklearn/discriminant_analysis.py:935: UserWarning: Variables are collinear\n",
      "  warnings.warn(\"Variables are collinear\")\n"
     ]
    },
    {
     "name": "stdout",
     "output_type": "stream",
     "text": [
      "User: sub_subject0_Data.mat | Acc: 0.4500 | Prec: 0.5333 | Spec: 0.1250 | AUC: 0.4375 | Kappa: -0.2222\n",
      "User: sub_subject1_Data.mat\n"
     ]
    },
    {
     "name": "stderr",
     "output_type": "stream",
     "text": [
      "/PUHTI_TYKKY_FRQGCcR/miniconda/envs/env1/lib/python3.10/site-packages/sklearn/discriminant_analysis.py:935: UserWarning: Variables are collinear\n",
      "  warnings.warn(\"Variables are collinear\")\n"
     ]
    },
    {
     "name": "stdout",
     "output_type": "stream",
     "text": [
      "User: sub_subject1_Data.mat | Acc: 0.5000 | Prec: 0.5333 | Spec: 0.2222 | AUC: 0.4899 | Kappa: -0.0526\n",
      "User: sub_subject2_Data.mat\n"
     ]
    },
    {
     "name": "stderr",
     "output_type": "stream",
     "text": [
      "/PUHTI_TYKKY_FRQGCcR/miniconda/envs/env1/lib/python3.10/site-packages/sklearn/discriminant_analysis.py:935: UserWarning: Variables are collinear\n",
      "  warnings.warn(\"Variables are collinear\")\n"
     ]
    },
    {
     "name": "stdout",
     "output_type": "stream",
     "text": [
      "User: sub_subject2_Data.mat | Acc: 0.5714 | Prec: 0.5882 | Spec: 0.2222 | AUC: 0.5278 | Kappa: 0.0597\n",
      "User: sub_subject3_Data.mat\n"
     ]
    },
    {
     "name": "stderr",
     "output_type": "stream",
     "text": [
      "/PUHTI_TYKKY_FRQGCcR/miniconda/envs/env1/lib/python3.10/site-packages/sklearn/discriminant_analysis.py:935: UserWarning: Variables are collinear\n",
      "  warnings.warn(\"Variables are collinear\")\n"
     ]
    },
    {
     "name": "stdout",
     "output_type": "stream",
     "text": [
      "User: sub_subject3_Data.mat | Acc: 0.5455 | Prec: 0.5882 | Spec: 0.2222 | AUC: 0.4658 | Kappa: -0.0092\n",
      "User: sub_subject4_Data.mat\n"
     ]
    },
    {
     "name": "stderr",
     "output_type": "stream",
     "text": [
      "/PUHTI_TYKKY_FRQGCcR/miniconda/envs/env1/lib/python3.10/site-packages/sklearn/discriminant_analysis.py:935: UserWarning: Variables are collinear\n",
      "  warnings.warn(\"Variables are collinear\")\n"
     ]
    },
    {
     "name": "stdout",
     "output_type": "stream",
     "text": [
      "User: sub_subject4_Data.mat | Acc: 0.4091 | Prec: 0.4737 | Spec: 0.0000 | AUC: 0.3333 | Kappa: -0.2655\n",
      "LOO LOO6: Acc=0.4952, Prec=0.5434, Spec=0.1583, AUC=0.4509, Kappa=-0.0980\n",
      "----- /scratch/project_2014260/data/LOO/LOO7/test\n",
      "User: sub_subject0_Data.mat\n"
     ]
    },
    {
     "name": "stderr",
     "output_type": "stream",
     "text": [
      "/PUHTI_TYKKY_FRQGCcR/miniconda/envs/env1/lib/python3.10/site-packages/sklearn/discriminant_analysis.py:935: UserWarning: Variables are collinear\n",
      "  warnings.warn(\"Variables are collinear\")\n"
     ]
    },
    {
     "name": "stdout",
     "output_type": "stream",
     "text": [
      "User: sub_subject0_Data.mat | Acc: 0.5294 | Prec: 0.5294 | Spec: 0.0000 | AUC: 0.5000 | Kappa: 0.0000\n",
      "User: sub_subject1_Data.mat\n"
     ]
    },
    {
     "name": "stderr",
     "output_type": "stream",
     "text": [
      "/PUHTI_TYKKY_FRQGCcR/miniconda/envs/env1/lib/python3.10/site-packages/sklearn/discriminant_analysis.py:935: UserWarning: Variables are collinear\n",
      "  warnings.warn(\"Variables are collinear\")\n"
     ]
    },
    {
     "name": "stdout",
     "output_type": "stream",
     "text": [
      "User: sub_subject1_Data.mat | Acc: 0.5000 | Prec: 0.5000 | Spec: 0.0000 | AUC: 0.5000 | Kappa: 0.0000\n",
      "User: sub_subject2_Data.mat\n"
     ]
    },
    {
     "name": "stderr",
     "output_type": "stream",
     "text": [
      "/PUHTI_TYKKY_FRQGCcR/miniconda/envs/env1/lib/python3.10/site-packages/sklearn/discriminant_analysis.py:935: UserWarning: Variables are collinear\n",
      "  warnings.warn(\"Variables are collinear\")\n"
     ]
    },
    {
     "name": "stdout",
     "output_type": "stream",
     "text": [
      "User: sub_subject2_Data.mat | Acc: 0.5500 | Prec: 0.5500 | Spec: 0.0000 | AUC: 0.5000 | Kappa: 0.0000\n",
      "User: sub_subject3_Data.mat\n"
     ]
    },
    {
     "name": "stderr",
     "output_type": "stream",
     "text": [
      "/PUHTI_TYKKY_FRQGCcR/miniconda/envs/env1/lib/python3.10/site-packages/sklearn/discriminant_analysis.py:935: UserWarning: Variables are collinear\n",
      "  warnings.warn(\"Variables are collinear\")\n"
     ]
    },
    {
     "name": "stdout",
     "output_type": "stream",
     "text": [
      "User: sub_subject3_Data.mat | Acc: 0.6190 | Prec: 0.6190 | Spec: 0.0000 | AUC: 0.5000 | Kappa: 0.0000\n",
      "User: sub_subject4_Data.mat\n"
     ]
    },
    {
     "name": "stderr",
     "output_type": "stream",
     "text": [
      "/PUHTI_TYKKY_FRQGCcR/miniconda/envs/env1/lib/python3.10/site-packages/sklearn/discriminant_analysis.py:935: UserWarning: Variables are collinear\n",
      "  warnings.warn(\"Variables are collinear\")\n"
     ]
    },
    {
     "name": "stdout",
     "output_type": "stream",
     "text": [
      "User: sub_subject4_Data.mat | Acc: 0.5500 | Prec: 0.5500 | Spec: 0.0000 | AUC: 0.5000 | Kappa: 0.0000\n",
      "LOO LOO7: Acc=0.5497, Prec=0.5497, Spec=0.0000, AUC=0.5000, Kappa=0.0000\n",
      "----- /scratch/project_2014260/data/LOO/LOO8/test\n",
      "User: sub_UN_101_Data.mat\n"
     ]
    },
    {
     "name": "stderr",
     "output_type": "stream",
     "text": [
      "/PUHTI_TYKKY_FRQGCcR/miniconda/envs/env1/lib/python3.10/site-packages/sklearn/discriminant_analysis.py:935: UserWarning: Variables are collinear\n",
      "  warnings.warn(\"Variables are collinear\")\n"
     ]
    },
    {
     "name": "stdout",
     "output_type": "stream",
     "text": [
      "User: sub_UN_101_Data.mat | Acc: 0.6667 | Prec: 0.6000 | Spec: 0.3333 | AUC: 0.8333 | Kappa: 0.3333\n",
      "User: sub_UN_103_Data.mat\n"
     ]
    },
    {
     "name": "stderr",
     "output_type": "stream",
     "text": [
      "/PUHTI_TYKKY_FRQGCcR/miniconda/envs/env1/lib/python3.10/site-packages/sklearn/discriminant_analysis.py:935: UserWarning: Variables are collinear\n",
      "  warnings.warn(\"Variables are collinear\")\n"
     ]
    },
    {
     "name": "stdout",
     "output_type": "stream",
     "text": [
      "User: sub_UN_103_Data.mat | Acc: 0.5000 | Prec: 0.5000 | Spec: 0.0000 | AUC: 0.5000 | Kappa: 0.0000\n",
      "User: sub_UN_104_Data.mat\n"
     ]
    },
    {
     "name": "stderr",
     "output_type": "stream",
     "text": [
      "/PUHTI_TYKKY_FRQGCcR/miniconda/envs/env1/lib/python3.10/site-packages/sklearn/discriminant_analysis.py:935: UserWarning: Variables are collinear\n",
      "  warnings.warn(\"Variables are collinear\")\n"
     ]
    },
    {
     "name": "stdout",
     "output_type": "stream",
     "text": [
      "User: sub_UN_104_Data.mat | Acc: 0.8889 | Prec: 0.8182 | Spec: 0.7778 | AUC: 0.9722 | Kappa: 0.7778\n",
      "User: sub_UN_105_Data.mat\n"
     ]
    },
    {
     "name": "stderr",
     "output_type": "stream",
     "text": [
      "/PUHTI_TYKKY_FRQGCcR/miniconda/envs/env1/lib/python3.10/site-packages/sklearn/discriminant_analysis.py:935: UserWarning: Variables are collinear\n",
      "  warnings.warn(\"Variables are collinear\")\n"
     ]
    },
    {
     "name": "stdout",
     "output_type": "stream",
     "text": [
      "User: sub_UN_105_Data.mat | Acc: 0.8333 | Prec: 0.9286 | Spec: 0.9444 | AUC: 0.7515 | Kappa: 0.6667\n",
      "User: sub_UN_106_Data.mat\n"
     ]
    },
    {
     "name": "stderr",
     "output_type": "stream",
     "text": [
      "/PUHTI_TYKKY_FRQGCcR/miniconda/envs/env1/lib/python3.10/site-packages/sklearn/discriminant_analysis.py:935: UserWarning: Variables are collinear\n",
      "  warnings.warn(\"Variables are collinear\")\n"
     ]
    },
    {
     "name": "stdout",
     "output_type": "stream",
     "text": [
      "User: sub_UN_106_Data.mat | Acc: 0.9444 | Prec: 0.9000 | Spec: 0.8889 | AUC: 0.9722 | Kappa: 0.8889\n",
      "LOO LOO8: Acc=0.7667, Prec=0.7494, Spec=0.5889, AUC=0.8059, Kappa=0.5333\n",
      "----- /scratch/project_2014260/data/LOO/LOO9/test\n",
      "User: sub_UN_101_Data.mat\n"
     ]
    },
    {
     "name": "stderr",
     "output_type": "stream",
     "text": [
      "/PUHTI_TYKKY_FRQGCcR/miniconda/envs/env1/lib/python3.10/site-packages/sklearn/discriminant_analysis.py:935: UserWarning: Variables are collinear\n",
      "  warnings.warn(\"Variables are collinear\")\n"
     ]
    },
    {
     "name": "stdout",
     "output_type": "stream",
     "text": [
      "User: sub_UN_101_Data.mat | Acc: 0.8889 | Prec: 0.8182 | Spec: 0.7778 | AUC: 0.8981 | Kappa: 0.7778\n",
      "User: sub_UN_102_Data.mat\n"
     ]
    },
    {
     "name": "stderr",
     "output_type": "stream",
     "text": [
      "/PUHTI_TYKKY_FRQGCcR/miniconda/envs/env1/lib/python3.10/site-packages/sklearn/discriminant_analysis.py:935: UserWarning: Variables are collinear\n",
      "  warnings.warn(\"Variables are collinear\")\n"
     ]
    },
    {
     "name": "stdout",
     "output_type": "stream",
     "text": [
      "User: sub_UN_102_Data.mat | Acc: 0.8056 | Prec: 0.7391 | Spec: 0.6667 | AUC: 0.8642 | Kappa: 0.6111\n",
      "User: sub_UN_103_Data.mat\n"
     ]
    },
    {
     "name": "stderr",
     "output_type": "stream",
     "text": [
      "/PUHTI_TYKKY_FRQGCcR/miniconda/envs/env1/lib/python3.10/site-packages/sklearn/discriminant_analysis.py:935: UserWarning: Variables are collinear\n",
      "  warnings.warn(\"Variables are collinear\")\n"
     ]
    },
    {
     "name": "stdout",
     "output_type": "stream",
     "text": [
      "User: sub_UN_103_Data.mat | Acc: 0.5556 | Prec: 0.6250 | Spec: 0.8333 | AUC: 0.8364 | Kappa: 0.1111\n",
      "User: sub_UN_104_Data.mat\n"
     ]
    },
    {
     "name": "stderr",
     "output_type": "stream",
     "text": [
      "/PUHTI_TYKKY_FRQGCcR/miniconda/envs/env1/lib/python3.10/site-packages/sklearn/discriminant_analysis.py:935: UserWarning: Variables are collinear\n",
      "  warnings.warn(\"Variables are collinear\")\n"
     ]
    },
    {
     "name": "stdout",
     "output_type": "stream",
     "text": [
      "User: sub_UN_104_Data.mat | Acc: 0.5000 | Prec: 0.0000 | Spec: 1.0000 | AUC: 0.9352 | Kappa: 0.0000\n",
      "User: sub_UN_105_Data.mat\n"
     ]
    },
    {
     "name": "stderr",
     "output_type": "stream",
     "text": [
      "/PUHTI_TYKKY_FRQGCcR/miniconda/envs/env1/lib/python3.10/site-packages/sklearn/discriminant_analysis.py:935: UserWarning: Variables are collinear\n",
      "  warnings.warn(\"Variables are collinear\")\n"
     ]
    },
    {
     "name": "stdout",
     "output_type": "stream",
     "text": [
      "User: sub_UN_105_Data.mat | Acc: 0.6111 | Prec: 0.8333 | Spec: 0.9444 | AUC: 0.7747 | Kappa: 0.2222\n",
      "LOO LOO9: Acc=0.6722, Prec=0.6031, Spec=0.8444, AUC=0.8617, Kappa=0.3444\n",
      "----- /scratch/project_2014260/data/LOO/LOO10/test\n",
      "User: sub_UN_101_Data.mat\n"
     ]
    },
    {
     "name": "stderr",
     "output_type": "stream",
     "text": [
      "/PUHTI_TYKKY_FRQGCcR/miniconda/envs/env1/lib/python3.10/site-packages/sklearn/discriminant_analysis.py:935: UserWarning: Variables are collinear\n",
      "  warnings.warn(\"Variables are collinear\")\n"
     ]
    },
    {
     "name": "stdout",
     "output_type": "stream",
     "text": [
      "User: sub_UN_101_Data.mat | Acc: 0.5000 | Prec: 0.5000 | Spec: 0.0000 | AUC: 0.5000 | Kappa: 0.0000\n",
      "User: sub_UN_104_Data.mat\n"
     ]
    },
    {
     "name": "stderr",
     "output_type": "stream",
     "text": [
      "/PUHTI_TYKKY_FRQGCcR/miniconda/envs/env1/lib/python3.10/site-packages/sklearn/discriminant_analysis.py:935: UserWarning: Variables are collinear\n",
      "  warnings.warn(\"Variables are collinear\")\n"
     ]
    },
    {
     "name": "stdout",
     "output_type": "stream",
     "text": [
      "User: sub_UN_104_Data.mat | Acc: 0.3594 | Prec: 0.4545 | Spec: 0.1111 | AUC: 0.3213 | Kappa: -0.3610\n",
      "User: sub_UN_108_Data.mat\n"
     ]
    },
    {
     "name": "stderr",
     "output_type": "stream",
     "text": [
      "/PUHTI_TYKKY_FRQGCcR/miniconda/envs/env1/lib/python3.10/site-packages/sklearn/discriminant_analysis.py:935: UserWarning: Variables are collinear\n",
      "  warnings.warn(\"Variables are collinear\")\n"
     ]
    },
    {
     "name": "stdout",
     "output_type": "stream",
     "text": [
      "User: sub_UN_108_Data.mat | Acc: 0.5000 | Prec: 0.5000 | Spec: 0.1250 | AUC: 0.4922 | Kappa: 0.0000\n",
      "User: sub_UN_109_Data.mat\n"
     ]
    },
    {
     "name": "stderr",
     "output_type": "stream",
     "text": [
      "/PUHTI_TYKKY_FRQGCcR/miniconda/envs/env1/lib/python3.10/site-packages/sklearn/discriminant_analysis.py:935: UserWarning: Variables are collinear\n",
      "  warnings.warn(\"Variables are collinear\")\n"
     ]
    },
    {
     "name": "stdout",
     "output_type": "stream",
     "text": [
      "User: sub_UN_109_Data.mat | Acc: 0.3800 | Prec: 0.4318 | Spec: 0.0000 | AUC: 0.3800 | Kappa: -0.2400\n",
      "User: sub_UN_110_Data.mat\n"
     ]
    },
    {
     "name": "stderr",
     "output_type": "stream",
     "text": [
      "/PUHTI_TYKKY_FRQGCcR/miniconda/envs/env1/lib/python3.10/site-packages/sklearn/discriminant_analysis.py:935: UserWarning: Variables are collinear\n",
      "  warnings.warn(\"Variables are collinear\")\n"
     ]
    },
    {
     "name": "stdout",
     "output_type": "stream",
     "text": [
      "User: sub_UN_110_Data.mat | Acc: 0.5000 | Prec: 0.5000 | Spec: 0.0000 | AUC: 0.5000 | Kappa: 0.0000\n",
      "LOO LOO10: Acc=0.4479, Prec=0.4773, Spec=0.0472, AUC=0.4387, Kappa=-0.1202\n",
      "----- /scratch/project_2014260/data/LOO/LOO11/test\n",
      "User: sub_UN_113_Data.mat\n"
     ]
    },
    {
     "name": "stderr",
     "output_type": "stream",
     "text": [
      "/PUHTI_TYKKY_FRQGCcR/miniconda/envs/env1/lib/python3.10/site-packages/sklearn/discriminant_analysis.py:935: UserWarning: Variables are collinear\n",
      "  warnings.warn(\"Variables are collinear\")\n"
     ]
    },
    {
     "name": "stdout",
     "output_type": "stream",
     "text": [
      "User: sub_UN_113_Data.mat | Acc: 0.5000 | Prec: 0.5000 | Spec: 0.0556 | AUC: 0.4753 | Kappa: 0.0000\n",
      "User: sub_UN_114_Data.mat\n"
     ]
    },
    {
     "name": "stderr",
     "output_type": "stream",
     "text": [
      "/PUHTI_TYKKY_FRQGCcR/miniconda/envs/env1/lib/python3.10/site-packages/sklearn/discriminant_analysis.py:935: UserWarning: Variables are collinear\n",
      "  warnings.warn(\"Variables are collinear\")\n"
     ]
    },
    {
     "name": "stdout",
     "output_type": "stream",
     "text": [
      "User: sub_UN_114_Data.mat | Acc: 0.5000 | Prec: 0.5000 | Spec: 0.2778 | AUC: 0.4830 | Kappa: 0.0000\n",
      "User: sub_UN_115_Data.mat\n"
     ]
    },
    {
     "name": "stderr",
     "output_type": "stream",
     "text": [
      "/PUHTI_TYKKY_FRQGCcR/miniconda/envs/env1/lib/python3.10/site-packages/sklearn/discriminant_analysis.py:935: UserWarning: Variables are collinear\n",
      "  warnings.warn(\"Variables are collinear\")\n"
     ]
    },
    {
     "name": "stdout",
     "output_type": "stream",
     "text": [
      "User: sub_UN_115_Data.mat | Acc: 0.5000 | Prec: 0.5000 | Spec: 0.0000 | AUC: 0.9938 | Kappa: 0.0000\n",
      "User: sub_UN_116_Data.mat\n"
     ]
    },
    {
     "name": "stderr",
     "output_type": "stream",
     "text": [
      "/PUHTI_TYKKY_FRQGCcR/miniconda/envs/env1/lib/python3.10/site-packages/sklearn/discriminant_analysis.py:935: UserWarning: Variables are collinear\n",
      "  warnings.warn(\"Variables are collinear\")\n"
     ]
    },
    {
     "name": "stdout",
     "output_type": "stream",
     "text": [
      "User: sub_UN_116_Data.mat | Acc: 0.3333 | Prec: 0.3125 | Spec: 0.3889 | AUC: 0.3827 | Kappa: -0.3333\n",
      "User: sub_UN_117_Data.mat\n"
     ]
    },
    {
     "name": "stderr",
     "output_type": "stream",
     "text": [
      "/PUHTI_TYKKY_FRQGCcR/miniconda/envs/env1/lib/python3.10/site-packages/sklearn/discriminant_analysis.py:935: UserWarning: Variables are collinear\n",
      "  warnings.warn(\"Variables are collinear\")\n"
     ]
    },
    {
     "name": "stdout",
     "output_type": "stream",
     "text": [
      "User: sub_UN_117_Data.mat | Acc: 0.5833 | Prec: 0.5484 | Spec: 0.2222 | AUC: 0.5864 | Kappa: 0.1667\n",
      "LOO LOO11: Acc=0.4833, Prec=0.4722, Spec=0.1889, AUC=0.5843, Kappa=-0.0333\n",
      "----- /scratch/project_2014260/data/LOO/LOO12/test\n",
      "User: sub_UN_113_Data.mat\n"
     ]
    },
    {
     "name": "stderr",
     "output_type": "stream",
     "text": [
      "/PUHTI_TYKKY_FRQGCcR/miniconda/envs/env1/lib/python3.10/site-packages/sklearn/discriminant_analysis.py:935: UserWarning: Variables are collinear\n",
      "  warnings.warn(\"Variables are collinear\")\n"
     ]
    },
    {
     "name": "stdout",
     "output_type": "stream",
     "text": [
      "User: sub_UN_113_Data.mat | Acc: 0.5833 | Prec: 0.5455 | Spec: 0.1667 | AUC: 0.5833 | Kappa: 0.1667\n",
      "User: sub_UN_114_Data.mat\n"
     ]
    },
    {
     "name": "stderr",
     "output_type": "stream",
     "text": [
      "/PUHTI_TYKKY_FRQGCcR/miniconda/envs/env1/lib/python3.10/site-packages/sklearn/discriminant_analysis.py:935: UserWarning: Variables are collinear\n",
      "  warnings.warn(\"Variables are collinear\")\n"
     ]
    },
    {
     "name": "stdout",
     "output_type": "stream",
     "text": [
      "User: sub_UN_114_Data.mat | Acc: 0.8889 | Prec: 0.8182 | Spec: 0.7778 | AUC: 0.8889 | Kappa: 0.7778\n",
      "User: sub_UN_115_Data.mat\n"
     ]
    },
    {
     "name": "stderr",
     "output_type": "stream",
     "text": [
      "/PUHTI_TYKKY_FRQGCcR/miniconda/envs/env1/lib/python3.10/site-packages/sklearn/discriminant_analysis.py:935: UserWarning: Variables are collinear\n",
      "  warnings.warn(\"Variables are collinear\")\n"
     ]
    },
    {
     "name": "stdout",
     "output_type": "stream",
     "text": [
      "User: sub_UN_115_Data.mat | Acc: 0.7500 | Prec: 0.6667 | Spec: 0.5000 | AUC: 0.8889 | Kappa: 0.5000\n",
      "User: sub_UN_116_Data.mat\n"
     ]
    },
    {
     "name": "stderr",
     "output_type": "stream",
     "text": [
      "/PUHTI_TYKKY_FRQGCcR/miniconda/envs/env1/lib/python3.10/site-packages/sklearn/discriminant_analysis.py:935: UserWarning: Variables are collinear\n",
      "  warnings.warn(\"Variables are collinear\")\n"
     ]
    },
    {
     "name": "stdout",
     "output_type": "stream",
     "text": [
      "User: sub_UN_116_Data.mat | Acc: 0.6667 | Prec: 0.6000 | Spec: 0.3333 | AUC: 0.7222 | Kappa: 0.3333\n",
      "User: sub_UN_117_Data.mat\n"
     ]
    },
    {
     "name": "stderr",
     "output_type": "stream",
     "text": [
      "/PUHTI_TYKKY_FRQGCcR/miniconda/envs/env1/lib/python3.10/site-packages/sklearn/discriminant_analysis.py:935: UserWarning: Variables are collinear\n",
      "  warnings.warn(\"Variables are collinear\")\n"
     ]
    },
    {
     "name": "stdout",
     "output_type": "stream",
     "text": [
      "User: sub_UN_117_Data.mat | Acc: 0.6111 | Prec: 0.5769 | Spec: 0.3889 | AUC: 0.6574 | Kappa: 0.2222\n",
      "LOO LOO12: Acc=0.7000, Prec=0.6414, Spec=0.4333, AUC=0.7481, Kappa=0.4000\n",
      "MEAN: Acc=0.6138, Prec=0.6243, Spec=0.4310, AUC=0.6483, Kappa=0.2048\n",
      "Results saved to louo_qda_results.csv\n",
      "      LOO  Accuracy  Precision  Specificity     AUROC     Kappa\n",
      "0    LOO1  0.674026   0.764815     0.828788  0.766728  0.348052\n",
      "1    LOO2  0.674465   0.667941     0.573306  0.715610  0.348931\n",
      "2    LOO3  0.626887   0.632508     0.605849  0.692943  0.253774\n",
      "3    LOO4  0.675952   0.793939     0.666667  0.658833  0.332424\n",
      "4    LOO5  0.599286   0.595789     0.236667  0.556185  0.147879\n",
      "5    LOO6  0.495195   0.543364     0.158333  0.450864 -0.097963\n",
      "6    LOO7  0.549692   0.549692     0.000000  0.500000  0.000000\n",
      "7    LOO8  0.766667   0.749351     0.588889  0.805864  0.533333\n",
      "8    LOO9  0.672222   0.603129     0.844444  0.861728  0.344444\n",
      "9   LOO10  0.447875   0.477273     0.047222  0.438702 -0.120199\n",
      "10  LOO11  0.483333   0.472177     0.188889  0.584259 -0.033333\n",
      "11  LOO12  0.700000   0.641445     0.433333  0.748148  0.400000\n",
      "\n",
      "===== Running LOGREG =====\n",
      "\n",
      "----- /scratch/project_2014260/data/LOO/LOO1/test\n",
      "User: sub_S10_Data.mat\n",
      "User: sub_S10_Data.mat | Acc: 0.5417 | Prec: 1.0000 | Spec: 1.0000 | AUC: 0.7431 | Kappa: 0.0833\n",
      "User: sub_S11_Data.mat\n",
      "User: sub_S11_Data.mat | Acc: 0.9318 | Prec: 1.0000 | Spec: 1.0000 | AUC: 0.9917 | Kappa: 0.8636\n",
      "User: sub_S13_Data.mat\n",
      "User: sub_S13_Data.mat | Acc: 0.7083 | Prec: 0.8571 | Spec: 0.9167 | AUC: 0.7569 | Kappa: 0.4167\n",
      "User: sub_S14_Data.mat\n",
      "User: sub_S14_Data.mat | Acc: 0.5238 | Prec: 0.5556 | Spec: 0.8095 | AUC: 0.8345 | Kappa: 0.0476\n",
      "User: sub_S15_Data.mat\n",
      "User: sub_S15_Data.mat | Acc: 0.6364 | Prec: 1.0000 | Spec: 1.0000 | AUC: 0.8264 | Kappa: 0.2727\n",
      "LOO LOO1: Acc=0.6684, Prec=0.8825, Spec=0.9452, AUC=0.8305, Kappa=0.3368\n",
      "----- /scratch/project_2014260/data/LOO/LOO2/test\n",
      "User: sub_subject0_Data.mat\n",
      "User: sub_subject0_Data.mat | Acc: 0.6731 | Prec: 0.6154 | Spec: 0.4231 | AUC: 0.7899 | Kappa: 0.3462\n",
      "User: sub_subject10_Data.mat\n",
      "User: sub_subject10_Data.mat | Acc: 0.6471 | Prec: 0.6923 | Spec: 0.7647 | AUC: 0.6981 | Kappa: 0.2941\n",
      "User: sub_subject11_Data.mat\n",
      "User: sub_subject11_Data.mat | Acc: 0.5400 | Prec: 0.5714 | Spec: 0.7600 | AUC: 0.6528 | Kappa: 0.0800\n",
      "User: sub_subject12_Data.mat\n",
      "User: sub_subject12_Data.mat | Acc: 0.6538 | Prec: 0.6250 | Spec: 0.5385 | AUC: 0.7012 | Kappa: 0.3077\n",
      "User: sub_subject13_Data.mat\n",
      "User: sub_subject13_Data.mat | Acc: 0.5625 | Prec: 0.6000 | Spec: 0.7500 | AUC: 0.6962 | Kappa: 0.1250\n",
      "LOO LOO2: Acc=0.6153, Prec=0.6208, Spec=0.6472, AUC=0.7076, Kappa=0.2306\n",
      "----- /scratch/project_2014260/data/LOO/LOO3/test\n",
      "User: sub_subject0_Data.mat\n",
      "User: sub_subject0_Data.mat | Acc: 0.2830 | Prec: 0.1515 | Spec: 0.4717 | AUC: 0.3058 | Kappa: -0.4340\n",
      "User: sub_subject10_Data.mat\n",
      "User: sub_subject10_Data.mat | Acc: 0.7000 | Prec: 0.8846 | Spec: 0.9400 | AUC: 0.8020 | Kappa: 0.4000\n",
      "LOO LOO3: Acc=0.4915, Prec=0.5181, Spec=0.7058, AUC=0.5539, Kappa=-0.0170\n",
      "----- /scratch/project_2014260/data/LOO/LOO4/test\n",
      "User: sub_subject0_Data.mat\n",
      "User: sub_subject0_Data.mat | Acc: 0.6500 | Prec: 0.8000 | Spec: 0.9000 | AUC: 0.6100 | Kappa: 0.3000\n",
      "User: sub_subject1_Data.mat\n",
      "User: sub_subject1_Data.mat | Acc: 0.6071 | Prec: 0.6000 | Spec: 0.1667 | AUC: 0.6198 | Kappa: 0.1149\n",
      "User: sub_subject2_Data.mat\n",
      "User: sub_subject2_Data.mat | Acc: 0.6875 | Prec: 0.8000 | Spec: 0.8750 | AUC: 0.8438 | Kappa: 0.3750\n",
      "User: sub_subject3_Data.mat\n",
      "User: sub_subject3_Data.mat | Acc: 0.5000 | Prec: 0.5000 | Spec: 0.8750 | AUC: 0.7344 | Kappa: 0.0000\n",
      "User: sub_subject4_Data.mat\n",
      "User: sub_subject4_Data.mat | Acc: 0.3889 | Prec: 0.2500 | Spec: 0.6667 | AUC: 0.5802 | Kappa: -0.2222\n",
      "LOO LOO4: Acc=0.5667, Prec=0.5900, Spec=0.6967, AUC=0.6776, Kappa=0.1135\n",
      "----- /scratch/project_2014260/data/LOO/LOO5/test\n",
      "User: sub_subject0_Data.mat\n",
      "User: sub_subject0_Data.mat | Acc: 0.4762 | Prec: 0.5385 | Spec: 0.3333 | AUC: 0.5000 | Kappa: -0.0845\n",
      "User: sub_subject1_Data.mat\n",
      "User: sub_subject1_Data.mat | Acc: 0.7500 | Prec: 0.6667 | Spec: 0.5000 | AUC: 0.8594 | Kappa: 0.5000\n",
      "User: sub_subject2_Data.mat\n",
      "User: sub_subject2_Data.mat | Acc: 0.9000 | Prec: 0.8333 | Spec: 0.8000 | AUC: 0.9300 | Kappa: 0.8000\n",
      "User: sub_subject3_Data.mat\n",
      "User: sub_subject3_Data.mat | Acc: 0.9000 | Prec: 0.9000 | Spec: 0.9000 | AUC: 0.9000 | Kappa: 0.8000\n",
      "User: sub_subject4_Data.mat\n",
      "User: sub_subject4_Data.mat | Acc: 0.7000 | Prec: 0.6667 | Spec: 0.2500 | AUC: 0.6562 | Kappa: 0.2857\n",
      "LOO LOO5: Acc=0.7452, Prec=0.7210, Spec=0.5567, AUC=0.7691, Kappa=0.4602\n",
      "----- /scratch/project_2014260/data/LOO/LOO6/test\n",
      "User: sub_subject0_Data.mat\n",
      "User: sub_subject0_Data.mat | Acc: 0.4500 | Prec: 0.5714 | Spec: 0.6250 | AUC: 0.3958 | Kappa: -0.0377\n",
      "User: sub_subject1_Data.mat\n",
      "User: sub_subject1_Data.mat | Acc: 0.7000 | Prec: 1.0000 | Spec: 1.0000 | AUC: 0.8788 | Kappa: 0.4286\n",
      "User: sub_subject2_Data.mat\n",
      "User: sub_subject2_Data.mat | Acc: 0.5714 | Prec: 0.5714 | Spec: 0.0000 | AUC: 0.3796 | Kappa: 0.0000\n",
      "User: sub_subject3_Data.mat\n",
      "User: sub_subject3_Data.mat | Acc: 0.5909 | Prec: 0.6667 | Spec: 0.5556 | AUC: 0.6496 | Kappa: 0.1681\n",
      "User: sub_subject4_Data.mat\n",
      "User: sub_subject4_Data.mat | Acc: 0.6818 | Prec: 0.7273 | Spec: 0.7000 | AUC: 0.7333 | Kappa: 0.3636\n",
      "LOO LOO6: Acc=0.5988, Prec=0.7074, Spec=0.5761, AUC=0.6074, Kappa=0.1845\n",
      "----- /scratch/project_2014260/data/LOO/LOO7/test\n",
      "User: sub_subject0_Data.mat\n",
      "User: sub_subject0_Data.mat | Acc: 0.8824 | Prec: 0.8182 | Spec: 0.7500 | AUC: 0.7778 | Kappa: 0.7606\n",
      "User: sub_subject1_Data.mat\n",
      "User: sub_subject1_Data.mat | Acc: 0.5000 | Prec: 0.5000 | Spec: 0.0000 | AUC: 0.7100 | Kappa: 0.0000\n",
      "User: sub_subject2_Data.mat\n",
      "User: sub_subject2_Data.mat | Acc: 0.5000 | Prec: 0.5385 | Spec: 0.3333 | AUC: 0.5152 | Kappa: -0.0309\n",
      "User: sub_subject3_Data.mat\n",
      "User: sub_subject3_Data.mat | Acc: 0.6190 | Prec: 0.7778 | Spec: 0.7500 | AUC: 0.6442 | Kappa: 0.2632\n",
      "User: sub_subject4_Data.mat\n",
      "User: sub_subject4_Data.mat | Acc: 0.5000 | Prec: 0.5385 | Spec: 0.3333 | AUC: 0.4949 | Kappa: -0.0309\n",
      "LOO LOO7: Acc=0.6003, Prec=0.6346, Spec=0.4333, AUC=0.6284, Kappa=0.1924\n",
      "----- /scratch/project_2014260/data/LOO/LOO8/test\n",
      "User: sub_UN_101_Data.mat\n",
      "User: sub_UN_101_Data.mat | Acc: 0.9167 | Prec: 1.0000 | Spec: 1.0000 | AUC: 1.0000 | Kappa: 0.8333\n",
      "User: sub_UN_103_Data.mat\n",
      "User: sub_UN_103_Data.mat | Acc: 0.5000 | Prec: 0.5000 | Spec: 0.0000 | AUC: 0.5000 | Kappa: 0.0000\n",
      "User: sub_UN_104_Data.mat\n",
      "User: sub_UN_104_Data.mat | Acc: 0.6944 | Prec: 0.8182 | Spec: 0.8889 | AUC: 0.8395 | Kappa: 0.3889\n",
      "User: sub_UN_105_Data.mat\n",
      "User: sub_UN_105_Data.mat | Acc: 0.6944 | Prec: 0.8889 | Spec: 0.9444 | AUC: 0.7253 | Kappa: 0.3889\n",
      "User: sub_UN_106_Data.mat\n",
      "User: sub_UN_106_Data.mat | Acc: 0.8611 | Prec: 0.7826 | Spec: 0.7222 | AUC: 1.0000 | Kappa: 0.7222\n",
      "LOO LOO8: Acc=0.7333, Prec=0.7979, Spec=0.7111, AUC=0.8130, Kappa=0.4667\n",
      "----- /scratch/project_2014260/data/LOO/LOO9/test\n",
      "User: sub_UN_101_Data.mat\n",
      "User: sub_UN_101_Data.mat | Acc: 0.6667 | Prec: 0.6000 | Spec: 0.3333 | AUC: 0.8796 | Kappa: 0.3333\n",
      "User: sub_UN_102_Data.mat\n",
      "User: sub_UN_102_Data.mat | Acc: 0.8333 | Prec: 0.8000 | Spec: 0.7778 | AUC: 0.9691 | Kappa: 0.6667\n",
      "User: sub_UN_103_Data.mat\n",
      "User: sub_UN_103_Data.mat | Acc: 0.4722 | Prec: 0.4286 | Spec: 0.7778 | AUC: 0.7654 | Kappa: -0.0556\n",
      "User: sub_UN_104_Data.mat\n",
      "User: sub_UN_104_Data.mat | Acc: 0.8611 | Prec: 0.9333 | Spec: 0.9444 | AUC: 0.9815 | Kappa: 0.7222\n",
      "User: sub_UN_105_Data.mat\n",
      "User: sub_UN_105_Data.mat | Acc: 0.8611 | Prec: 0.9333 | Spec: 0.9444 | AUC: 0.8858 | Kappa: 0.7222\n",
      "LOO LOO9: Acc=0.7389, Prec=0.7390, Spec=0.7556, AUC=0.8963, Kappa=0.4778\n",
      "----- /scratch/project_2014260/data/LOO/LOO10/test\n",
      "User: sub_UN_101_Data.mat\n",
      "User: sub_UN_101_Data.mat | Acc: 0.5000 | Prec: 0.5000 | Spec: 0.0000 | AUC: 0.4727 | Kappa: 0.0000\n",
      "User: sub_UN_104_Data.mat\n",
      "User: sub_UN_104_Data.mat | Acc: 0.4531 | Prec: 0.7500 | Spec: 0.9630 | AUC: 0.5756 | Kappa: 0.0378\n",
      "User: sub_UN_108_Data.mat\n",
      "User: sub_UN_108_Data.mat | Acc: 0.3125 | Prec: 0.2000 | Spec: 0.5000 | AUC: 0.3438 | Kappa: -0.3750\n",
      "User: sub_UN_109_Data.mat\n",
      "User: sub_UN_109_Data.mat | Acc: 0.5000 | Prec: 0.5000 | Spec: 0.0800 | AUC: 0.5024 | Kappa: 0.0000\n",
      "User: sub_UN_110_Data.mat\n",
      "User: sub_UN_110_Data.mat | Acc: 0.5625 | Prec: 0.5345 | Spec: 0.1562 | AUC: 0.7480 | Kappa: 0.1250\n",
      "LOO LOO10: Acc=0.4656, Prec=0.4969, Spec=0.3398, AUC=0.5285, Kappa=-0.0424\n",
      "----- /scratch/project_2014260/data/LOO/LOO11/test\n",
      "User: sub_UN_113_Data.mat\n",
      "User: sub_UN_113_Data.mat | Acc: 0.6389 | Prec: 0.5806 | Spec: 0.2778 | AUC: 0.7037 | Kappa: 0.2778\n",
      "User: sub_UN_114_Data.mat\n",
      "User: sub_UN_114_Data.mat | Acc: 0.5833 | Prec: 0.7143 | Spec: 0.8889 | AUC: 0.5108 | Kappa: 0.1667\n",
      "User: sub_UN_115_Data.mat\n",
      "User: sub_UN_115_Data.mat | Acc: 0.4722 | Prec: 0.4857 | Spec: 0.0000 | AUC: 0.2377 | Kappa: -0.0556\n",
      "User: sub_UN_116_Data.mat\n",
      "User: sub_UN_116_Data.mat | Acc: 0.4444 | Prec: 0.4375 | Spec: 0.5000 | AUC: 0.5247 | Kappa: -0.1111\n",
      "User: sub_UN_117_Data.mat\n",
      "User: sub_UN_117_Data.mat | Acc: 0.9444 | Prec: 0.9444 | Spec: 0.9444 | AUC: 0.9938 | Kappa: 0.8889\n",
      "LOO LOO11: Acc=0.6167, Prec=0.6325, Spec=0.5222, AUC=0.5941, Kappa=0.2333\n",
      "----- /scratch/project_2014260/data/LOO/LOO12/test\n",
      "User: sub_UN_113_Data.mat\n",
      "User: sub_UN_113_Data.mat | Acc: 0.7500 | Prec: 0.6800 | Spec: 0.5556 | AUC: 0.7438 | Kappa: 0.5000\n",
      "User: sub_UN_114_Data.mat\n",
      "User: sub_UN_114_Data.mat | Acc: 0.7778 | Prec: 0.6923 | Spec: 0.5556 | AUC: 0.9583 | Kappa: 0.5556\n",
      "User: sub_UN_115_Data.mat\n",
      "User: sub_UN_115_Data.mat | Acc: 0.9444 | Prec: 0.9000 | Spec: 0.8889 | AUC: 0.9444 | Kappa: 0.8889\n",
      "User: sub_UN_116_Data.mat\n",
      "User: sub_UN_116_Data.mat | Acc: 0.5000 | Prec: 0.5000 | Spec: 0.0000 | AUC: 0.5556 | Kappa: 0.0000\n",
      "User: sub_UN_117_Data.mat\n",
      "User: sub_UN_117_Data.mat | Acc: 0.5000 | Prec: 0.0000 | Spec: 1.0000 | AUC: 0.5370 | Kappa: 0.0000\n",
      "LOO LOO12: Acc=0.6944, Prec=0.5545, Spec=0.6000, AUC=0.7478, Kappa=0.3889\n",
      "MEAN: Acc=0.6279, Prec=0.6579, Spec=0.6242, AUC=0.6962, Kappa=0.2521\n",
      "Results saved to louo_logreg_results.csv\n",
      "      LOO  Accuracy  Precision  Specificity     AUROC     Kappa\n",
      "0    LOO1  0.668398   0.882540     0.945238  0.830530  0.336797\n",
      "1    LOO2  0.615296   0.620824     0.647249  0.707640  0.230593\n",
      "2    LOO3  0.491509   0.518065     0.705849  0.553901 -0.016981\n",
      "3    LOO4  0.566706   0.590000     0.696667  0.677633  0.113544\n",
      "4    LOO5  0.745238   0.721026     0.556667  0.769125  0.460241\n",
      "5    LOO6  0.598831   0.707359     0.576111  0.607431  0.184508\n",
      "6    LOO7  0.600280   0.634577     0.433333  0.628422  0.192373\n",
      "7    LOO8  0.733333   0.797936     0.711111  0.812963  0.466667\n",
      "8    LOO9  0.738889   0.739048     0.755556  0.896296  0.477778\n",
      "9   LOO10  0.465625   0.496897     0.339843  0.528486 -0.042440\n",
      "10  LOO11  0.616667   0.632518     0.522222  0.594136  0.233333\n",
      "11  LOO12  0.694444   0.554462     0.600000  0.747840  0.388889\n"
     ]
    }
   ],
   "source": [
    "### LEAVE ONE User OUT\n",
    "import os\n",
    "import numpy as np\n",
    "import pandas as pd\n",
    "from sklearn.metrics import accuracy_score, precision_score, roc_auc_score, confusion_matrix, cohen_kappa_score\n",
    "from sklearn.ensemble import RandomForestClassifier\n",
    "from sklearn.discriminant_analysis import LinearDiscriminantAnalysis, QuadraticDiscriminantAnalysis\n",
    "from sklearn.linear_model import LogisticRegression\n",
    "from sklearn.base import clone\n",
    "\n",
    "LOO_list = [f'LOO{i}' for i in range(1, 13)]\n",
    "\n",
    "methods = {\n",
    "    'rf': RandomForestClassifier(n_estimators=100, max_depth=15),\n",
    "    'lda': LinearDiscriminantAnalysis(),\n",
    "    'qda': QuadraticDiscriminantAnalysis(),\n",
    "    'logreg': LogisticRegression(solver='liblinear')\n",
    "}\n",
    "\n",
    "for method_name, base_clf in methods.items():\n",
    "    data_accuracy = []\n",
    "    data_precision = []\n",
    "    data_specificity = []\n",
    "    data_auroc = []\n",
    "    data_kappa = []\n",
    "    print(f\"\\n===== Running {method_name.upper()} =====\\n\")\n",
    "    for loo in LOO_list:\n",
    "        data_path = f\"/scratch/project_2014260/data/LOO/{loo}/test\"\n",
    "        print('-----', data_path)\n",
    "\n",
    "        avg_acc = []\n",
    "        avg_prec = []\n",
    "        avg_spec = []\n",
    "        avg_auc = []\n",
    "        avg_kappa = []\n",
    "\n",
    "        for root, dirs, files in os.walk(data_path):\n",
    "            subs = sorted(files)\n",
    "        cutindex = 2 if loo == 'LOO3' else 5\n",
    "        for i in subs[:cutindex]:\n",
    "            print('User:', i)\n",
    "            train_dataset, valid_dataset, test_dataset = get_Mydata(i, data_path, 0, target_sample=256*2)\n",
    "            clf = clone(base_clf)\n",
    "            \n",
    "            x_train = []\n",
    "            y_train = train_dataset.y.numpy()\n",
    "            for epoch in train_dataset.x:\n",
    "                features = []\n",
    "                for sig in epoch:\n",
    "                    sig_min, sig_max, sig_mean, sig_std = statistical_features(sig)\n",
    "                    sig_skew, sig_kurtosis = shape_features(sig)\n",
    "                    peaks, properties = find_peaks(sig, width=5)\n",
    "                    num_Peaks = len(peaks)\n",
    "                    prominences = np.array(properties['prominences'])\n",
    "                    widths = np.array(properties['widths'])\n",
    "                    amplitude = np.sum(prominences)\n",
    "                    duration = np.sum(widths)\n",
    "                    features += [sig_min, sig_max, sig_mean, sig_std, sig_skew, sig_kurtosis, num_Peaks, amplitude, duration]\n",
    "                x_train.append(features)\n",
    "            x_train = np.array(x_train)\n",
    "            \n",
    "            x_test = []\n",
    "            y_test = test_dataset.y.numpy()\n",
    "            for epoch in test_dataset.x:\n",
    "                features = []\n",
    "                for sig in epoch:\n",
    "                    sig_min, sig_max, sig_mean, sig_std = statistical_features(sig)\n",
    "                    sig_skew, sig_kurtosis = shape_features(sig)\n",
    "                    peaks, properties = find_peaks(sig, width=5)\n",
    "                    num_Peaks = len(peaks)\n",
    "                    prominences = np.array(properties['prominences'])\n",
    "                    widths = np.array(properties['widths'])\n",
    "                    amplitude = np.sum(prominences)\n",
    "                    duration = np.sum(widths)\n",
    "                    features += [sig_min, sig_max, sig_mean, sig_std, sig_skew, sig_kurtosis, num_Peaks, amplitude, duration]\n",
    "                x_test.append(features)\n",
    "            x_test = np.array(x_test)\n",
    "\n",
    "            try:\n",
    "                clf.fit(x_train, y_train)\n",
    "                y_pred = clf.predict(x_test)\n",
    "                try:\n",
    "                    y_prob = clf.predict_proba(x_test)[:, 1]\n",
    "                except Exception:\n",
    "                    y_prob = np.zeros_like(y_pred)\n",
    "                \n",
    "                # ACCURACY\n",
    "                accuracy = accuracy_score(y_test, y_pred)\n",
    "                avg_acc.append(accuracy)\n",
    "\n",
    "                # PRECISION\n",
    "                precision = precision_score(y_test, y_pred, zero_division=0)\n",
    "                avg_prec.append(precision)\n",
    "\n",
    "                # SPECIFICITY: TN / (TN + FP)\n",
    "                cm = confusion_matrix(y_test, y_pred)\n",
    "                specificity = cm[0,0] / (cm[0,0] + cm[0,1] + 1e-7)\n",
    "                avg_spec.append(specificity)\n",
    "\n",
    "                # AUROC\n",
    "                try:\n",
    "                    auc_roc = roc_auc_score(y_test, y_prob)\n",
    "                except Exception:\n",
    "                    auc_roc = np.nan\n",
    "                avg_auc.append(auc_roc)\n",
    "\n",
    "                # KAPPA\n",
    "                kappa = cohen_kappa_score(y_test, y_pred)\n",
    "                avg_kappa.append(kappa)\n",
    "\n",
    "                print(f\"User: {i} | Acc: {accuracy:.4f} | Prec: {precision:.4f} | Spec: {specificity:.4f} | AUC: {auc_roc:.4f} | Kappa: {kappa:.4f}\")\n",
    "            except Exception as e:\n",
    "                print(f\"Failed {method_name} on user {i}: {e}\")\n",
    "\n",
    "        data_accuracy.append(np.mean(avg_acc))\n",
    "        data_precision.append(np.mean(avg_prec))\n",
    "        data_specificity.append(np.mean(avg_spec))\n",
    "        data_auroc.append(np.mean(avg_auc))\n",
    "        data_kappa.append(np.mean(avg_kappa))\n",
    "\n",
    "        print(f'LOO {loo}: Acc={data_accuracy[-1]:.4f}, Prec={data_precision[-1]:.4f}, Spec={data_specificity[-1]:.4f}, AUC={data_auroc[-1]:.4f}, Kappa={data_kappa[-1]:.4f}')\n",
    "\n",
    "    results = pd.DataFrame({\n",
    "        'LOO': LOO_list,\n",
    "        'Accuracy': data_accuracy,\n",
    "        'Precision': data_precision,\n",
    "        'Specificity': data_specificity,\n",
    "        'AUROC': data_auroc,\n",
    "        'Kappa': data_kappa\n",
    "    })\n",
    "    \n",
    "    print(f'MEAN: Acc={np.mean(data_accuracy):.4f}, Prec={np.mean(data_precision):.4f}, Spec={np.mean(data_specificity):.4f}, AUC={np.mean(data_auroc):.4f}, Kappa={np.mean(data_kappa):.4f}')\n",
    "    results.to_csv(f'louo_{method_name}_results.csv', index=False)\n",
    "    print(f\"Results saved to louo_{method_name}_results.csv\")\n",
    "    print(results)"
   ]
  },
  {
   "cell_type": "code",
   "execution_count": 14,
   "id": "e2238a35-d3d2-4bb0-9eb3-45fcefb70941",
   "metadata": {
    "scrolled": true
   },
   "outputs": [
    {
     "name": "stderr",
     "output_type": "stream",
     "text": [
      "2025-07-22 10:43:10.243363: I tensorflow/core/util/port.cc:153] oneDNN custom operations are on. You may see slightly different numerical results due to floating-point round-off errors from different computation orders. To turn them off, set the environment variable `TF_ENABLE_ONEDNN_OPTS=0`.\n",
      "2025-07-22 10:43:10.701091: E external/local_xla/xla/stream_executor/cuda/cuda_fft.cc:467] Unable to register cuFFT factory: Attempting to register factory for plugin cuFFT when one has already been registered\n",
      "WARNING: All log messages before absl::InitializeLog() is called are written to STDERR\n",
      "E0000 00:00:1753170190.797972 2811220 cuda_dnn.cc:8579] Unable to register cuDNN factory: Attempting to register factory for plugin cuDNN when one has already been registered\n",
      "E0000 00:00:1753170190.802963 2811220 cuda_blas.cc:1407] Unable to register cuBLAS factory: Attempting to register factory for plugin cuBLAS when one has already been registered\n",
      "W0000 00:00:1753170191.322467 2811220 computation_placer.cc:177] computation placer already registered. Please check linkage and avoid linking the same target more than once.\n",
      "W0000 00:00:1753170191.322486 2811220 computation_placer.cc:177] computation placer already registered. Please check linkage and avoid linking the same target more than once.\n",
      "W0000 00:00:1753170191.322488 2811220 computation_placer.cc:177] computation placer already registered. Please check linkage and avoid linking the same target more than once.\n",
      "W0000 00:00:1753170191.322489 2811220 computation_placer.cc:177] computation placer already registered. Please check linkage and avoid linking the same target more than once.\n",
      "2025-07-22 10:43:12.257286: I tensorflow/core/platform/cpu_feature_guard.cc:210] This TensorFlow binary is optimized to use available CPU instructions in performance-critical operations.\n",
      "To enable the following instructions: AVX2 AVX512F AVX512_VNNI FMA, in other operations, rebuild TensorFlow with the appropriate compiler flags.\n"
     ]
    }
   ],
   "source": [
    "### VANILLA TRANSFORMER\n",
    "import pandas as pd\n",
    "import numpy as np\n",
    "import os\n",
    "import matplotlib.pyplot as plt\n",
    "from sklearn.metrics import confusion_matrix\n",
    "from tensorflow import keras\n",
    "from tensorflow.keras import layers\n",
    "from tqdm.keras import TqdmCallback\n",
    "import glob\n",
    "from sklearn.metrics import f1_score, precision_score, recall_score\n",
    "from sklearn.model_selection import StratifiedKFold\n",
    "import tensorflow as tf\n",
    "from sklearn import preprocessing\n",
    "from collections import Counter\n",
    "from numpy import where\n",
    "from imblearn.over_sampling import SMOTE\n",
    "import tensorflow as tf\n",
    "import seaborn as sns\n",
    "from sklearn.model_selection import RepeatedStratifiedKFold\n",
    "import keras.backend as K\n",
    "import scipy"
   ]
  },
  {
   "cell_type": "code",
   "execution_count": 15,
   "id": "8353c3dc-a00f-4aa0-9e31-d738c159fcb2",
   "metadata": {},
   "outputs": [],
   "source": [
    "tf.keras.utils.set_random_seed(1)\n",
    "tf.config.experimental.enable_op_determinism()\n",
    "def transformer_encoder(inputs, head_size, num_heads, ff_dim, dropout=0):\n",
    "    # Attention and Normalization\n",
    "    x = layers.MultiHeadAttention(\n",
    "        key_dim=head_size, num_heads=num_heads, dropout=dropout\n",
    "    )(inputs, inputs)\n",
    "    x = layers.Dropout(dropout)(x)\n",
    "    x = layers.LayerNormalization(epsilon=1e-6)(x)\n",
    "    res = x + inputs\n",
    "\n",
    "    # Feed Forward\n",
    "    x = layers.Conv1D(filters=ff_dim, kernel_size=1, activation=\"relu\")(res)\n",
    "    x = layers.Dropout(dropout)(x)\n",
    "    x = layers.Conv1D(filters=inputs.shape[-1], kernel_size=1)(x)\n",
    "    x = layers.LayerNormalization(epsilon=1e-6)(x)\n",
    "    return x + res"
   ]
  },
  {
   "cell_type": "code",
   "execution_count": 17,
   "id": "3075abe1-2a65-42f3-9bb7-30ab237343e7",
   "metadata": {
    "scrolled": true
   },
   "outputs": [
    {
     "name": "stdout",
     "output_type": "stream",
     "text": [
      "----- sub_S10_Data.mat\n"
     ]
    },
    {
     "name": "stderr",
     "output_type": "stream",
     "text": [
      "2025-07-22 12:04:26.051989: E tensorflow/core/framework/node_def_util.cc:680] NodeDef mentions attribute use_unbounded_threadpool which is not in the op definition: Op<name=MapDataset; signature=input_dataset:variant, other_arguments: -> handle:variant; attr=f:func; attr=Targuments:list(type),min=0; attr=output_types:list(type),min=1; attr=output_shapes:list(shape),min=1; attr=use_inter_op_parallelism:bool,default=true; attr=preserve_cardinality:bool,default=false; attr=force_synchronous:bool,default=false; attr=metadata:string,default=\"\"> This may be expected if your graph generating binary is newer  than this binary. Unknown attributes will be ignored. NodeDef: {{node ParallelMapDatasetV2/_15}}\n"
     ]
    },
    {
     "name": "stdout",
     "output_type": "stream",
     "text": [
      "\u001b[1m1/1\u001b[0m \u001b[32m━━━━━━━━━━━━━━━━━━━━\u001b[0m\u001b[37m\u001b[0m \u001b[1m0s\u001b[0m 38ms/step - accuracy: 1.0000 - loss: 0.0995\n",
      "\u001b[1m1/1\u001b[0m \u001b[32m━━━━━━━━━━━━━━━━━━━━\u001b[0m\u001b[37m\u001b[0m \u001b[1m0s\u001b[0m 137ms/step"
     ]
    },
    {
     "name": "stderr",
     "output_type": "stream",
     "text": [
      "2025-07-22 12:04:44.989161: E tensorflow/core/framework/node_def_util.cc:680] NodeDef mentions attribute use_unbounded_threadpool which is not in the op definition: Op<name=MapDataset; signature=input_dataset:variant, other_arguments: -> handle:variant; attr=f:func; attr=Targuments:list(type),min=0; attr=output_types:list(type),min=1; attr=output_shapes:list(shape),min=1; attr=use_inter_op_parallelism:bool,default=true; attr=preserve_cardinality:bool,default=false; attr=force_synchronous:bool,default=false; attr=metadata:string,default=\"\"> This may be expected if your graph generating binary is newer  than this binary. Unknown attributes will be ignored. NodeDef: {{node ParallelMapDatasetV2/_15}}\n"
     ]
    },
    {
     "name": "stdout",
     "output_type": "stream",
     "text": [
      "\u001b[1m1/1\u001b[0m \u001b[32m━━━━━━━━━━━━━━━━━━━━\u001b[0m\u001b[37m\u001b[0m \u001b[1m0s\u001b[0m 149ms/step\n",
      "----- sub_S11_Data.mat\n",
      "\u001b[1m1/1\u001b[0m \u001b[32m━━━━━━━━━━━━━━━━━━━━\u001b[0m\u001b[37m\u001b[0m \u001b[1m0s\u001b[0m 38ms/step - accuracy: 0.9773 - loss: 0.0435\n",
      "\u001b[1m1/2\u001b[0m \u001b[32m━━━━━━━━━━\u001b[0m\u001b[37m━━━━━━━━━━\u001b[0m \u001b[1m0s\u001b[0m 123ms/step"
     ]
    },
    {
     "name": "stderr",
     "output_type": "stream",
     "text": [
      "2025-07-22 12:05:04.067766: E tensorflow/core/framework/node_def_util.cc:680] NodeDef mentions attribute use_unbounded_threadpool which is not in the op definition: Op<name=MapDataset; signature=input_dataset:variant, other_arguments: -> handle:variant; attr=f:func; attr=Targuments:list(type),min=0; attr=output_types:list(type),min=1; attr=output_shapes:list(shape),min=1; attr=use_inter_op_parallelism:bool,default=true; attr=preserve_cardinality:bool,default=false; attr=force_synchronous:bool,default=false; attr=metadata:string,default=\"\"> This may be expected if your graph generating binary is newer  than this binary. Unknown attributes will be ignored. NodeDef: {{node ParallelMapDatasetV2/_15}}\n"
     ]
    },
    {
     "name": "stdout",
     "output_type": "stream",
     "text": [
      "\u001b[1m2/2\u001b[0m \u001b[32m━━━━━━━━━━━━━━━━━━━━\u001b[0m\u001b[37m\u001b[0m \u001b[1m0s\u001b[0m 120ms/step\n",
      "----- sub_S13_Data.mat\n",
      "\u001b[1m1/1\u001b[0m \u001b[32m━━━━━━━━━━━━━━━━━━━━\u001b[0m\u001b[37m\u001b[0m \u001b[1m0s\u001b[0m 37ms/step - accuracy: 0.6250 - loss: 1.3861\n",
      "\u001b[1m1/1\u001b[0m \u001b[32m━━━━━━━━━━━━━━━━━━━━\u001b[0m\u001b[37m\u001b[0m \u001b[1m0s\u001b[0m 141ms/step\n"
     ]
    },
    {
     "name": "stderr",
     "output_type": "stream",
     "text": [
      "2025-07-22 12:05:23.238172: E tensorflow/core/framework/node_def_util.cc:680] NodeDef mentions attribute use_unbounded_threadpool which is not in the op definition: Op<name=MapDataset; signature=input_dataset:variant, other_arguments: -> handle:variant; attr=f:func; attr=Targuments:list(type),min=0; attr=output_types:list(type),min=1; attr=output_shapes:list(shape),min=1; attr=use_inter_op_parallelism:bool,default=true; attr=preserve_cardinality:bool,default=false; attr=force_synchronous:bool,default=false; attr=metadata:string,default=\"\"> This may be expected if your graph generating binary is newer  than this binary. Unknown attributes will be ignored. NodeDef: {{node ParallelMapDatasetV2/_15}}\n"
     ]
    },
    {
     "name": "stdout",
     "output_type": "stream",
     "text": [
      "----- sub_S14_Data.mat\n",
      "\u001b[1m1/1\u001b[0m \u001b[32m━━━━━━━━━━━━━━━━━━━━\u001b[0m\u001b[37m\u001b[0m \u001b[1m0s\u001b[0m 38ms/step - accuracy: 0.7381 - loss: 0.8582\n",
      "\u001b[1m1/2\u001b[0m \u001b[32m━━━━━━━━━━\u001b[0m\u001b[37m━━━━━━━━━━\u001b[0m \u001b[1m0s\u001b[0m 121ms/step"
     ]
    },
    {
     "name": "stderr",
     "output_type": "stream",
     "text": [
      "2025-07-22 12:05:41.760920: E tensorflow/core/framework/node_def_util.cc:680] NodeDef mentions attribute use_unbounded_threadpool which is not in the op definition: Op<name=MapDataset; signature=input_dataset:variant, other_arguments: -> handle:variant; attr=f:func; attr=Targuments:list(type),min=0; attr=output_types:list(type),min=1; attr=output_shapes:list(shape),min=1; attr=use_inter_op_parallelism:bool,default=true; attr=preserve_cardinality:bool,default=false; attr=force_synchronous:bool,default=false; attr=metadata:string,default=\"\"> This may be expected if your graph generating binary is newer  than this binary. Unknown attributes will be ignored. NodeDef: {{node ParallelMapDatasetV2/_15}}\n"
     ]
    },
    {
     "name": "stdout",
     "output_type": "stream",
     "text": [
      "\u001b[1m2/2\u001b[0m \u001b[32m━━━━━━━━━━━━━━━━━━━━\u001b[0m\u001b[37m\u001b[0m \u001b[1m0s\u001b[0m 118ms/step\n",
      "----- sub_S15_Data.mat\n",
      "\u001b[1m1/1\u001b[0m \u001b[32m━━━━━━━━━━━━━━━━━━━━\u001b[0m\u001b[37m\u001b[0m \u001b[1m0s\u001b[0m 39ms/step - accuracy: 0.6818 - loss: 1.5053\n",
      "\u001b[1m1/1\u001b[0m \u001b[32m━━━━━━━━━━━━━━━━━━━━\u001b[0m\u001b[37m\u001b[0m \u001b[1m0s\u001b[0m 136ms/step\n"
     ]
    },
    {
     "name": "stderr",
     "output_type": "stream",
     "text": [
      "2025-07-22 12:06:00.888956: E tensorflow/core/framework/node_def_util.cc:680] NodeDef mentions attribute use_unbounded_threadpool which is not in the op definition: Op<name=MapDataset; signature=input_dataset:variant, other_arguments: -> handle:variant; attr=f:func; attr=Targuments:list(type),min=0; attr=output_types:list(type),min=1; attr=output_shapes:list(shape),min=1; attr=use_inter_op_parallelism:bool,default=true; attr=preserve_cardinality:bool,default=false; attr=force_synchronous:bool,default=false; attr=metadata:string,default=\"\"> This may be expected if your graph generating binary is newer  than this binary. Unknown attributes will be ignored. NodeDef: {{node ParallelMapDatasetV2/_15}}\n"
     ]
    },
    {
     "name": "stdout",
     "output_type": "stream",
     "text": [
      "LOO LOO1: Acc=0.8044, Prec=0.8186, Spec=0.7965, AUC=0.8952, Kappa=0.6089\n",
      "----- sub_subject0_Data.mat\n",
      "\u001b[1m1/1\u001b[0m \u001b[32m━━━━━━━━━━━━━━━━━━━━\u001b[0m\u001b[37m\u001b[0m \u001b[1m0s\u001b[0m 40ms/step - accuracy: 0.7500 - loss: 0.5194\n",
      "\u001b[1m1/2\u001b[0m \u001b[32m━━━━━━━━━━\u001b[0m\u001b[37m━━━━━━━━━━\u001b[0m \u001b[1m0s\u001b[0m 123ms/step"
     ]
    },
    {
     "name": "stderr",
     "output_type": "stream",
     "text": [
      "2025-07-22 12:06:34.819759: E tensorflow/core/framework/node_def_util.cc:680] NodeDef mentions attribute use_unbounded_threadpool which is not in the op definition: Op<name=MapDataset; signature=input_dataset:variant, other_arguments: -> handle:variant; attr=f:func; attr=Targuments:list(type),min=0; attr=output_types:list(type),min=1; attr=output_shapes:list(shape),min=1; attr=use_inter_op_parallelism:bool,default=true; attr=preserve_cardinality:bool,default=false; attr=force_synchronous:bool,default=false; attr=metadata:string,default=\"\"> This may be expected if your graph generating binary is newer  than this binary. Unknown attributes will be ignored. NodeDef: {{node ParallelMapDatasetV2/_15}}\n"
     ]
    },
    {
     "name": "stdout",
     "output_type": "stream",
     "text": [
      "\u001b[1m2/2\u001b[0m \u001b[32m━━━━━━━━━━━━━━━━━━━━\u001b[0m\u001b[37m\u001b[0m \u001b[1m0s\u001b[0m 124ms/step\n",
      "----- sub_subject10_Data.mat\n",
      "\u001b[1m1/1\u001b[0m \u001b[32m━━━━━━━━━━━━━━━━━━━━\u001b[0m\u001b[37m\u001b[0m \u001b[1m0s\u001b[0m 46ms/step - accuracy: 0.6176 - loss: 0.7220\n",
      "\u001b[1m1/3\u001b[0m \u001b[32m━━━━━━\u001b[0m\u001b[37m━━━━━━━━━━━━━━\u001b[0m \u001b[1m0s\u001b[0m 131ms/step"
     ]
    },
    {
     "name": "stderr",
     "output_type": "stream",
     "text": [
      "2025-07-22 12:07:07.798183: E tensorflow/core/framework/node_def_util.cc:680] NodeDef mentions attribute use_unbounded_threadpool which is not in the op definition: Op<name=MapDataset; signature=input_dataset:variant, other_arguments: -> handle:variant; attr=f:func; attr=Targuments:list(type),min=0; attr=output_types:list(type),min=1; attr=output_shapes:list(shape),min=1; attr=use_inter_op_parallelism:bool,default=true; attr=preserve_cardinality:bool,default=false; attr=force_synchronous:bool,default=false; attr=metadata:string,default=\"\"> This may be expected if your graph generating binary is newer  than this binary. Unknown attributes will be ignored. NodeDef: {{node ParallelMapDatasetV2/_15}}\n"
     ]
    },
    {
     "name": "stdout",
     "output_type": "stream",
     "text": [
      "\u001b[1m3/3\u001b[0m \u001b[32m━━━━━━━━━━━━━━━━━━━━\u001b[0m\u001b[37m\u001b[0m \u001b[1m0s\u001b[0m 67ms/step\n",
      "----- sub_subject11_Data.mat\n",
      "\u001b[1m1/1\u001b[0m \u001b[32m━━━━━━━━━━━━━━━━━━━━\u001b[0m\u001b[37m\u001b[0m \u001b[1m0s\u001b[0m 43ms/step - accuracy: 0.4800 - loss: 1.6878\n",
      "\u001b[1m1/2\u001b[0m \u001b[32m━━━━━━━━━━\u001b[0m\u001b[37m━━━━━━━━━━\u001b[0m \u001b[1m0s\u001b[0m 130ms/step"
     ]
    },
    {
     "name": "stderr",
     "output_type": "stream",
     "text": [
      "2025-07-22 12:07:40.909697: E tensorflow/core/framework/node_def_util.cc:680] NodeDef mentions attribute use_unbounded_threadpool which is not in the op definition: Op<name=MapDataset; signature=input_dataset:variant, other_arguments: -> handle:variant; attr=f:func; attr=Targuments:list(type),min=0; attr=output_types:list(type),min=1; attr=output_shapes:list(shape),min=1; attr=use_inter_op_parallelism:bool,default=true; attr=preserve_cardinality:bool,default=false; attr=force_synchronous:bool,default=false; attr=metadata:string,default=\"\"> This may be expected if your graph generating binary is newer  than this binary. Unknown attributes will be ignored. NodeDef: {{node ParallelMapDatasetV2/_15}}\n"
     ]
    },
    {
     "name": "stdout",
     "output_type": "stream",
     "text": [
      "\u001b[1m2/2\u001b[0m \u001b[32m━━━━━━━━━━━━━━━━━━━━\u001b[0m\u001b[37m\u001b[0m \u001b[1m0s\u001b[0m 130ms/step\n",
      "----- sub_subject12_Data.mat\n",
      "\u001b[1m1/1\u001b[0m \u001b[32m━━━━━━━━━━━━━━━━━━━━\u001b[0m\u001b[37m\u001b[0m \u001b[1m0s\u001b[0m 44ms/step - accuracy: 0.6538 - loss: 0.7607\n"
     ]
    },
    {
     "name": "stderr",
     "output_type": "stream",
     "text": [
      "2025-07-22 12:08:14.455094: E tensorflow/core/framework/node_def_util.cc:680] NodeDef mentions attribute use_unbounded_threadpool which is not in the op definition: Op<name=MapDataset; signature=input_dataset:variant, other_arguments: -> handle:variant; attr=f:func; attr=Targuments:list(type),min=0; attr=output_types:list(type),min=1; attr=output_shapes:list(shape),min=1; attr=use_inter_op_parallelism:bool,default=true; attr=preserve_cardinality:bool,default=false; attr=force_synchronous:bool,default=false; attr=metadata:string,default=\"\"> This may be expected if your graph generating binary is newer  than this binary. Unknown attributes will be ignored. NodeDef: {{node ParallelMapDatasetV2/_15}}\n"
     ]
    },
    {
     "name": "stdout",
     "output_type": "stream",
     "text": [
      "\u001b[1m2/2\u001b[0m \u001b[32m━━━━━━━━━━━━━━━━━━━━\u001b[0m\u001b[37m\u001b[0m \u001b[1m0s\u001b[0m 130ms/step\n",
      "----- sub_subject13_Data.mat\n",
      "\u001b[1m1/1\u001b[0m \u001b[32m━━━━━━━━━━━━━━━━━━━━\u001b[0m\u001b[37m\u001b[0m \u001b[1m0s\u001b[0m 43ms/step - accuracy: 0.3958 - loss: 3.1800\n",
      "\u001b[1m1/2\u001b[0m \u001b[32m━━━━━━━━━━\u001b[0m\u001b[37m━━━━━━━━━━\u001b[0m \u001b[1m0s\u001b[0m 132ms/step"
     ]
    },
    {
     "name": "stderr",
     "output_type": "stream",
     "text": [
      "2025-07-22 12:08:48.161166: E tensorflow/core/framework/node_def_util.cc:680] NodeDef mentions attribute use_unbounded_threadpool which is not in the op definition: Op<name=MapDataset; signature=input_dataset:variant, other_arguments: -> handle:variant; attr=f:func; attr=Targuments:list(type),min=0; attr=output_types:list(type),min=1; attr=output_shapes:list(shape),min=1; attr=use_inter_op_parallelism:bool,default=true; attr=preserve_cardinality:bool,default=false; attr=force_synchronous:bool,default=false; attr=metadata:string,default=\"\"> This may be expected if your graph generating binary is newer  than this binary. Unknown attributes will be ignored. NodeDef: {{node ParallelMapDatasetV2/_15}}\n"
     ]
    },
    {
     "name": "stdout",
     "output_type": "stream",
     "text": [
      "\u001b[1m2/2\u001b[0m \u001b[32m━━━━━━━━━━━━━━━━━━━━\u001b[0m\u001b[37m\u001b[0m \u001b[1m0s\u001b[0m 127ms/step\n",
      "LOO LOO2: Acc=0.5795, Prec=0.5590, Spec=0.6128, AUC=0.6673, Kappa=0.1589\n",
      "----- sub_subject0_Data.mat\n"
     ]
    },
    {
     "name": "stderr",
     "output_type": "stream",
     "text": [
      "2025-07-22 12:08:54.002244: E tensorflow/core/framework/node_def_util.cc:680] NodeDef mentions attribute use_unbounded_threadpool which is not in the op definition: Op<name=MapDataset; signature=input_dataset:variant, other_arguments: -> handle:variant; attr=f:func; attr=Targuments:list(type),min=0; attr=output_types:list(type),min=1; attr=output_shapes:list(shape),min=1; attr=use_inter_op_parallelism:bool,default=true; attr=preserve_cardinality:bool,default=false; attr=force_synchronous:bool,default=false; attr=metadata:string,default=\"\"> This may be expected if your graph generating binary is newer  than this binary. Unknown attributes will be ignored. NodeDef: {{node ParallelMapDatasetV2/_15}}\n"
     ]
    },
    {
     "name": "stdout",
     "output_type": "stream",
     "text": [
      "\u001b[1m1/1\u001b[0m \u001b[32m━━━━━━━━━━━━━━━━━━━━\u001b[0m\u001b[37m\u001b[0m \u001b[1m0s\u001b[0m 49ms/step - accuracy: 0.8491 - loss: 0.7798\n"
     ]
    },
    {
     "name": "stderr",
     "output_type": "stream",
     "text": [
      "2025-07-22 12:09:49.786419: E tensorflow/core/framework/node_def_util.cc:680] NodeDef mentions attribute use_unbounded_threadpool which is not in the op definition: Op<name=MapDataset; signature=input_dataset:variant, other_arguments: -> handle:variant; attr=f:func; attr=Targuments:list(type),min=0; attr=output_types:list(type),min=1; attr=output_shapes:list(shape),min=1; attr=use_inter_op_parallelism:bool,default=true; attr=preserve_cardinality:bool,default=false; attr=force_synchronous:bool,default=false; attr=metadata:string,default=\"\"> This may be expected if your graph generating binary is newer  than this binary. Unknown attributes will be ignored. NodeDef: {{node ParallelMapDatasetV2/_15}}\n"
     ]
    },
    {
     "name": "stdout",
     "output_type": "stream",
     "text": [
      "\u001b[1m4/4\u001b[0m \u001b[32m━━━━━━━━━━━━━━━━━━━━\u001b[0m\u001b[37m\u001b[0m \u001b[1m0s\u001b[0m 45ms/step\n",
      "----- sub_subject10_Data.mat\n"
     ]
    },
    {
     "name": "stderr",
     "output_type": "stream",
     "text": [
      "2025-07-22 12:09:55.631220: E tensorflow/core/framework/node_def_util.cc:680] NodeDef mentions attribute use_unbounded_threadpool which is not in the op definition: Op<name=MapDataset; signature=input_dataset:variant, other_arguments: -> handle:variant; attr=f:func; attr=Targuments:list(type),min=0; attr=output_types:list(type),min=1; attr=output_shapes:list(shape),min=1; attr=use_inter_op_parallelism:bool,default=true; attr=preserve_cardinality:bool,default=false; attr=force_synchronous:bool,default=false; attr=metadata:string,default=\"\"> This may be expected if your graph generating binary is newer  than this binary. Unknown attributes will be ignored. NodeDef: {{node ParallelMapDatasetV2/_15}}\n"
     ]
    },
    {
     "name": "stdout",
     "output_type": "stream",
     "text": [
      "\u001b[1m1/1\u001b[0m \u001b[32m━━━━━━━━━━━━━━━━━━━━\u001b[0m\u001b[37m\u001b[0m \u001b[1m0s\u001b[0m 47ms/step - accuracy: 0.6700 - loss: 0.9203\n",
      "\u001b[1m1/4\u001b[0m \u001b[32m━━━━━\u001b[0m\u001b[37m━━━━━━━━━━━━━━━\u001b[0m \u001b[1m0s\u001b[0m 130ms/step"
     ]
    },
    {
     "name": "stderr",
     "output_type": "stream",
     "text": [
      "2025-07-22 12:10:51.769061: E tensorflow/core/framework/node_def_util.cc:680] NodeDef mentions attribute use_unbounded_threadpool which is not in the op definition: Op<name=MapDataset; signature=input_dataset:variant, other_arguments: -> handle:variant; attr=f:func; attr=Targuments:list(type),min=0; attr=output_types:list(type),min=1; attr=output_shapes:list(shape),min=1; attr=use_inter_op_parallelism:bool,default=true; attr=preserve_cardinality:bool,default=false; attr=force_synchronous:bool,default=false; attr=metadata:string,default=\"\"> This may be expected if your graph generating binary is newer  than this binary. Unknown attributes will be ignored. NodeDef: {{node ParallelMapDatasetV2/_15}}\n"
     ]
    },
    {
     "name": "stdout",
     "output_type": "stream",
     "text": [
      "\u001b[1m4/4\u001b[0m \u001b[32m━━━━━━━━━━━━━━━━━━━━\u001b[0m\u001b[37m\u001b[0m \u001b[1m0s\u001b[0m 45ms/step\n",
      "LOO LOO3: Acc=0.7595, Prec=0.7729, Spec=0.8728, AUC=0.7373, Kappa=0.5191\n",
      "----- sub_subject0_Data.mat\n",
      "\u001b[1m1/1\u001b[0m \u001b[32m━━━━━━━━━━━━━━━━━━━━\u001b[0m\u001b[37m\u001b[0m \u001b[1m0s\u001b[0m 36ms/step - accuracy: 0.3500 - loss: 2.1563\n",
      "\u001b[1m1/1\u001b[0m \u001b[32m━━━━━━━━━━━━━━━━━━━━\u001b[0m\u001b[37m\u001b[0m \u001b[1m0s\u001b[0m 134ms/step\n"
     ]
    },
    {
     "name": "stderr",
     "output_type": "stream",
     "text": [
      "2025-07-22 12:11:01.911231: E tensorflow/core/framework/node_def_util.cc:680] NodeDef mentions attribute use_unbounded_threadpool which is not in the op definition: Op<name=MapDataset; signature=input_dataset:variant, other_arguments: -> handle:variant; attr=f:func; attr=Targuments:list(type),min=0; attr=output_types:list(type),min=1; attr=output_shapes:list(shape),min=1; attr=use_inter_op_parallelism:bool,default=true; attr=preserve_cardinality:bool,default=false; attr=force_synchronous:bool,default=false; attr=metadata:string,default=\"\"> This may be expected if your graph generating binary is newer  than this binary. Unknown attributes will be ignored. NodeDef: {{node ParallelMapDatasetV2/_15}}\n"
     ]
    },
    {
     "name": "stdout",
     "output_type": "stream",
     "text": [
      "----- sub_subject1_Data.mat\n",
      "\u001b[1m1/1\u001b[0m \u001b[32m━━━━━━━━━━━━━━━━━━━━\u001b[0m\u001b[37m\u001b[0m \u001b[1m0s\u001b[0m 37ms/step - accuracy: 0.5714 - loss: 3.0027\n",
      "\u001b[1m1/1\u001b[0m \u001b[32m━━━━━━━━━━━━━━━━━━━━\u001b[0m\u001b[37m\u001b[0m \u001b[1m0s\u001b[0m 132ms/step\n"
     ]
    },
    {
     "name": "stderr",
     "output_type": "stream",
     "text": [
      "2025-07-22 12:11:11.425420: E tensorflow/core/framework/node_def_util.cc:680] NodeDef mentions attribute use_unbounded_threadpool which is not in the op definition: Op<name=MapDataset; signature=input_dataset:variant, other_arguments: -> handle:variant; attr=f:func; attr=Targuments:list(type),min=0; attr=output_types:list(type),min=1; attr=output_shapes:list(shape),min=1; attr=use_inter_op_parallelism:bool,default=true; attr=preserve_cardinality:bool,default=false; attr=force_synchronous:bool,default=false; attr=metadata:string,default=\"\"> This may be expected if your graph generating binary is newer  than this binary. Unknown attributes will be ignored. NodeDef: {{node ParallelMapDatasetV2/_15}}\n"
     ]
    },
    {
     "name": "stdout",
     "output_type": "stream",
     "text": [
      "----- sub_subject2_Data.mat\n",
      "\u001b[1m1/1\u001b[0m \u001b[32m━━━━━━━━━━━━━━━━━━━━\u001b[0m\u001b[37m\u001b[0m \u001b[1m0s\u001b[0m 38ms/step - accuracy: 0.9375 - loss: 0.1553\n",
      "\u001b[1m1/1\u001b[0m \u001b[32m━━━━━━━━━━━━━━━━━━━━\u001b[0m\u001b[37m\u001b[0m \u001b[1m0s\u001b[0m 140ms/step\n"
     ]
    },
    {
     "name": "stderr",
     "output_type": "stream",
     "text": [
      "2025-07-22 12:11:21.184323: E tensorflow/core/framework/node_def_util.cc:680] NodeDef mentions attribute use_unbounded_threadpool which is not in the op definition: Op<name=MapDataset; signature=input_dataset:variant, other_arguments: -> handle:variant; attr=f:func; attr=Targuments:list(type),min=0; attr=output_types:list(type),min=1; attr=output_shapes:list(shape),min=1; attr=use_inter_op_parallelism:bool,default=true; attr=preserve_cardinality:bool,default=false; attr=force_synchronous:bool,default=false; attr=metadata:string,default=\"\"> This may be expected if your graph generating binary is newer  than this binary. Unknown attributes will be ignored. NodeDef: {{node ParallelMapDatasetV2/_15}}\n"
     ]
    },
    {
     "name": "stdout",
     "output_type": "stream",
     "text": [
      "----- sub_subject3_Data.mat\n",
      "\u001b[1m1/1\u001b[0m \u001b[32m━━━━━━━━━━━━━━━━━━━━\u001b[0m\u001b[37m\u001b[0m \u001b[1m0s\u001b[0m 36ms/step - accuracy: 0.2500 - loss: 1.6591\n",
      "\u001b[1m1/1\u001b[0m \u001b[32m━━━━━━━━━━━━━━━━━━━━\u001b[0m\u001b[37m\u001b[0m \u001b[1m0s\u001b[0m 132ms/step\n"
     ]
    },
    {
     "name": "stderr",
     "output_type": "stream",
     "text": [
      "2025-07-22 12:11:31.088091: E tensorflow/core/framework/node_def_util.cc:680] NodeDef mentions attribute use_unbounded_threadpool which is not in the op definition: Op<name=MapDataset; signature=input_dataset:variant, other_arguments: -> handle:variant; attr=f:func; attr=Targuments:list(type),min=0; attr=output_types:list(type),min=1; attr=output_shapes:list(shape),min=1; attr=use_inter_op_parallelism:bool,default=true; attr=preserve_cardinality:bool,default=false; attr=force_synchronous:bool,default=false; attr=metadata:string,default=\"\"> This may be expected if your graph generating binary is newer  than this binary. Unknown attributes will be ignored. NodeDef: {{node ParallelMapDatasetV2/_15}}\n"
     ]
    },
    {
     "name": "stdout",
     "output_type": "stream",
     "text": [
      "----- sub_subject4_Data.mat\n",
      "\u001b[1m1/1\u001b[0m \u001b[32m━━━━━━━━━━━━━━━━━━━━\u001b[0m\u001b[37m\u001b[0m \u001b[1m0s\u001b[0m 36ms/step - accuracy: 0.4444 - loss: 0.7485\n",
      "\u001b[1m1/1\u001b[0m \u001b[32m━━━━━━━━━━━━━━━━━━━━\u001b[0m\u001b[37m\u001b[0m \u001b[1m0s\u001b[0m 133ms/step\n"
     ]
    },
    {
     "name": "stderr",
     "output_type": "stream",
     "text": [
      "2025-07-22 12:11:40.807283: E tensorflow/core/framework/node_def_util.cc:680] NodeDef mentions attribute use_unbounded_threadpool which is not in the op definition: Op<name=MapDataset; signature=input_dataset:variant, other_arguments: -> handle:variant; attr=f:func; attr=Targuments:list(type),min=0; attr=output_types:list(type),min=1; attr=output_shapes:list(shape),min=1; attr=use_inter_op_parallelism:bool,default=true; attr=preserve_cardinality:bool,default=false; attr=force_synchronous:bool,default=false; attr=metadata:string,default=\"\"> This may be expected if your graph generating binary is newer  than this binary. Unknown attributes will be ignored. NodeDef: {{node ParallelMapDatasetV2/_15}}\n"
     ]
    },
    {
     "name": "stdout",
     "output_type": "stream",
     "text": [
      "LOO LOO4: Acc=0.5107, Prec=0.3758, Spec=0.5928, AUC=0.5503, Kappa=-0.0072\n",
      "----- sub_subject0_Data.mat\n",
      "\u001b[1m1/1\u001b[0m \u001b[32m━━━━━━━━━━━━━━━━━━━━\u001b[0m\u001b[37m\u001b[0m \u001b[1m0s\u001b[0m 37ms/step - accuracy: 0.4762 - loss: 1.6272\n",
      "\u001b[1m1/1\u001b[0m \u001b[32m━━━━━━━━━━━━━━━━━━━━\u001b[0m\u001b[37m\u001b[0m \u001b[1m0s\u001b[0m 132ms/step\n"
     ]
    },
    {
     "name": "stderr",
     "output_type": "stream",
     "text": [
      "2025-07-22 12:11:52.548805: E tensorflow/core/framework/node_def_util.cc:680] NodeDef mentions attribute use_unbounded_threadpool which is not in the op definition: Op<name=MapDataset; signature=input_dataset:variant, other_arguments: -> handle:variant; attr=f:func; attr=Targuments:list(type),min=0; attr=output_types:list(type),min=1; attr=output_shapes:list(shape),min=1; attr=use_inter_op_parallelism:bool,default=true; attr=preserve_cardinality:bool,default=false; attr=force_synchronous:bool,default=false; attr=metadata:string,default=\"\"> This may be expected if your graph generating binary is newer  than this binary. Unknown attributes will be ignored. NodeDef: {{node ParallelMapDatasetV2/_15}}\n"
     ]
    },
    {
     "name": "stdout",
     "output_type": "stream",
     "text": [
      "----- sub_subject1_Data.mat\n",
      "\u001b[1m1/1\u001b[0m \u001b[32m━━━━━━━━━━━━━━━━━━━━\u001b[0m\u001b[37m\u001b[0m \u001b[1m0s\u001b[0m 37ms/step - accuracy: 0.8125 - loss: 0.5193\n",
      "\u001b[1m1/1\u001b[0m \u001b[32m━━━━━━━━━━━━━━━━━━━━\u001b[0m\u001b[37m\u001b[0m \u001b[1m0s\u001b[0m 136ms/step\n"
     ]
    },
    {
     "name": "stderr",
     "output_type": "stream",
     "text": [
      "2025-07-22 12:12:04.949617: E tensorflow/core/framework/node_def_util.cc:680] NodeDef mentions attribute use_unbounded_threadpool which is not in the op definition: Op<name=MapDataset; signature=input_dataset:variant, other_arguments: -> handle:variant; attr=f:func; attr=Targuments:list(type),min=0; attr=output_types:list(type),min=1; attr=output_shapes:list(shape),min=1; attr=use_inter_op_parallelism:bool,default=true; attr=preserve_cardinality:bool,default=false; attr=force_synchronous:bool,default=false; attr=metadata:string,default=\"\"> This may be expected if your graph generating binary is newer  than this binary. Unknown attributes will be ignored. NodeDef: {{node ParallelMapDatasetV2/_15}}\n"
     ]
    },
    {
     "name": "stdout",
     "output_type": "stream",
     "text": [
      "----- sub_subject2_Data.mat\n",
      "\u001b[1m1/1\u001b[0m \u001b[32m━━━━━━━━━━━━━━━━━━━━\u001b[0m\u001b[37m\u001b[0m \u001b[1m0s\u001b[0m 38ms/step - accuracy: 0.8500 - loss: 0.3261\n",
      "\u001b[1m1/1\u001b[0m \u001b[32m━━━━━━━━━━━━━━━━━━━━\u001b[0m\u001b[37m\u001b[0m \u001b[1m0s\u001b[0m 139ms/step\n"
     ]
    },
    {
     "name": "stderr",
     "output_type": "stream",
     "text": [
      "2025-07-22 12:12:16.259216: E tensorflow/core/framework/node_def_util.cc:680] NodeDef mentions attribute use_unbounded_threadpool which is not in the op definition: Op<name=MapDataset; signature=input_dataset:variant, other_arguments: -> handle:variant; attr=f:func; attr=Targuments:list(type),min=0; attr=output_types:list(type),min=1; attr=output_shapes:list(shape),min=1; attr=use_inter_op_parallelism:bool,default=true; attr=preserve_cardinality:bool,default=false; attr=force_synchronous:bool,default=false; attr=metadata:string,default=\"\"> This may be expected if your graph generating binary is newer  than this binary. Unknown attributes will be ignored. NodeDef: {{node ParallelMapDatasetV2/_15}}\n"
     ]
    },
    {
     "name": "stdout",
     "output_type": "stream",
     "text": [
      "----- sub_subject3_Data.mat\n",
      "\u001b[1m1/1\u001b[0m \u001b[32m━━━━━━━━━━━━━━━━━━━━\u001b[0m\u001b[37m\u001b[0m \u001b[1m0s\u001b[0m 37ms/step - accuracy: 1.0000 - loss: 0.0357\n",
      "\u001b[1m1/1\u001b[0m \u001b[32m━━━━━━━━━━━━━━━━━━━━\u001b[0m\u001b[37m\u001b[0m \u001b[1m0s\u001b[0m 133ms/step\n"
     ]
    },
    {
     "name": "stderr",
     "output_type": "stream",
     "text": [
      "2025-07-22 12:12:27.548044: E tensorflow/core/framework/node_def_util.cc:680] NodeDef mentions attribute use_unbounded_threadpool which is not in the op definition: Op<name=MapDataset; signature=input_dataset:variant, other_arguments: -> handle:variant; attr=f:func; attr=Targuments:list(type),min=0; attr=output_types:list(type),min=1; attr=output_shapes:list(shape),min=1; attr=use_inter_op_parallelism:bool,default=true; attr=preserve_cardinality:bool,default=false; attr=force_synchronous:bool,default=false; attr=metadata:string,default=\"\"> This may be expected if your graph generating binary is newer  than this binary. Unknown attributes will be ignored. NodeDef: {{node ParallelMapDatasetV2/_15}}\n"
     ]
    },
    {
     "name": "stdout",
     "output_type": "stream",
     "text": [
      "----- sub_subject4_Data.mat\n",
      "\u001b[1m1/1\u001b[0m \u001b[32m━━━━━━━━━━━━━━━━━━━━\u001b[0m\u001b[37m\u001b[0m \u001b[1m0s\u001b[0m 37ms/step - accuracy: 0.2000 - loss: 1.7974\n",
      "\u001b[1m1/1\u001b[0m \u001b[32m━━━━━━━━━━━━━━━━━━━━\u001b[0m\u001b[37m\u001b[0m \u001b[1m0s\u001b[0m 133ms/step\n"
     ]
    },
    {
     "name": "stderr",
     "output_type": "stream",
     "text": [
      "2025-07-22 12:12:38.790127: E tensorflow/core/framework/node_def_util.cc:680] NodeDef mentions attribute use_unbounded_threadpool which is not in the op definition: Op<name=MapDataset; signature=input_dataset:variant, other_arguments: -> handle:variant; attr=f:func; attr=Targuments:list(type),min=0; attr=output_types:list(type),min=1; attr=output_shapes:list(shape),min=1; attr=use_inter_op_parallelism:bool,default=true; attr=preserve_cardinality:bool,default=false; attr=force_synchronous:bool,default=false; attr=metadata:string,default=\"\"> This may be expected if your graph generating binary is newer  than this binary. Unknown attributes will be ignored. NodeDef: {{node ParallelMapDatasetV2/_15}}\n"
     ]
    },
    {
     "name": "stdout",
     "output_type": "stream",
     "text": [
      "LOO LOO5: Acc=0.6677, Prec=0.6716, Spec=0.4872, AUC=0.7094, Kappa=0.3018\n",
      "----- sub_subject0_Data.mat\n",
      "\u001b[1m1/1\u001b[0m \u001b[32m━━━━━━━━━━━━━━━━━━━━\u001b[0m\u001b[37m\u001b[0m \u001b[1m0s\u001b[0m 36ms/step - accuracy: 0.6500 - loss: 2.3767\n",
      "\u001b[1m1/1\u001b[0m \u001b[32m━━━━━━━━━━━━━━━━━━━━\u001b[0m\u001b[37m\u001b[0m \u001b[1m0s\u001b[0m 132ms/step\n"
     ]
    },
    {
     "name": "stderr",
     "output_type": "stream",
     "text": [
      "2025-07-22 12:12:49.967777: E tensorflow/core/framework/node_def_util.cc:680] NodeDef mentions attribute use_unbounded_threadpool which is not in the op definition: Op<name=MapDataset; signature=input_dataset:variant, other_arguments: -> handle:variant; attr=f:func; attr=Targuments:list(type),min=0; attr=output_types:list(type),min=1; attr=output_shapes:list(shape),min=1; attr=use_inter_op_parallelism:bool,default=true; attr=preserve_cardinality:bool,default=false; attr=force_synchronous:bool,default=false; attr=metadata:string,default=\"\"> This may be expected if your graph generating binary is newer  than this binary. Unknown attributes will be ignored. NodeDef: {{node ParallelMapDatasetV2/_15}}\n"
     ]
    },
    {
     "name": "stdout",
     "output_type": "stream",
     "text": [
      "----- sub_subject1_Data.mat\n",
      "\u001b[1m1/1\u001b[0m \u001b[32m━━━━━━━━━━━━━━━━━━━━\u001b[0m\u001b[37m\u001b[0m \u001b[1m0s\u001b[0m 36ms/step - accuracy: 1.0000 - loss: 0.0117\n",
      "\u001b[1m1/1\u001b[0m \u001b[32m━━━━━━━━━━━━━━━━━━━━\u001b[0m\u001b[37m\u001b[0m \u001b[1m0s\u001b[0m 132ms/step\n"
     ]
    },
    {
     "name": "stderr",
     "output_type": "stream",
     "text": [
      "2025-07-22 12:13:00.673724: E tensorflow/core/framework/node_def_util.cc:680] NodeDef mentions attribute use_unbounded_threadpool which is not in the op definition: Op<name=MapDataset; signature=input_dataset:variant, other_arguments: -> handle:variant; attr=f:func; attr=Targuments:list(type),min=0; attr=output_types:list(type),min=1; attr=output_shapes:list(shape),min=1; attr=use_inter_op_parallelism:bool,default=true; attr=preserve_cardinality:bool,default=false; attr=force_synchronous:bool,default=false; attr=metadata:string,default=\"\"> This may be expected if your graph generating binary is newer  than this binary. Unknown attributes will be ignored. NodeDef: {{node ParallelMapDatasetV2/_15}}\n"
     ]
    },
    {
     "name": "stdout",
     "output_type": "stream",
     "text": [
      "----- sub_subject2_Data.mat\n",
      "\u001b[1m1/1\u001b[0m \u001b[32m━━━━━━━━━━━━━━━━━━━━\u001b[0m\u001b[37m\u001b[0m \u001b[1m0s\u001b[0m 38ms/step - accuracy: 0.5238 - loss: 3.7581\n",
      "\u001b[1m1/1\u001b[0m \u001b[32m━━━━━━━━━━━━━━━━━━━━\u001b[0m\u001b[37m\u001b[0m \u001b[1m0s\u001b[0m 132ms/step\n"
     ]
    },
    {
     "name": "stderr",
     "output_type": "stream",
     "text": [
      "2025-07-22 12:13:11.423750: E tensorflow/core/framework/node_def_util.cc:680] NodeDef mentions attribute use_unbounded_threadpool which is not in the op definition: Op<name=MapDataset; signature=input_dataset:variant, other_arguments: -> handle:variant; attr=f:func; attr=Targuments:list(type),min=0; attr=output_types:list(type),min=1; attr=output_shapes:list(shape),min=1; attr=use_inter_op_parallelism:bool,default=true; attr=preserve_cardinality:bool,default=false; attr=force_synchronous:bool,default=false; attr=metadata:string,default=\"\"> This may be expected if your graph generating binary is newer  than this binary. Unknown attributes will be ignored. NodeDef: {{node ParallelMapDatasetV2/_15}}\n"
     ]
    },
    {
     "name": "stdout",
     "output_type": "stream",
     "text": [
      "----- sub_subject3_Data.mat\n",
      "\u001b[1m1/1\u001b[0m \u001b[32m━━━━━━━━━━━━━━━━━━━━\u001b[0m\u001b[37m\u001b[0m \u001b[1m0s\u001b[0m 36ms/step - accuracy: 0.5909 - loss: 1.9739\n",
      "\u001b[1m1/1\u001b[0m \u001b[32m━━━━━━━━━━━━━━━━━━━━\u001b[0m\u001b[37m\u001b[0m \u001b[1m0s\u001b[0m 135ms/step\n"
     ]
    },
    {
     "name": "stderr",
     "output_type": "stream",
     "text": [
      "2025-07-22 12:13:22.080808: E tensorflow/core/framework/node_def_util.cc:680] NodeDef mentions attribute use_unbounded_threadpool which is not in the op definition: Op<name=MapDataset; signature=input_dataset:variant, other_arguments: -> handle:variant; attr=f:func; attr=Targuments:list(type),min=0; attr=output_types:list(type),min=1; attr=output_shapes:list(shape),min=1; attr=use_inter_op_parallelism:bool,default=true; attr=preserve_cardinality:bool,default=false; attr=force_synchronous:bool,default=false; attr=metadata:string,default=\"\"> This may be expected if your graph generating binary is newer  than this binary. Unknown attributes will be ignored. NodeDef: {{node ParallelMapDatasetV2/_15}}\n"
     ]
    },
    {
     "name": "stdout",
     "output_type": "stream",
     "text": [
      "----- sub_subject4_Data.mat\n",
      "\u001b[1m1/1\u001b[0m \u001b[32m━━━━━━━━━━━━━━━━━━━━\u001b[0m\u001b[37m\u001b[0m \u001b[1m0s\u001b[0m 37ms/step - accuracy: 1.0000 - loss: 0.0265\n",
      "\u001b[1m1/1\u001b[0m \u001b[32m━━━━━━━━━━━━━━━━━━━━\u001b[0m\u001b[37m\u001b[0m \u001b[1m0s\u001b[0m 138ms/step\n"
     ]
    },
    {
     "name": "stderr",
     "output_type": "stream",
     "text": [
      "2025-07-22 12:13:33.978244: E tensorflow/core/framework/node_def_util.cc:680] NodeDef mentions attribute use_unbounded_threadpool which is not in the op definition: Op<name=MapDataset; signature=input_dataset:variant, other_arguments: -> handle:variant; attr=f:func; attr=Targuments:list(type),min=0; attr=output_types:list(type),min=1; attr=output_shapes:list(shape),min=1; attr=use_inter_op_parallelism:bool,default=true; attr=preserve_cardinality:bool,default=false; attr=force_synchronous:bool,default=false; attr=metadata:string,default=\"\"> This may be expected if your graph generating binary is newer  than this binary. Unknown attributes will be ignored. NodeDef: {{node ParallelMapDatasetV2/_15}}\n"
     ]
    },
    {
     "name": "stdout",
     "output_type": "stream",
     "text": [
      "LOO LOO6: Acc=0.7529, Prec=0.6786, Spec=0.5750, AUC=0.7961, Kappa=0.4492\n",
      "----- sub_subject0_Data.mat\n",
      "\u001b[1m1/1\u001b[0m \u001b[32m━━━━━━━━━━━━━━━━━━━━\u001b[0m\u001b[37m\u001b[0m \u001b[1m0s\u001b[0m 36ms/step - accuracy: 0.4118 - loss: 1.2630\n",
      "\u001b[1m1/1\u001b[0m \u001b[32m━━━━━━━━━━━━━━━━━━━━\u001b[0m\u001b[37m\u001b[0m \u001b[1m0s\u001b[0m 138ms/step\n"
     ]
    },
    {
     "name": "stderr",
     "output_type": "stream",
     "text": [
      "2025-07-22 12:13:42.993688: E tensorflow/core/framework/node_def_util.cc:680] NodeDef mentions attribute use_unbounded_threadpool which is not in the op definition: Op<name=MapDataset; signature=input_dataset:variant, other_arguments: -> handle:variant; attr=f:func; attr=Targuments:list(type),min=0; attr=output_types:list(type),min=1; attr=output_shapes:list(shape),min=1; attr=use_inter_op_parallelism:bool,default=true; attr=preserve_cardinality:bool,default=false; attr=force_synchronous:bool,default=false; attr=metadata:string,default=\"\"> This may be expected if your graph generating binary is newer  than this binary. Unknown attributes will be ignored. NodeDef: {{node ParallelMapDatasetV2/_15}}\n"
     ]
    },
    {
     "name": "stdout",
     "output_type": "stream",
     "text": [
      "----- sub_subject1_Data.mat\n",
      "\u001b[1m1/1\u001b[0m \u001b[32m━━━━━━━━━━━━━━━━━━━━\u001b[0m\u001b[37m\u001b[0m \u001b[1m0s\u001b[0m 36ms/step - accuracy: 0.5000 - loss: 2.6223\n",
      "\u001b[1m1/1\u001b[0m \u001b[32m━━━━━━━━━━━━━━━━━━━━\u001b[0m\u001b[37m\u001b[0m \u001b[1m0s\u001b[0m 134ms/step\n"
     ]
    },
    {
     "name": "stderr",
     "output_type": "stream",
     "text": [
      "2025-07-22 12:13:51.436703: E tensorflow/core/framework/node_def_util.cc:680] NodeDef mentions attribute use_unbounded_threadpool which is not in the op definition: Op<name=MapDataset; signature=input_dataset:variant, other_arguments: -> handle:variant; attr=f:func; attr=Targuments:list(type),min=0; attr=output_types:list(type),min=1; attr=output_shapes:list(shape),min=1; attr=use_inter_op_parallelism:bool,default=true; attr=preserve_cardinality:bool,default=false; attr=force_synchronous:bool,default=false; attr=metadata:string,default=\"\"> This may be expected if your graph generating binary is newer  than this binary. Unknown attributes will be ignored. NodeDef: {{node ParallelMapDatasetV2/_15}}\n"
     ]
    },
    {
     "name": "stdout",
     "output_type": "stream",
     "text": [
      "----- sub_subject2_Data.mat\n",
      "\u001b[1m1/1\u001b[0m \u001b[32m━━━━━━━━━━━━━━━━━━━━\u001b[0m\u001b[37m\u001b[0m \u001b[1m0s\u001b[0m 39ms/step - accuracy: 0.5500 - loss: 1.9760\n",
      "\u001b[1m1/1\u001b[0m \u001b[32m━━━━━━━━━━━━━━━━━━━━\u001b[0m\u001b[37m\u001b[0m \u001b[1m0s\u001b[0m 131ms/step"
     ]
    },
    {
     "name": "stderr",
     "output_type": "stream",
     "text": [
      "2025-07-22 12:13:59.888731: E tensorflow/core/framework/node_def_util.cc:680] NodeDef mentions attribute use_unbounded_threadpool which is not in the op definition: Op<name=MapDataset; signature=input_dataset:variant, other_arguments: -> handle:variant; attr=f:func; attr=Targuments:list(type),min=0; attr=output_types:list(type),min=1; attr=output_shapes:list(shape),min=1; attr=use_inter_op_parallelism:bool,default=true; attr=preserve_cardinality:bool,default=false; attr=force_synchronous:bool,default=false; attr=metadata:string,default=\"\"> This may be expected if your graph generating binary is newer  than this binary. Unknown attributes will be ignored. NodeDef: {{node ParallelMapDatasetV2/_15}}\n"
     ]
    },
    {
     "name": "stdout",
     "output_type": "stream",
     "text": [
      "\u001b[1m1/1\u001b[0m \u001b[32m━━━━━━━━━━━━━━━━━━━━\u001b[0m\u001b[37m\u001b[0m \u001b[1m0s\u001b[0m 144ms/step\n",
      "----- sub_subject3_Data.mat\n",
      "\u001b[1m1/1\u001b[0m \u001b[32m━━━━━━━━━━━━━━━━━━━━\u001b[0m\u001b[37m\u001b[0m \u001b[1m0s\u001b[0m 40ms/step - accuracy: 0.3333 - loss: 2.5658\n",
      "\u001b[1m1/1\u001b[0m \u001b[32m━━━━━━━━━━━━━━━━━━━━\u001b[0m\u001b[37m\u001b[0m \u001b[1m0s\u001b[0m 134ms/step"
     ]
    },
    {
     "name": "stderr",
     "output_type": "stream",
     "text": [
      "2025-07-22 12:14:08.464980: E tensorflow/core/framework/node_def_util.cc:680] NodeDef mentions attribute use_unbounded_threadpool which is not in the op definition: Op<name=MapDataset; signature=input_dataset:variant, other_arguments: -> handle:variant; attr=f:func; attr=Targuments:list(type),min=0; attr=output_types:list(type),min=1; attr=output_shapes:list(shape),min=1; attr=use_inter_op_parallelism:bool,default=true; attr=preserve_cardinality:bool,default=false; attr=force_synchronous:bool,default=false; attr=metadata:string,default=\"\"> This may be expected if your graph generating binary is newer  than this binary. Unknown attributes will be ignored. NodeDef: {{node ParallelMapDatasetV2/_15}}\n"
     ]
    },
    {
     "name": "stdout",
     "output_type": "stream",
     "text": [
      "\u001b[1m1/1\u001b[0m \u001b[32m━━━━━━━━━━━━━━━━━━━━\u001b[0m\u001b[37m\u001b[0m \u001b[1m0s\u001b[0m 146ms/step\n",
      "----- sub_subject4_Data.mat\n",
      "\u001b[1m1/1\u001b[0m \u001b[32m━━━━━━━━━━━━━━━━━━━━\u001b[0m\u001b[37m\u001b[0m \u001b[1m0s\u001b[0m 40ms/step - accuracy: 0.5500 - loss: 2.9740\n",
      "\u001b[1m1/1\u001b[0m \u001b[32m━━━━━━━━━━━━━━━━━━━━\u001b[0m\u001b[37m\u001b[0m \u001b[1m0s\u001b[0m 130ms/step"
     ]
    },
    {
     "name": "stderr",
     "output_type": "stream",
     "text": [
      "2025-07-22 12:14:17.189062: E tensorflow/core/framework/node_def_util.cc:680] NodeDef mentions attribute use_unbounded_threadpool which is not in the op definition: Op<name=MapDataset; signature=input_dataset:variant, other_arguments: -> handle:variant; attr=f:func; attr=Targuments:list(type),min=0; attr=output_types:list(type),min=1; attr=output_shapes:list(shape),min=1; attr=use_inter_op_parallelism:bool,default=true; attr=preserve_cardinality:bool,default=false; attr=force_synchronous:bool,default=false; attr=metadata:string,default=\"\"> This may be expected if your graph generating binary is newer  than this binary. Unknown attributes will be ignored. NodeDef: {{node ParallelMapDatasetV2/_15}}\n"
     ]
    },
    {
     "name": "stdout",
     "output_type": "stream",
     "text": [
      "\u001b[1m1/1\u001b[0m \u001b[32m━━━━━━━━━━━━━━━━━━━━\u001b[0m\u001b[37m\u001b[0m \u001b[1m0s\u001b[0m 142ms/step\n",
      "LOO LOO7: Acc=0.4690, Prec=0.3319, Spec=0.2722, AUC=0.6672, Kappa=-0.0772\n",
      "----- sub_UN_101_Data.mat\n",
      "\u001b[1m1/1\u001b[0m \u001b[32m━━━━━━━━━━━━━━━━━━━━\u001b[0m\u001b[37m\u001b[0m \u001b[1m0s\u001b[0m 40ms/step - accuracy: 1.0000 - loss: 0.0840\n",
      "\u001b[1m1/2\u001b[0m \u001b[32m━━━━━━━━━━\u001b[0m\u001b[37m━━━━━━━━━━\u001b[0m \u001b[1m0s\u001b[0m 133ms/step"
     ]
    },
    {
     "name": "stderr",
     "output_type": "stream",
     "text": [
      "2025-07-22 12:14:34.075261: E tensorflow/core/framework/node_def_util.cc:680] NodeDef mentions attribute use_unbounded_threadpool which is not in the op definition: Op<name=MapDataset; signature=input_dataset:variant, other_arguments: -> handle:variant; attr=f:func; attr=Targuments:list(type),min=0; attr=output_types:list(type),min=1; attr=output_shapes:list(shape),min=1; attr=use_inter_op_parallelism:bool,default=true; attr=preserve_cardinality:bool,default=false; attr=force_synchronous:bool,default=false; attr=metadata:string,default=\"\"> This may be expected if your graph generating binary is newer  than this binary. Unknown attributes will be ignored. NodeDef: {{node ParallelMapDatasetV2/_15}}\n"
     ]
    },
    {
     "name": "stdout",
     "output_type": "stream",
     "text": [
      "\u001b[1m2/2\u001b[0m \u001b[32m━━━━━━━━━━━━━━━━━━━━\u001b[0m\u001b[37m\u001b[0m \u001b[1m0s\u001b[0m 126ms/step\n",
      "----- sub_UN_103_Data.mat\n",
      "\u001b[1m1/1\u001b[0m \u001b[32m━━━━━━━━━━━━━━━━━━━━\u001b[0m\u001b[37m\u001b[0m \u001b[1m0s\u001b[0m 38ms/step - accuracy: 0.5556 - loss: 0.5729\n",
      "\u001b[1m1/2\u001b[0m \u001b[32m━━━━━━━━━━\u001b[0m\u001b[37m━━━━━━━━━━\u001b[0m \u001b[1m0s\u001b[0m 122ms/step"
     ]
    },
    {
     "name": "stderr",
     "output_type": "stream",
     "text": [
      "2025-07-22 12:14:50.509145: E tensorflow/core/framework/node_def_util.cc:680] NodeDef mentions attribute use_unbounded_threadpool which is not in the op definition: Op<name=MapDataset; signature=input_dataset:variant, other_arguments: -> handle:variant; attr=f:func; attr=Targuments:list(type),min=0; attr=output_types:list(type),min=1; attr=output_shapes:list(shape),min=1; attr=use_inter_op_parallelism:bool,default=true; attr=preserve_cardinality:bool,default=false; attr=force_synchronous:bool,default=false; attr=metadata:string,default=\"\"> This may be expected if your graph generating binary is newer  than this binary. Unknown attributes will be ignored. NodeDef: {{node ParallelMapDatasetV2/_15}}\n"
     ]
    },
    {
     "name": "stdout",
     "output_type": "stream",
     "text": [
      "\u001b[1m2/2\u001b[0m \u001b[32m━━━━━━━━━━━━━━━━━━━━\u001b[0m\u001b[37m\u001b[0m \u001b[1m0s\u001b[0m 116ms/step\n",
      "----- sub_UN_104_Data.mat\n",
      "\u001b[1m1/1\u001b[0m \u001b[32m━━━━━━━━━━━━━━━━━━━━\u001b[0m\u001b[37m\u001b[0m \u001b[1m0s\u001b[0m 38ms/step - accuracy: 0.2778 - loss: 1.9825\n",
      "\u001b[1m1/2\u001b[0m \u001b[32m━━━━━━━━━━\u001b[0m\u001b[37m━━━━━━━━━━\u001b[0m \u001b[1m0s\u001b[0m 123ms/step"
     ]
    },
    {
     "name": "stderr",
     "output_type": "stream",
     "text": [
      "2025-07-22 12:15:06.942409: E tensorflow/core/framework/node_def_util.cc:680] NodeDef mentions attribute use_unbounded_threadpool which is not in the op definition: Op<name=MapDataset; signature=input_dataset:variant, other_arguments: -> handle:variant; attr=f:func; attr=Targuments:list(type),min=0; attr=output_types:list(type),min=1; attr=output_shapes:list(shape),min=1; attr=use_inter_op_parallelism:bool,default=true; attr=preserve_cardinality:bool,default=false; attr=force_synchronous:bool,default=false; attr=metadata:string,default=\"\"> This may be expected if your graph generating binary is newer  than this binary. Unknown attributes will be ignored. NodeDef: {{node ParallelMapDatasetV2/_15}}\n"
     ]
    },
    {
     "name": "stdout",
     "output_type": "stream",
     "text": [
      "\u001b[1m2/2\u001b[0m \u001b[32m━━━━━━━━━━━━━━━━━━━━\u001b[0m\u001b[37m\u001b[0m \u001b[1m0s\u001b[0m 116ms/step\n",
      "----- sub_UN_105_Data.mat\n",
      "\u001b[1m1/1\u001b[0m \u001b[32m━━━━━━━━━━━━━━━━━━━━\u001b[0m\u001b[37m\u001b[0m \u001b[1m0s\u001b[0m 40ms/step - accuracy: 0.4444 - loss: 5.7662\n",
      "\u001b[1m1/2\u001b[0m \u001b[32m━━━━━━━━━━\u001b[0m\u001b[37m━━━━━━━━━━\u001b[0m \u001b[1m0s\u001b[0m 128ms/step"
     ]
    },
    {
     "name": "stderr",
     "output_type": "stream",
     "text": [
      "2025-07-22 12:15:24.768439: E tensorflow/core/framework/node_def_util.cc:680] NodeDef mentions attribute use_unbounded_threadpool which is not in the op definition: Op<name=MapDataset; signature=input_dataset:variant, other_arguments: -> handle:variant; attr=f:func; attr=Targuments:list(type),min=0; attr=output_types:list(type),min=1; attr=output_shapes:list(shape),min=1; attr=use_inter_op_parallelism:bool,default=true; attr=preserve_cardinality:bool,default=false; attr=force_synchronous:bool,default=false; attr=metadata:string,default=\"\"> This may be expected if your graph generating binary is newer  than this binary. Unknown attributes will be ignored. NodeDef: {{node ParallelMapDatasetV2/_15}}\n"
     ]
    },
    {
     "name": "stdout",
     "output_type": "stream",
     "text": [
      "\u001b[1m2/2\u001b[0m \u001b[32m━━━━━━━━━━━━━━━━━━━━\u001b[0m\u001b[37m\u001b[0m \u001b[1m0s\u001b[0m 126ms/step\n",
      "----- sub_UN_106_Data.mat\n",
      "\u001b[1m1/1\u001b[0m \u001b[32m━━━━━━━━━━━━━━━━━━━━\u001b[0m\u001b[37m\u001b[0m \u001b[1m0s\u001b[0m 38ms/step - accuracy: 0.5000 - loss: 1.4605\n",
      "\u001b[1m1/2\u001b[0m \u001b[32m━━━━━━━━━━\u001b[0m\u001b[37m━━━━━━━━━━\u001b[0m \u001b[1m0s\u001b[0m 124ms/step"
     ]
    },
    {
     "name": "stderr",
     "output_type": "stream",
     "text": [
      "2025-07-22 12:15:41.271568: E tensorflow/core/framework/node_def_util.cc:680] NodeDef mentions attribute use_unbounded_threadpool which is not in the op definition: Op<name=MapDataset; signature=input_dataset:variant, other_arguments: -> handle:variant; attr=f:func; attr=Targuments:list(type),min=0; attr=output_types:list(type),min=1; attr=output_shapes:list(shape),min=1; attr=use_inter_op_parallelism:bool,default=true; attr=preserve_cardinality:bool,default=false; attr=force_synchronous:bool,default=false; attr=metadata:string,default=\"\"> This may be expected if your graph generating binary is newer  than this binary. Unknown attributes will be ignored. NodeDef: {{node ParallelMapDatasetV2/_15}}\n"
     ]
    },
    {
     "name": "stdout",
     "output_type": "stream",
     "text": [
      "\u001b[1m2/2\u001b[0m \u001b[32m━━━━━━━━━━━━━━━━━━━━\u001b[0m\u001b[37m\u001b[0m \u001b[1m0s\u001b[0m 119ms/step\n",
      "LOO LOO8: Acc=0.5556, Prec=0.5226, Spec=0.4778, AUC=0.5272, Kappa=0.1111\n",
      "----- sub_UN_101_Data.mat\n",
      "\u001b[1m1/1\u001b[0m \u001b[32m━━━━━━━━━━━━━━━━━━━━\u001b[0m\u001b[37m\u001b[0m \u001b[1m0s\u001b[0m 40ms/step - accuracy: 0.9444 - loss: 0.1561\n",
      "\u001b[1m1/2\u001b[0m \u001b[32m━━━━━━━━━━\u001b[0m\u001b[37m━━━━━━━━━━\u001b[0m \u001b[1m0s\u001b[0m 125ms/step"
     ]
    },
    {
     "name": "stderr",
     "output_type": "stream",
     "text": [
      "2025-07-22 12:15:58.496181: E tensorflow/core/framework/node_def_util.cc:680] NodeDef mentions attribute use_unbounded_threadpool which is not in the op definition: Op<name=MapDataset; signature=input_dataset:variant, other_arguments: -> handle:variant; attr=f:func; attr=Targuments:list(type),min=0; attr=output_types:list(type),min=1; attr=output_shapes:list(shape),min=1; attr=use_inter_op_parallelism:bool,default=true; attr=preserve_cardinality:bool,default=false; attr=force_synchronous:bool,default=false; attr=metadata:string,default=\"\"> This may be expected if your graph generating binary is newer  than this binary. Unknown attributes will be ignored. NodeDef: {{node ParallelMapDatasetV2/_15}}\n"
     ]
    },
    {
     "name": "stdout",
     "output_type": "stream",
     "text": [
      "\u001b[1m2/2\u001b[0m \u001b[32m━━━━━━━━━━━━━━━━━━━━\u001b[0m\u001b[37m\u001b[0m \u001b[1m0s\u001b[0m 116ms/step\n",
      "----- sub_UN_102_Data.mat\n",
      "\u001b[1m1/1\u001b[0m \u001b[32m━━━━━━━━━━━━━━━━━━━━\u001b[0m\u001b[37m\u001b[0m \u001b[1m0s\u001b[0m 39ms/step - accuracy: 1.0000 - loss: 0.0203\n",
      "\u001b[1m1/2\u001b[0m \u001b[32m━━━━━━━━━━\u001b[0m\u001b[37m━━━━━━━━━━\u001b[0m \u001b[1m0s\u001b[0m 123ms/step"
     ]
    },
    {
     "name": "stderr",
     "output_type": "stream",
     "text": [
      "2025-07-22 12:16:14.692280: E tensorflow/core/framework/node_def_util.cc:680] NodeDef mentions attribute use_unbounded_threadpool which is not in the op definition: Op<name=MapDataset; signature=input_dataset:variant, other_arguments: -> handle:variant; attr=f:func; attr=Targuments:list(type),min=0; attr=output_types:list(type),min=1; attr=output_shapes:list(shape),min=1; attr=use_inter_op_parallelism:bool,default=true; attr=preserve_cardinality:bool,default=false; attr=force_synchronous:bool,default=false; attr=metadata:string,default=\"\"> This may be expected if your graph generating binary is newer  than this binary. Unknown attributes will be ignored. NodeDef: {{node ParallelMapDatasetV2/_15}}\n"
     ]
    },
    {
     "name": "stdout",
     "output_type": "stream",
     "text": [
      "\u001b[1m2/2\u001b[0m \u001b[32m━━━━━━━━━━━━━━━━━━━━\u001b[0m\u001b[37m\u001b[0m \u001b[1m0s\u001b[0m 119ms/step\n",
      "----- sub_UN_103_Data.mat\n",
      "\u001b[1m1/1\u001b[0m \u001b[32m━━━━━━━━━━━━━━━━━━━━\u001b[0m\u001b[37m\u001b[0m \u001b[1m0s\u001b[0m 39ms/step - accuracy: 1.0000 - loss: 0.0711\n",
      "\u001b[1m1/2\u001b[0m \u001b[32m━━━━━━━━━━\u001b[0m\u001b[37m━━━━━━━━━━\u001b[0m \u001b[1m0s\u001b[0m 128ms/step"
     ]
    },
    {
     "name": "stderr",
     "output_type": "stream",
     "text": [
      "2025-07-22 12:16:31.046653: E tensorflow/core/framework/node_def_util.cc:680] NodeDef mentions attribute use_unbounded_threadpool which is not in the op definition: Op<name=MapDataset; signature=input_dataset:variant, other_arguments: -> handle:variant; attr=f:func; attr=Targuments:list(type),min=0; attr=output_types:list(type),min=1; attr=output_shapes:list(shape),min=1; attr=use_inter_op_parallelism:bool,default=true; attr=preserve_cardinality:bool,default=false; attr=force_synchronous:bool,default=false; attr=metadata:string,default=\"\"> This may be expected if your graph generating binary is newer  than this binary. Unknown attributes will be ignored. NodeDef: {{node ParallelMapDatasetV2/_15}}\n"
     ]
    },
    {
     "name": "stdout",
     "output_type": "stream",
     "text": [
      "\u001b[1m2/2\u001b[0m \u001b[32m━━━━━━━━━━━━━━━━━━━━\u001b[0m\u001b[37m\u001b[0m \u001b[1m0s\u001b[0m 122ms/step\n",
      "----- sub_UN_104_Data.mat\n",
      "\u001b[1m1/1\u001b[0m \u001b[32m━━━━━━━━━━━━━━━━━━━━\u001b[0m\u001b[37m\u001b[0m \u001b[1m0s\u001b[0m 38ms/step - accuracy: 0.5000 - loss: 2.5331\n",
      "\u001b[1m1/2\u001b[0m \u001b[32m━━━━━━━━━━\u001b[0m\u001b[37m━━━━━━━━━━\u001b[0m \u001b[1m0s\u001b[0m 123ms/step"
     ]
    },
    {
     "name": "stderr",
     "output_type": "stream",
     "text": [
      "2025-07-22 12:16:47.354445: E tensorflow/core/framework/node_def_util.cc:680] NodeDef mentions attribute use_unbounded_threadpool which is not in the op definition: Op<name=MapDataset; signature=input_dataset:variant, other_arguments: -> handle:variant; attr=f:func; attr=Targuments:list(type),min=0; attr=output_types:list(type),min=1; attr=output_shapes:list(shape),min=1; attr=use_inter_op_parallelism:bool,default=true; attr=preserve_cardinality:bool,default=false; attr=force_synchronous:bool,default=false; attr=metadata:string,default=\"\"> This may be expected if your graph generating binary is newer  than this binary. Unknown attributes will be ignored. NodeDef: {{node ParallelMapDatasetV2/_15}}\n"
     ]
    },
    {
     "name": "stdout",
     "output_type": "stream",
     "text": [
      "\u001b[1m2/2\u001b[0m \u001b[32m━━━━━━━━━━━━━━━━━━━━\u001b[0m\u001b[37m\u001b[0m \u001b[1m0s\u001b[0m 119ms/step\n",
      "----- sub_UN_105_Data.mat\n",
      "\u001b[1m1/1\u001b[0m \u001b[32m━━━━━━━━━━━━━━━━━━━━\u001b[0m\u001b[37m\u001b[0m \u001b[1m0s\u001b[0m 39ms/step - accuracy: 0.5000 - loss: 1.4053\n",
      "\u001b[1m1/2\u001b[0m \u001b[32m━━━━━━━━━━\u001b[0m\u001b[37m━━━━━━━━━━\u001b[0m \u001b[1m0s\u001b[0m 126ms/step"
     ]
    },
    {
     "name": "stderr",
     "output_type": "stream",
     "text": [
      "2025-07-22 12:17:03.650269: E tensorflow/core/framework/node_def_util.cc:680] NodeDef mentions attribute use_unbounded_threadpool which is not in the op definition: Op<name=MapDataset; signature=input_dataset:variant, other_arguments: -> handle:variant; attr=f:func; attr=Targuments:list(type),min=0; attr=output_types:list(type),min=1; attr=output_shapes:list(shape),min=1; attr=use_inter_op_parallelism:bool,default=true; attr=preserve_cardinality:bool,default=false; attr=force_synchronous:bool,default=false; attr=metadata:string,default=\"\"> This may be expected if your graph generating binary is newer  than this binary. Unknown attributes will be ignored. NodeDef: {{node ParallelMapDatasetV2/_15}}\n"
     ]
    },
    {
     "name": "stdout",
     "output_type": "stream",
     "text": [
      "\u001b[1m2/2\u001b[0m \u001b[32m━━━━━━━━━━━━━━━━━━━━\u001b[0m\u001b[37m\u001b[0m \u001b[1m0s\u001b[0m 122ms/step\n",
      "LOO LOO9: Acc=0.7889, Prec=0.6900, Spec=1.0000, AUC=0.8877, Kappa=0.5778\n",
      "----- sub_UN_101_Data.mat\n",
      "\u001b[1m1/1\u001b[0m \u001b[32m━━━━━━━━━━━━━━━━━━━━\u001b[0m\u001b[37m\u001b[0m \u001b[1m0s\u001b[0m 38ms/step - accuracy: 0.5000 - loss: 9.1287\n",
      "\u001b[1m1/1\u001b[0m \u001b[32m━━━━━━━━━━━━━━━━━━━━\u001b[0m\u001b[37m\u001b[0m \u001b[1m0s\u001b[0m 122ms/step"
     ]
    },
    {
     "name": "stderr",
     "output_type": "stream",
     "text": [
      "2025-07-22 12:17:16.209657: E tensorflow/core/framework/node_def_util.cc:680] NodeDef mentions attribute use_unbounded_threadpool which is not in the op definition: Op<name=MapDataset; signature=input_dataset:variant, other_arguments: -> handle:variant; attr=f:func; attr=Targuments:list(type),min=0; attr=output_types:list(type),min=1; attr=output_shapes:list(shape),min=1; attr=use_inter_op_parallelism:bool,default=true; attr=preserve_cardinality:bool,default=false; attr=force_synchronous:bool,default=false; attr=metadata:string,default=\"\"> This may be expected if your graph generating binary is newer  than this binary. Unknown attributes will be ignored. NodeDef: {{node ParallelMapDatasetV2/_15}}\n"
     ]
    },
    {
     "name": "stdout",
     "output_type": "stream",
     "text": [
      "\u001b[1m1/1\u001b[0m \u001b[32m━━━━━━━━━━━━━━━━━━━━\u001b[0m\u001b[37m\u001b[0m \u001b[1m0s\u001b[0m 133ms/step\n",
      "----- sub_UN_104_Data.mat\n",
      "\u001b[1m1/1\u001b[0m \u001b[32m━━━━━━━━━━━━━━━━━━━━\u001b[0m\u001b[37m\u001b[0m \u001b[1m0s\u001b[0m 41ms/step - accuracy: 0.4375 - loss: 5.9820\n",
      "\u001b[1m2/2\u001b[0m \u001b[32m━━━━━━━━━━━━━━━━━━━━\u001b[0m\u001b[37m\u001b[0m \u001b[1m0s\u001b[0m 15ms/step \n"
     ]
    },
    {
     "name": "stderr",
     "output_type": "stream",
     "text": [
      "2025-07-22 12:17:27.511192: E tensorflow/core/framework/node_def_util.cc:680] NodeDef mentions attribute use_unbounded_threadpool which is not in the op definition: Op<name=MapDataset; signature=input_dataset:variant, other_arguments: -> handle:variant; attr=f:func; attr=Targuments:list(type),min=0; attr=output_types:list(type),min=1; attr=output_shapes:list(shape),min=1; attr=use_inter_op_parallelism:bool,default=true; attr=preserve_cardinality:bool,default=false; attr=force_synchronous:bool,default=false; attr=metadata:string,default=\"\"> This may be expected if your graph generating binary is newer  than this binary. Unknown attributes will be ignored. NodeDef: {{node ParallelMapDatasetV2/_15}}\n"
     ]
    },
    {
     "name": "stdout",
     "output_type": "stream",
     "text": [
      "----- sub_UN_108_Data.mat\n",
      "\u001b[1m1/1\u001b[0m \u001b[32m━━━━━━━━━━━━━━━━━━━━\u001b[0m\u001b[37m\u001b[0m \u001b[1m0s\u001b[0m 36ms/step - accuracy: 0.5625 - loss: 3.1521\n",
      "\u001b[1m1/1\u001b[0m \u001b[32m━━━━━━━━━━━━━━━━━━━━\u001b[0m\u001b[37m\u001b[0m \u001b[1m0s\u001b[0m 132ms/step\n"
     ]
    },
    {
     "name": "stderr",
     "output_type": "stream",
     "text": [
      "2025-07-22 12:17:40.080176: E tensorflow/core/framework/node_def_util.cc:680] NodeDef mentions attribute use_unbounded_threadpool which is not in the op definition: Op<name=MapDataset; signature=input_dataset:variant, other_arguments: -> handle:variant; attr=f:func; attr=Targuments:list(type),min=0; attr=output_types:list(type),min=1; attr=output_shapes:list(shape),min=1; attr=use_inter_op_parallelism:bool,default=true; attr=preserve_cardinality:bool,default=false; attr=force_synchronous:bool,default=false; attr=metadata:string,default=\"\"> This may be expected if your graph generating binary is newer  than this binary. Unknown attributes will be ignored. NodeDef: {{node ParallelMapDatasetV2/_15}}\n"
     ]
    },
    {
     "name": "stdout",
     "output_type": "stream",
     "text": [
      "----- sub_UN_109_Data.mat\n",
      "\u001b[1m1/1\u001b[0m \u001b[32m━━━━━━━━━━━━━━━━━━━━\u001b[0m\u001b[37m\u001b[0m \u001b[1m0s\u001b[0m 40ms/step - accuracy: 0.8200 - loss: 0.3666\n",
      "\u001b[1m1/2\u001b[0m \u001b[32m━━━━━━━━━━\u001b[0m\u001b[37m━━━━━━━━━━\u001b[0m \u001b[1m0s\u001b[0m 129ms/step"
     ]
    },
    {
     "name": "stderr",
     "output_type": "stream",
     "text": [
      "2025-07-22 12:17:51.805467: E tensorflow/core/framework/node_def_util.cc:680] NodeDef mentions attribute use_unbounded_threadpool which is not in the op definition: Op<name=MapDataset; signature=input_dataset:variant, other_arguments: -> handle:variant; attr=f:func; attr=Targuments:list(type),min=0; attr=output_types:list(type),min=1; attr=output_shapes:list(shape),min=1; attr=use_inter_op_parallelism:bool,default=true; attr=preserve_cardinality:bool,default=false; attr=force_synchronous:bool,default=false; attr=metadata:string,default=\"\"> This may be expected if your graph generating binary is newer  than this binary. Unknown attributes will be ignored. NodeDef: {{node ParallelMapDatasetV2/_15}}\n"
     ]
    },
    {
     "name": "stdout",
     "output_type": "stream",
     "text": [
      "\u001b[1m2/2\u001b[0m \u001b[32m━━━━━━━━━━━━━━━━━━━━\u001b[0m\u001b[37m\u001b[0m \u001b[1m0s\u001b[0m 122ms/step\n",
      "----- sub_UN_110_Data.mat\n",
      "\u001b[1m1/1\u001b[0m \u001b[32m━━━━━━━━━━━━━━━━━━━━\u001b[0m\u001b[37m\u001b[0m \u001b[1m0s\u001b[0m 41ms/step - accuracy: 0.6562 - loss: 0.5514\n",
      "\u001b[1m1/2\u001b[0m \u001b[32m━━━━━━━━━━\u001b[0m\u001b[37m━━━━━━━━━━\u001b[0m \u001b[1m0s\u001b[0m 128ms/step"
     ]
    },
    {
     "name": "stderr",
     "output_type": "stream",
     "text": [
      "2025-07-22 12:18:05.191029: E tensorflow/core/framework/node_def_util.cc:680] NodeDef mentions attribute use_unbounded_threadpool which is not in the op definition: Op<name=MapDataset; signature=input_dataset:variant, other_arguments: -> handle:variant; attr=f:func; attr=Targuments:list(type),min=0; attr=output_types:list(type),min=1; attr=output_shapes:list(shape),min=1; attr=use_inter_op_parallelism:bool,default=true; attr=preserve_cardinality:bool,default=false; attr=force_synchronous:bool,default=false; attr=metadata:string,default=\"\"> This may be expected if your graph generating binary is newer  than this binary. Unknown attributes will be ignored. NodeDef: {{node ParallelMapDatasetV2/_15}}\n"
     ]
    },
    {
     "name": "stdout",
     "output_type": "stream",
     "text": [
      "\u001b[1m2/2\u001b[0m \u001b[32m━━━━━━━━━━━━━━━━━━━━\u001b[0m\u001b[37m\u001b[0m \u001b[1m0s\u001b[0m 16ms/step \n",
      "LOO LOO10: Acc=0.5952, Prec=0.6793, Spec=0.4635, AUC=0.6195, Kappa=0.2201\n",
      "----- sub_UN_113_Data.mat\n",
      "\u001b[1m1/1\u001b[0m \u001b[32m━━━━━━━━━━━━━━━━━━━━\u001b[0m\u001b[37m\u001b[0m \u001b[1m0s\u001b[0m 39ms/step - accuracy: 0.7778 - loss: 0.6707\n",
      "\u001b[1m1/2\u001b[0m \u001b[32m━━━━━━━━━━\u001b[0m\u001b[37m━━━━━━━━━━\u001b[0m \u001b[1m0s\u001b[0m 131ms/step"
     ]
    },
    {
     "name": "stderr",
     "output_type": "stream",
     "text": [
      "2025-07-22 12:18:23.007746: E tensorflow/core/framework/node_def_util.cc:680] NodeDef mentions attribute use_unbounded_threadpool which is not in the op definition: Op<name=MapDataset; signature=input_dataset:variant, other_arguments: -> handle:variant; attr=f:func; attr=Targuments:list(type),min=0; attr=output_types:list(type),min=1; attr=output_shapes:list(shape),min=1; attr=use_inter_op_parallelism:bool,default=true; attr=preserve_cardinality:bool,default=false; attr=force_synchronous:bool,default=false; attr=metadata:string,default=\"\"> This may be expected if your graph generating binary is newer  than this binary. Unknown attributes will be ignored. NodeDef: {{node ParallelMapDatasetV2/_15}}\n"
     ]
    },
    {
     "name": "stdout",
     "output_type": "stream",
     "text": [
      "\u001b[1m2/2\u001b[0m \u001b[32m━━━━━━━━━━━━━━━━━━━━\u001b[0m\u001b[37m\u001b[0m \u001b[1m0s\u001b[0m 119ms/step\n",
      "----- sub_UN_114_Data.mat\n",
      "\u001b[1m1/1\u001b[0m \u001b[32m━━━━━━━━━━━━━━━━━━━━\u001b[0m\u001b[37m\u001b[0m \u001b[1m0s\u001b[0m 40ms/step - accuracy: 0.5000 - loss: 1.3287\n",
      "\u001b[1m1/2\u001b[0m \u001b[32m━━━━━━━━━━\u001b[0m\u001b[37m━━━━━━━━━━\u001b[0m \u001b[1m0s\u001b[0m 130ms/step"
     ]
    },
    {
     "name": "stderr",
     "output_type": "stream",
     "text": [
      "2025-07-22 12:18:40.485299: E tensorflow/core/framework/node_def_util.cc:680] NodeDef mentions attribute use_unbounded_threadpool which is not in the op definition: Op<name=MapDataset; signature=input_dataset:variant, other_arguments: -> handle:variant; attr=f:func; attr=Targuments:list(type),min=0; attr=output_types:list(type),min=1; attr=output_shapes:list(shape),min=1; attr=use_inter_op_parallelism:bool,default=true; attr=preserve_cardinality:bool,default=false; attr=force_synchronous:bool,default=false; attr=metadata:string,default=\"\"> This may be expected if your graph generating binary is newer  than this binary. Unknown attributes will be ignored. NodeDef: {{node ParallelMapDatasetV2/_15}}\n"
     ]
    },
    {
     "name": "stdout",
     "output_type": "stream",
     "text": [
      "\u001b[1m2/2\u001b[0m \u001b[32m━━━━━━━━━━━━━━━━━━━━\u001b[0m\u001b[37m\u001b[0m \u001b[1m0s\u001b[0m 124ms/step\n",
      "----- sub_UN_115_Data.mat\n",
      "\u001b[1m1/1\u001b[0m \u001b[32m━━━━━━━━━━━━━━━━━━━━\u001b[0m\u001b[37m\u001b[0m \u001b[1m0s\u001b[0m 38ms/step - accuracy: 0.5000 - loss: 2.1608\n",
      "\u001b[1m1/2\u001b[0m \u001b[32m━━━━━━━━━━\u001b[0m\u001b[37m━━━━━━━━━━\u001b[0m \u001b[1m0s\u001b[0m 123ms/step"
     ]
    },
    {
     "name": "stderr",
     "output_type": "stream",
     "text": [
      "2025-07-22 12:18:58.046603: E tensorflow/core/framework/node_def_util.cc:680] NodeDef mentions attribute use_unbounded_threadpool which is not in the op definition: Op<name=MapDataset; signature=input_dataset:variant, other_arguments: -> handle:variant; attr=f:func; attr=Targuments:list(type),min=0; attr=output_types:list(type),min=1; attr=output_shapes:list(shape),min=1; attr=use_inter_op_parallelism:bool,default=true; attr=preserve_cardinality:bool,default=false; attr=force_synchronous:bool,default=false; attr=metadata:string,default=\"\"> This may be expected if your graph generating binary is newer  than this binary. Unknown attributes will be ignored. NodeDef: {{node ParallelMapDatasetV2/_15}}\n"
     ]
    },
    {
     "name": "stdout",
     "output_type": "stream",
     "text": [
      "\u001b[1m2/2\u001b[0m \u001b[32m━━━━━━━━━━━━━━━━━━━━\u001b[0m\u001b[37m\u001b[0m \u001b[1m0s\u001b[0m 115ms/step\n",
      "----- sub_UN_116_Data.mat\n",
      "\u001b[1m1/1\u001b[0m \u001b[32m━━━━━━━━━━━━━━━━━━━━\u001b[0m\u001b[37m\u001b[0m \u001b[1m0s\u001b[0m 38ms/step - accuracy: 0.5000 - loss: 0.7303\n",
      "\u001b[1m1/2\u001b[0m \u001b[32m━━━━━━━━━━\u001b[0m\u001b[37m━━━━━━━━━━\u001b[0m \u001b[1m0s\u001b[0m 122ms/step"
     ]
    },
    {
     "name": "stderr",
     "output_type": "stream",
     "text": [
      "2025-07-22 12:19:15.559626: E tensorflow/core/framework/node_def_util.cc:680] NodeDef mentions attribute use_unbounded_threadpool which is not in the op definition: Op<name=MapDataset; signature=input_dataset:variant, other_arguments: -> handle:variant; attr=f:func; attr=Targuments:list(type),min=0; attr=output_types:list(type),min=1; attr=output_shapes:list(shape),min=1; attr=use_inter_op_parallelism:bool,default=true; attr=preserve_cardinality:bool,default=false; attr=force_synchronous:bool,default=false; attr=metadata:string,default=\"\"> This may be expected if your graph generating binary is newer  than this binary. Unknown attributes will be ignored. NodeDef: {{node ParallelMapDatasetV2/_15}}\n"
     ]
    },
    {
     "name": "stdout",
     "output_type": "stream",
     "text": [
      "\u001b[1m2/2\u001b[0m \u001b[32m━━━━━━━━━━━━━━━━━━━━\u001b[0m\u001b[37m\u001b[0m \u001b[1m0s\u001b[0m 120ms/step\n",
      "----- sub_UN_117_Data.mat\n",
      "\u001b[1m1/1\u001b[0m \u001b[32m━━━━━━━━━━━━━━━━━━━━\u001b[0m\u001b[37m\u001b[0m \u001b[1m0s\u001b[0m 40ms/step - accuracy: 0.8333 - loss: 0.3942\n",
      "\u001b[1m1/2\u001b[0m \u001b[32m━━━━━━━━━━\u001b[0m\u001b[37m━━━━━━━━━━\u001b[0m \u001b[1m0s\u001b[0m 126ms/step"
     ]
    },
    {
     "name": "stderr",
     "output_type": "stream",
     "text": [
      "2025-07-22 12:19:32.847814: E tensorflow/core/framework/node_def_util.cc:680] NodeDef mentions attribute use_unbounded_threadpool which is not in the op definition: Op<name=MapDataset; signature=input_dataset:variant, other_arguments: -> handle:variant; attr=f:func; attr=Targuments:list(type),min=0; attr=output_types:list(type),min=1; attr=output_shapes:list(shape),min=1; attr=use_inter_op_parallelism:bool,default=true; attr=preserve_cardinality:bool,default=false; attr=force_synchronous:bool,default=false; attr=metadata:string,default=\"\"> This may be expected if your graph generating binary is newer  than this binary. Unknown attributes will be ignored. NodeDef: {{node ParallelMapDatasetV2/_15}}\n"
     ]
    },
    {
     "name": "stdout",
     "output_type": "stream",
     "text": [
      "\u001b[1m2/2\u001b[0m \u001b[32m━━━━━━━━━━━━━━━━━━━━\u001b[0m\u001b[37m\u001b[0m \u001b[1m0s\u001b[0m 117ms/step\n",
      "LOO LOO11: Acc=0.6222, Prec=0.4942, Spec=0.5111, AUC=0.6512, Kappa=0.2444\n",
      "----- sub_UN_113_Data.mat\n",
      "\u001b[1m1/1\u001b[0m \u001b[32m━━━━━━━━━━━━━━━━━━━━\u001b[0m\u001b[37m\u001b[0m \u001b[1m0s\u001b[0m 37ms/step - accuracy: 0.7500 - loss: 0.6314\n",
      "\u001b[1m1/2\u001b[0m \u001b[32m━━━━━━━━━━\u001b[0m\u001b[37m━━━━━━━━━━\u001b[0m \u001b[1m0s\u001b[0m 122ms/step"
     ]
    },
    {
     "name": "stderr",
     "output_type": "stream",
     "text": [
      "2025-07-22 12:19:48.703259: E tensorflow/core/framework/node_def_util.cc:680] NodeDef mentions attribute use_unbounded_threadpool which is not in the op definition: Op<name=MapDataset; signature=input_dataset:variant, other_arguments: -> handle:variant; attr=f:func; attr=Targuments:list(type),min=0; attr=output_types:list(type),min=1; attr=output_shapes:list(shape),min=1; attr=use_inter_op_parallelism:bool,default=true; attr=preserve_cardinality:bool,default=false; attr=force_synchronous:bool,default=false; attr=metadata:string,default=\"\"> This may be expected if your graph generating binary is newer  than this binary. Unknown attributes will be ignored. NodeDef: {{node ParallelMapDatasetV2/_15}}\n"
     ]
    },
    {
     "name": "stdout",
     "output_type": "stream",
     "text": [
      "\u001b[1m2/2\u001b[0m \u001b[32m━━━━━━━━━━━━━━━━━━━━\u001b[0m\u001b[37m\u001b[0m \u001b[1m0s\u001b[0m 121ms/step\n",
      "----- sub_UN_114_Data.mat\n",
      "\u001b[1m1/1\u001b[0m \u001b[32m━━━━━━━━━━━━━━━━━━━━\u001b[0m\u001b[37m\u001b[0m \u001b[1m0s\u001b[0m 38ms/step - accuracy: 0.5556 - loss: 2.1654\n",
      "\u001b[1m1/2\u001b[0m \u001b[32m━━━━━━━━━━\u001b[0m\u001b[37m━━━━━━━━━━\u001b[0m \u001b[1m0s\u001b[0m 124ms/step"
     ]
    },
    {
     "name": "stderr",
     "output_type": "stream",
     "text": [
      "2025-07-22 12:20:04.202138: E tensorflow/core/framework/node_def_util.cc:680] NodeDef mentions attribute use_unbounded_threadpool which is not in the op definition: Op<name=MapDataset; signature=input_dataset:variant, other_arguments: -> handle:variant; attr=f:func; attr=Targuments:list(type),min=0; attr=output_types:list(type),min=1; attr=output_shapes:list(shape),min=1; attr=use_inter_op_parallelism:bool,default=true; attr=preserve_cardinality:bool,default=false; attr=force_synchronous:bool,default=false; attr=metadata:string,default=\"\"> This may be expected if your graph generating binary is newer  than this binary. Unknown attributes will be ignored. NodeDef: {{node ParallelMapDatasetV2/_15}}\n"
     ]
    },
    {
     "name": "stdout",
     "output_type": "stream",
     "text": [
      "\u001b[1m2/2\u001b[0m \u001b[32m━━━━━━━━━━━━━━━━━━━━\u001b[0m\u001b[37m\u001b[0m \u001b[1m0s\u001b[0m 116ms/step\n",
      "----- sub_UN_115_Data.mat\n",
      "\u001b[1m1/1\u001b[0m \u001b[32m━━━━━━━━━━━━━━━━━━━━\u001b[0m\u001b[37m\u001b[0m \u001b[1m0s\u001b[0m 38ms/step - accuracy: 0.9167 - loss: 0.2429\n",
      "\u001b[1m1/2\u001b[0m \u001b[32m━━━━━━━━━━\u001b[0m\u001b[37m━━━━━━━━━━\u001b[0m \u001b[1m0s\u001b[0m 122ms/step"
     ]
    },
    {
     "name": "stderr",
     "output_type": "stream",
     "text": [
      "2025-07-22 12:20:19.563085: E tensorflow/core/framework/node_def_util.cc:680] NodeDef mentions attribute use_unbounded_threadpool which is not in the op definition: Op<name=MapDataset; signature=input_dataset:variant, other_arguments: -> handle:variant; attr=f:func; attr=Targuments:list(type),min=0; attr=output_types:list(type),min=1; attr=output_shapes:list(shape),min=1; attr=use_inter_op_parallelism:bool,default=true; attr=preserve_cardinality:bool,default=false; attr=force_synchronous:bool,default=false; attr=metadata:string,default=\"\"> This may be expected if your graph generating binary is newer  than this binary. Unknown attributes will be ignored. NodeDef: {{node ParallelMapDatasetV2/_15}}\n"
     ]
    },
    {
     "name": "stdout",
     "output_type": "stream",
     "text": [
      "\u001b[1m2/2\u001b[0m \u001b[32m━━━━━━━━━━━━━━━━━━━━\u001b[0m\u001b[37m\u001b[0m \u001b[1m0s\u001b[0m 117ms/step\n",
      "----- sub_UN_116_Data.mat\n",
      "\u001b[1m1/1\u001b[0m \u001b[32m━━━━━━━━━━━━━━━━━━━━\u001b[0m\u001b[37m\u001b[0m \u001b[1m0s\u001b[0m 38ms/step - accuracy: 0.5000 - loss: 3.3891\n",
      "\u001b[1m1/2\u001b[0m \u001b[32m━━━━━━━━━━\u001b[0m\u001b[37m━━━━━━━━━━\u001b[0m \u001b[1m0s\u001b[0m 123ms/step"
     ]
    },
    {
     "name": "stderr",
     "output_type": "stream",
     "text": [
      "2025-07-22 12:20:34.911280: E tensorflow/core/framework/node_def_util.cc:680] NodeDef mentions attribute use_unbounded_threadpool which is not in the op definition: Op<name=MapDataset; signature=input_dataset:variant, other_arguments: -> handle:variant; attr=f:func; attr=Targuments:list(type),min=0; attr=output_types:list(type),min=1; attr=output_shapes:list(shape),min=1; attr=use_inter_op_parallelism:bool,default=true; attr=preserve_cardinality:bool,default=false; attr=force_synchronous:bool,default=false; attr=metadata:string,default=\"\"> This may be expected if your graph generating binary is newer  than this binary. Unknown attributes will be ignored. NodeDef: {{node ParallelMapDatasetV2/_15}}\n"
     ]
    },
    {
     "name": "stdout",
     "output_type": "stream",
     "text": [
      "\u001b[1m2/2\u001b[0m \u001b[32m━━━━━━━━━━━━━━━━━━━━\u001b[0m\u001b[37m\u001b[0m \u001b[1m0s\u001b[0m 118ms/step\n",
      "----- sub_UN_117_Data.mat\n",
      "\u001b[1m1/1\u001b[0m \u001b[32m━━━━━━━━━━━━━━━━━━━━\u001b[0m\u001b[37m\u001b[0m \u001b[1m0s\u001b[0m 39ms/step - accuracy: 0.5000 - loss: 1.3812\n",
      "\u001b[1m1/2\u001b[0m \u001b[32m━━━━━━━━━━\u001b[0m\u001b[37m━━━━━━━━━━\u001b[0m \u001b[1m0s\u001b[0m 124ms/step"
     ]
    },
    {
     "name": "stderr",
     "output_type": "stream",
     "text": [
      "2025-07-22 12:20:50.225172: E tensorflow/core/framework/node_def_util.cc:680] NodeDef mentions attribute use_unbounded_threadpool which is not in the op definition: Op<name=MapDataset; signature=input_dataset:variant, other_arguments: -> handle:variant; attr=f:func; attr=Targuments:list(type),min=0; attr=output_types:list(type),min=1; attr=output_shapes:list(shape),min=1; attr=use_inter_op_parallelism:bool,default=true; attr=preserve_cardinality:bool,default=false; attr=force_synchronous:bool,default=false; attr=metadata:string,default=\"\"> This may be expected if your graph generating binary is newer  than this binary. Unknown attributes will be ignored. NodeDef: {{node ParallelMapDatasetV2/_15}}\n"
     ]
    },
    {
     "name": "stdout",
     "output_type": "stream",
     "text": [
      "\u001b[1m2/2\u001b[0m \u001b[32m━━━━━━━━━━━━━━━━━━━━\u001b[0m\u001b[37m\u001b[0m \u001b[1m0s\u001b[0m 116ms/step\n",
      "LOO LOO12: Acc=0.6444, Prec=0.6305, Spec=0.5111, AUC=0.7074, Kappa=0.2889\n",
      "Results saved to louo_transformer_results.csv\n",
      "      LOO  Accuracy  Precision  Specificity     AUROC     Kappa\n",
      "0    LOO1  0.804437   0.818633     0.796537  0.895245  0.608874\n",
      "1    LOO2  0.579465   0.558997     0.612777  0.667281  0.158931\n",
      "2    LOO3  0.759528   0.772904     0.872830  0.737288  0.519057\n",
      "3    LOO4  0.510675   0.375764     0.592778  0.550309 -0.007222\n",
      "4    LOO5  0.667738   0.671583     0.487222  0.709375  0.301816\n",
      "5    LOO6  0.752944   0.678626     0.575000  0.796136  0.449175\n",
      "6    LOO7  0.469020   0.331862     0.272222  0.667238 -0.077231\n",
      "7    LOO8  0.555556   0.522584     0.477778  0.527160  0.111111\n",
      "8    LOO9  0.788889   0.690000     1.000000  0.887654  0.577778\n",
      "9   LOO10  0.595250   0.679313     0.463500  0.619487  0.220080\n",
      "10  LOO11  0.622222   0.494231     0.511111  0.651235  0.244444\n",
      "11  LOO12  0.644444   0.630506     0.511111  0.707407  0.288889\n"
     ]
    }
   ],
   "source": [
    "from sklearn.metrics import precision_score, roc_auc_score, confusion_matrix, cohen_kappa_score\n",
    "import pandas as pd\n",
    "import numpy as np\n",
    "\n",
    "data_accuracy = []\n",
    "data_precision = []\n",
    "data_specificity = []\n",
    "data_auroc = []\n",
    "data_kappa = []\n",
    "\n",
    "LOO_list = [f'LOO{i}' for i in range(1, 13)]\n",
    "\n",
    "for loo in LOO_list:\n",
    "    data_path = f\"/scratch/project_2014260/data/LOO/{loo}/test\"\n",
    "    for root, dirs, files in os.walk(data_path):\n",
    "        subs = sorted(files)\n",
    "\n",
    "    cutindex = 2 if loo == 'LOO3' else 5\n",
    "\n",
    "    avg_acc = []\n",
    "    avg_prec = []\n",
    "    avg_spec = []\n",
    "    avg_auc = []\n",
    "    avg_kap = []\n",
    "\n",
    "    for i in subs[:cutindex]:\n",
    "        print('-----',i)\n",
    "        train_dataset,valid_dataset,test_dataset = get_Mydata(i,data_path,0, target_sample=256*2)\n",
    "        train_data = {}\n",
    "        test_data = {}\n",
    "        train_data[\"data\"] = train_dataset.x.numpy()\n",
    "        train_data[\"label\"] = train_dataset.y.numpy()\n",
    "        test_data[\"data\"] = test_dataset.x.numpy()\n",
    "        test_data[\"label\"] = test_dataset.y.numpy()\n",
    "\n",
    "        num_transformer_blocks = 2\n",
    "        head_size = 256\n",
    "        num_heads = 4\n",
    "        dropout = 0.25\n",
    "        ff_dim = 4\n",
    "        mlp_units=[128]\n",
    "        mlp_dropout=0.4\n",
    "  \n",
    "        X_train = train_data['data'].astype(np.float32)\n",
    "        y_train = train_data[\"label\"]\n",
    "        X_test = test_data['data'].astype(np.float32)\n",
    "        y_test = test_data[\"label\"]\n",
    "\n",
    "        input = keras.layers.Input(shape=(X_train.shape[1], X_train.shape[2]))\n",
    "        x = input\n",
    "\n",
    "        for _ in range(num_transformer_blocks):\n",
    "            transformer_layer = transformer_encoder(x, head_size, num_heads, ff_dim, dropout)\n",
    "\n",
    "        pooling_layer = layers.GlobalAveragePooling1D(data_format=\"channels_first\")(transformer_layer)\n",
    "\n",
    "        for dim in mlp_units:\n",
    "            dense_layer = layers.Dense(dim, activation=\"relu\")(pooling_layer)\n",
    "            drop_out = layers.Dropout(mlp_dropout)(dense_layer)\n",
    "\n",
    "        output_layer = keras.layers.Dense(2, activation=\"softmax\")(drop_out)  # For binary classification\n",
    "\n",
    "        model = tf.keras.Model(inputs=input, outputs=output_layer)\n",
    "        \n",
    "        model.compile(optimizer=tf.keras.optimizers.Adam(learning_rate=1e-3),\n",
    "                      loss=\"sparse_categorical_crossentropy\",\n",
    "                      metrics=['accuracy'])\n",
    "        \n",
    "        history = model.fit(X_train, y_train, epochs=30, batch_size=128,\n",
    "                             validation_data=(X_test, y_test), verbose=0)\n",
    "        scores = model.evaluate(X_test, y_test, batch_size=128, verbose=1)\n",
    "\n",
    "        avg_acc.append(scores[1])\n",
    "\n",
    "        y_pred_prob = model.predict(X_test)\n",
    "        y_pred = np.argmax(y_pred_prob, axis=1)\n",
    "\n",
    "        # Precision\n",
    "        prec = precision_score(y_test, y_pred, average='weighted', zero_division=0)\n",
    "        avg_prec.append(prec)\n",
    "\n",
    "        # Specificity\n",
    "        cm = confusion_matrix(y_test, y_pred)\n",
    "        specificity = cm[0,0] / (cm[0,0] + cm[0,1] + 1e-7)\n",
    "        avg_spec.append(specificity)\n",
    "\n",
    "        # ROC-AUC (for binary, so use y_pred_prob[:, 1])\n",
    "        auc = roc_auc_score(y_test, y_pred_prob[:, 1])\n",
    "        avg_auc.append(auc)\n",
    "\n",
    "        # Kappa\n",
    "        kappa = cohen_kappa_score(y_test, y_pred)\n",
    "        avg_kap.append(kappa)\n",
    "\n",
    "    # Average metrics for this LOO fold\n",
    "    data_accuracy.append(np.mean(avg_acc))\n",
    "    data_precision.append(np.mean(avg_prec))\n",
    "    data_specificity.append(np.mean(avg_spec))\n",
    "    data_auroc.append(np.mean(avg_auc))\n",
    "    data_kappa.append(np.mean(avg_kap))\n",
    "    print(f'LOO {loo}: Acc={data_accuracy[-1]:.4f}, Prec={data_precision[-1]:.4f}, Spec={data_specificity[-1]:.4f}, AUC={data_auroc[-1]:.4f}, Kappa={data_kappa[-1]:.4f}')\n",
    "\n",
    "# SAVE TO CSV\n",
    "results_df = pd.DataFrame({\n",
    "    'LOO': LOO_list,\n",
    "    'Accuracy': data_accuracy,\n",
    "    'Precision': data_precision,\n",
    "    'Specificity': data_specificity,\n",
    "    'AUROC': data_auroc,\n",
    "    'Kappa': data_kappa\n",
    "})\n",
    "\n",
    "results_df.to_csv('louo_transformer_results.csv', index=False)\n",
    "print(\"Results saved to louo_transformer_results.csv\")\n",
    "print(results_df)"
   ]
  },
  {
   "cell_type": "code",
   "execution_count": 18,
   "id": "91230e74-2a42-4499-b315-28a9aa43f582",
   "metadata": {},
   "outputs": [
    {
     "data": {
      "text/plain": [
       "0.6458473342160383"
      ]
     },
     "execution_count": 18,
     "metadata": {},
     "output_type": "execute_result"
    }
   ],
   "source": [
    "np.mean(results_df['Accuracy'])"
   ]
  },
  {
   "cell_type": "code",
   "execution_count": null,
   "id": "c83d3d2a-ad5c-4246-a07a-8d158b5941e6",
   "metadata": {},
   "outputs": [],
   "source": []
  },
  {
   "cell_type": "code",
   "execution_count": 14,
   "id": "4a8c6e70-dce9-43ca-ab78-01aeba7da301",
   "metadata": {},
   "outputs": [
    {
     "name": "stdout",
     "output_type": "stream",
     "text": [
      "LOO1 -> Acc: 0.5577, Prec: 0.6364, AUC: 0.4973, Spec: 0.8462, Kappa: 0.1154\n",
      "LOO2 -> Acc: 0.5593, Prec: 0.5741, AUC: 0.5914, Spec: 0.6593, Kappa: 0.1185\n",
      "LOO3 -> Acc: 0.5477, Prec: 0.5410, AUC: 0.5491, Spec: 0.4664, Kappa: 0.0954\n",
      "LOO4 -> Acc: 0.7245, Prec: 0.7222, AUC: 0.7205, Spec: 0.6809, Kappa: 0.4467\n",
      "LOO5 -> Acc: 0.7629, Prec: 0.7959, AUC: 0.8338, Spec: 0.7778, Kappa: 0.5254\n",
      "LOO6 -> Acc: 0.5619, Prec: 0.6207, AUC: 0.6389, Spec: 0.5111, Kappa: 0.1105\n",
      "LOO7 -> Acc: 0.5816, Prec: 0.6140, AUC: 0.6244, Spec: 0.5000, Kappa: 0.1491\n",
      "LOO8 -> Acc: 0.4611, Prec: 0.4667, AUC: 0.4777, Spec: 0.3778, Kappa: -0.0778\n",
      "LOO9 -> Acc: 0.6389, Prec: 0.6214, AUC: 0.6186, Spec: 0.5667, Kappa: 0.2778\n",
      "LOO10 -> Acc: 0.4425, Prec: 0.4487, AUC: 0.4668, Spec: 0.6019, Kappa: -0.1000\n",
      "LOO11 -> Acc: 0.7833, Prec: 0.7297, AUC: 0.8219, Spec: 0.6667, Kappa: 0.5667\n",
      "LOO12 -> Acc: 0.5889, Prec: 0.5656, AUC: 0.6310, Spec: 0.4111, Kappa: 0.1778\n",
      "\n",
      "Mean Accuracy: 0.6008557211928747\n",
      "Mean Precision: 0.6113653180380132\n",
      "Mean AUROC: 0.6226286627222998\n",
      "Mean Specificity: 0.5888048514684069\n",
      "Mean Kappa: 0.20045555019552977\n",
      "Saved results to loo_rf_results.csv\n"
     ]
    }
   ],
   "source": [
    "### LEAVE ONE DATASET OUT\n",
    "## RANDOM FOREST\n",
    "from sklearn.ensemble import RandomForestClassifier\n",
    "from sklearn.metrics import accuracy_score, precision_score, roc_auc_score, confusion_matrix, cohen_kappa_score\n",
    "import numpy as np\n",
    "import pandas as pd\n",
    "\n",
    "LOOs = ['LOO1','LOO2','LOO3','LOO4','LOO5','LOO6','LOO7','LOO8','LOO9','LOO10','LOO11','LOO12']\n",
    "\n",
    "avg_acc = []\n",
    "avg_prec = []\n",
    "avg_auc = []\n",
    "avg_spec = []\n",
    "avg_kappa = []\n",
    "\n",
    "for LOO in LOOs:\n",
    "    test_path = f\"/scratch/project_2014260/data/LOO_finetune/{LOO}/test\"\n",
    "    train_path = f\"/scratch/project_2014260/data/LOO_finetune/{LOO}/finetune\"\n",
    "    train_dataset, valid_dataset, test_dataset = get_leaveOneDatasetOut(test_path, train_path, 0, target_sample=256*2)\n",
    "    clf = RandomForestClassifier(n_estimators=100, max_depth=15)\n",
    "        \n",
    "    x_train = []\n",
    "    y_train = train_dataset.y.numpy()\n",
    "    for epoch in train_dataset.x:\n",
    "        features = []\n",
    "        for sig in epoch:\n",
    "            sig_min, sig_max, sig_mean, sig_std = statistical_features(sig)\n",
    "            sig_skew, sig_kurtosis = shape_features(sig)\n",
    "            peaks, properties = find_peaks(sig, width=5)\n",
    "            num_Peaks = len(peaks)\n",
    "            prominences = np.array(properties['prominences'])\n",
    "            widths = np.array(properties['widths'])\n",
    "            amplitude = np.sum(prominences)\n",
    "            duration = np.sum(widths)\n",
    "            features += [sig_min, sig_max, sig_mean, sig_std, sig_skew, sig_kurtosis, num_Peaks, amplitude, duration]\n",
    "        x_train.append(features)\n",
    "    x_train = np.array(x_train)\n",
    "    \n",
    "    x_test = []\n",
    "    y_test = test_dataset.y.numpy()\n",
    "    for epoch in test_dataset.x:\n",
    "        features = []\n",
    "        for sig in epoch:\n",
    "            sig_min, sig_max, sig_mean, sig_std = statistical_features(sig)\n",
    "            sig_skew, sig_kurtosis = shape_features(sig)\n",
    "            peaks, properties = find_peaks(sig, width=5)\n",
    "            num_Peaks = len(peaks)\n",
    "            prominences = np.array(properties['prominences'])\n",
    "            widths = np.array(properties['widths'])\n",
    "            amplitude = np.sum(prominences)\n",
    "            duration = np.sum(widths)\n",
    "            features += [sig_min, sig_max, sig_mean, sig_std, sig_skew, sig_kurtosis, num_Peaks, amplitude, duration]\n",
    "        x_test.append(features)\n",
    "    x_test = np.array(x_test)\n",
    "    \n",
    "    clf.fit(x_train, y_train)\n",
    "    y_pred = clf.predict(x_test)\n",
    "    y_prob = clf.predict_proba(x_test)[:,1]\n",
    "    \n",
    "    # ------- METRICS --------\n",
    "    acc = accuracy_score(y_test, y_pred)\n",
    "    avg_acc.append(acc)\n",
    "    \n",
    "    prec = precision_score(y_test, y_pred, zero_division=0)\n",
    "    avg_prec.append(prec)\n",
    "    \n",
    "    auc = roc_auc_score(y_test, y_prob)\n",
    "    avg_auc.append(auc)\n",
    "    \n",
    "    cm = confusion_matrix(y_test, y_pred)\n",
    "    specificity = cm[0,0] / (cm[0,0] + cm[0,1] + 1e-7)\n",
    "    avg_spec.append(specificity)\n",
    "\n",
    "    kappa = cohen_kappa_score(y_test, y_pred)\n",
    "    avg_kappa.append(kappa)\n",
    "\n",
    "    print(f\"{LOO} -> Acc: {acc:.4f}, Prec: {prec:.4f}, AUC: {auc:.4f}, Spec: {specificity:.4f}, Kappa: {kappa:.4f}\")\n",
    "    \n",
    "print(\"\\nMean Accuracy:\", np.mean(avg_acc))\n",
    "print(\"Mean Precision:\", np.mean(avg_prec))\n",
    "print(\"Mean AUROC:\", np.mean(avg_auc))\n",
    "print(\"Mean Specificity:\", np.mean(avg_spec))\n",
    "print(\"Mean Kappa:\", np.mean(avg_kappa))\n",
    "\n",
    "results = pd.DataFrame({\n",
    "    'LOO': LOOs,\n",
    "    'Accuracy': avg_acc,\n",
    "    'Precision': avg_prec,\n",
    "    'AUROC': avg_auc,\n",
    "    'Specificity': avg_spec,\n",
    "    'Kappa': avg_kappa\n",
    "})\n",
    "results.to_csv('loo_rf_results.csv', index=False)\n",
    "print(\"Saved results to loo_rf_results.csv\")"
   ]
  },
  {
   "cell_type": "code",
   "execution_count": 16,
   "id": "6eca3eee-2637-4770-9611-84d87f36bfec",
   "metadata": {},
   "outputs": [
    {
     "name": "stdout",
     "output_type": "stream",
     "text": [
      "LOO1 -> Acc: 0.5513, Prec: 0.6000, AUC: 0.6349, Spec: 0.7949, Kappa: 0.1026\n",
      "LOO2 -> Acc: 0.6481, Prec: 0.6408, AUC: 0.6995, Spec: 0.6222, Kappa: 0.2963\n",
      "LOO3 -> Acc: 0.5742, Prec: 0.5493, AUC: 0.5541, Spec: 0.3216, Kappa: 0.1484\n",
      "LOO4 -> Acc: 0.7245, Prec: 0.6765, AUC: 0.7580, Spec: 0.5319, Kappa: 0.4401\n",
      "LOO5 -> Acc: 0.7320, Prec: 0.6912, AUC: 0.8167, Spec: 0.5333, Kappa: 0.4479\n",
      "LOO6 -> Acc: 0.5714, Prec: 0.6056, AUC: 0.5322, Spec: 0.3778, Kappa: 0.0974\n",
      "LOO7 -> Acc: 0.6837, Prec: 0.6769, AUC: 0.6561, Spec: 0.5227, Kappa: 0.3455\n",
      "LOO8 -> Acc: 0.4111, Prec: 0.4375, AUC: 0.3644, Spec: 0.2000, Kappa: -0.1778\n",
      "LOO9 -> Acc: 0.7333, Prec: 0.6909, AUC: 0.7662, Spec: 0.6222, Kappa: 0.4667\n",
      "LOO10 -> Acc: 0.4336, Prec: 0.4419, AUC: 0.5226, Spec: 0.5556, Kappa: -0.1209\n",
      "LOO11 -> Acc: 0.7500, Prec: 0.6829, AUC: 0.8767, Spec: 0.5667, Kappa: 0.5000\n",
      "LOO12 -> Acc: 0.6667, Prec: 0.6562, AUC: 0.6619, Spec: 0.6333, Kappa: 0.3333\n",
      "\n",
      "Mean Accuracy: 0.623327097978595\n",
      "Mean Precision: 0.6124825974106328\n",
      "Mean AUROC: 0.6536077636749124\n",
      "Mean Specificity: 0.5235149861621556\n",
      "Mean Kappa: 0.2399648837121752\n",
      "Saved results to loo_lda_results.csv\n"
     ]
    }
   ],
   "source": [
    "### LEAVE ONE DATASET OUT\n",
    "## LDA\n",
    "\n",
    "from sklearn.discriminant_analysis import LinearDiscriminantAnalysis\n",
    "from sklearn.metrics import accuracy_score, precision_score, roc_auc_score, confusion_matrix, cohen_kappa_score\n",
    "import numpy as np\n",
    "import pandas as pd\n",
    "\n",
    "LOOs = ['LOO1','LOO2','LOO3','LOO4','LOO5','LOO6','LOO7','LOO8','LOO9','LOO10','LOO11','LOO12']\n",
    "\n",
    "avg_acc = []\n",
    "avg_prec = []\n",
    "avg_auc = []\n",
    "avg_spec = []\n",
    "avg_kappa = []\n",
    "\n",
    "for LOO in LOOs:\n",
    "    test_path = f\"/scratch/project_2014260/data/LOO_finetune/{LOO}/test\"\n",
    "    train_path = f\"/scratch/project_2014260/data/LOO_finetune/{LOO}/finetune\"\n",
    "    train_dataset, valid_dataset, test_dataset = get_leaveOneDatasetOut(test_path, train_path, 0, target_sample=256*2)\n",
    "    clf = LinearDiscriminantAnalysis()\n",
    "        \n",
    "    x_train = []\n",
    "    y_train = train_dataset.y.numpy()\n",
    "    for epoch in train_dataset.x:\n",
    "        features = []\n",
    "        for sig in epoch:\n",
    "            sig_min, sig_max, sig_mean, sig_std = statistical_features(sig)\n",
    "            sig_skew, sig_kurtosis = shape_features(sig)\n",
    "            peaks, properties = find_peaks(sig, width=5)\n",
    "            num_Peaks = len(peaks)\n",
    "            prominences = np.array(properties['prominences'])\n",
    "            widths = np.array(properties['widths'])\n",
    "            amplitude = np.sum(prominences)\n",
    "            duration = np.sum(widths)\n",
    "            features += [sig_min, sig_max, sig_mean, sig_std, sig_skew, sig_kurtosis, num_Peaks, amplitude, duration]\n",
    "        x_train.append(features)\n",
    "    x_train = np.array(x_train)\n",
    "    \n",
    "    x_test = []\n",
    "    y_test = test_dataset.y.numpy()\n",
    "    for epoch in test_dataset.x:\n",
    "        features = []\n",
    "        for sig in epoch:\n",
    "            sig_min, sig_max, sig_mean, sig_std = statistical_features(sig)\n",
    "            sig_skew, sig_kurtosis = shape_features(sig)\n",
    "            peaks, properties = find_peaks(sig, width=5)\n",
    "            num_Peaks = len(peaks)\n",
    "            prominences = np.array(properties['prominences'])\n",
    "            widths = np.array(properties['widths'])\n",
    "            amplitude = np.sum(prominences)\n",
    "            duration = np.sum(widths)\n",
    "            features += [sig_min, sig_max, sig_mean, sig_std, sig_skew, sig_kurtosis, num_Peaks, amplitude, duration]\n",
    "        x_test.append(features)\n",
    "    x_test = np.array(x_test)\n",
    "    \n",
    "    clf.fit(x_train, y_train)\n",
    "    y_pred = clf.predict(x_test)\n",
    "    y_prob = clf.predict_proba(x_test)[:,1]\n",
    "    \n",
    "    # ------- METRICS --------\n",
    "    acc = accuracy_score(y_test, y_pred)\n",
    "    avg_acc.append(acc)\n",
    "    \n",
    "    prec = precision_score(y_test, y_pred, zero_division=0)\n",
    "    avg_prec.append(prec)\n",
    "    \n",
    "    auc = roc_auc_score(y_test, y_prob)\n",
    "    avg_auc.append(auc)\n",
    "    \n",
    "    cm = confusion_matrix(y_test, y_pred)\n",
    "    specificity = cm[0,0] / (cm[0,0] + cm[0,1] + 1e-7)\n",
    "    avg_spec.append(specificity)\n",
    "\n",
    "    kappa = cohen_kappa_score(y_test, y_pred)\n",
    "    avg_kappa.append(kappa)\n",
    "\n",
    "    print(f\"{LOO} -> Acc: {acc:.4f}, Prec: {prec:.4f}, AUC: {auc:.4f}, Spec: {specificity:.4f}, Kappa: {kappa:.4f}\")\n",
    "    \n",
    "print(\"\\nMean Accuracy:\", np.mean(avg_acc))\n",
    "print(\"Mean Precision:\", np.mean(avg_prec))\n",
    "print(\"Mean AUROC:\", np.mean(avg_auc))\n",
    "print(\"Mean Specificity:\", np.mean(avg_spec))\n",
    "print(\"Mean Kappa:\", np.mean(avg_kappa))\n",
    "\n",
    "results = pd.DataFrame({\n",
    "    'LOO': LOOs,\n",
    "    'Accuracy': avg_acc,\n",
    "    'Precision': avg_prec,\n",
    "    'AUROC': avg_auc,\n",
    "    'Specificity': avg_spec,\n",
    "    'Kappa': avg_kappa\n",
    "})\n",
    "results.to_csv('loo_lda_results.csv', index=False)\n",
    "print(\"Saved results to loo_lda_results.csv\")"
   ]
  },
  {
   "cell_type": "code",
   "execution_count": 17,
   "id": "efb0b11e-9e99-48d4-b04a-8a66d65194d5",
   "metadata": {
    "scrolled": true
   },
   "outputs": [
    {
     "name": "stderr",
     "output_type": "stream",
     "text": [
      "/PUHTI_TYKKY_FRQGCcR/miniconda/envs/env1/lib/python3.10/site-packages/sklearn/discriminant_analysis.py:935: UserWarning: Variables are collinear\n",
      "  warnings.warn(\"Variables are collinear\")\n"
     ]
    },
    {
     "name": "stdout",
     "output_type": "stream",
     "text": [
      "LOO1 -> Acc: 0.6346, Prec: 0.6400, AUC: 0.7160, Spec: 0.6538, Kappa: 0.2692\n"
     ]
    },
    {
     "name": "stderr",
     "output_type": "stream",
     "text": [
      "/PUHTI_TYKKY_FRQGCcR/miniconda/envs/env1/lib/python3.10/site-packages/sklearn/discriminant_analysis.py:935: UserWarning: Variables are collinear\n",
      "  warnings.warn(\"Variables are collinear\")\n"
     ]
    },
    {
     "name": "stdout",
     "output_type": "stream",
     "text": [
      "LOO2 -> Acc: 0.6556, Prec: 0.6180, AUC: 0.6570, Spec: 0.4963, Kappa: 0.3111\n"
     ]
    },
    {
     "name": "stderr",
     "output_type": "stream",
     "text": [
      "/PUHTI_TYKKY_FRQGCcR/miniconda/envs/env1/lib/python3.10/site-packages/sklearn/discriminant_analysis.py:935: UserWarning: Variables are collinear\n",
      "  warnings.warn(\"Variables are collinear\")\n"
     ]
    },
    {
     "name": "stdout",
     "output_type": "stream",
     "text": [
      "LOO3 -> Acc: 0.5724, Prec: 0.5541, AUC: 0.5621, Spec: 0.4028, Kappa: 0.1449\n"
     ]
    },
    {
     "name": "stderr",
     "output_type": "stream",
     "text": [
      "/PUHTI_TYKKY_FRQGCcR/miniconda/envs/env1/lib/python3.10/site-packages/sklearn/discriminant_analysis.py:935: UserWarning: Variables are collinear\n",
      "  warnings.warn(\"Variables are collinear\")\n"
     ]
    },
    {
     "name": "stdout",
     "output_type": "stream",
     "text": [
      "LOO4 -> Acc: 0.6429, Prec: 0.6176, AUC: 0.6809, Spec: 0.4468, Kappa: 0.2742\n"
     ]
    },
    {
     "name": "stderr",
     "output_type": "stream",
     "text": [
      "/PUHTI_TYKKY_FRQGCcR/miniconda/envs/env1/lib/python3.10/site-packages/sklearn/discriminant_analysis.py:935: UserWarning: Variables are collinear\n",
      "  warnings.warn(\"Variables are collinear\")\n"
     ]
    },
    {
     "name": "stdout",
     "output_type": "stream",
     "text": [
      "LOO5 -> Acc: 0.6907, Prec: 0.6897, AUC: 0.7284, Spec: 0.6000, Kappa: 0.3726\n"
     ]
    },
    {
     "name": "stderr",
     "output_type": "stream",
     "text": [
      "/PUHTI_TYKKY_FRQGCcR/miniconda/envs/env1/lib/python3.10/site-packages/sklearn/discriminant_analysis.py:935: UserWarning: Variables are collinear\n",
      "  warnings.warn(\"Variables are collinear\")\n"
     ]
    },
    {
     "name": "stdout",
     "output_type": "stream",
     "text": [
      "LOO6 -> Acc: 0.4571, Prec: 0.5333, AUC: 0.4526, Spec: 0.5333, Kappa: -0.0640\n"
     ]
    },
    {
     "name": "stderr",
     "output_type": "stream",
     "text": [
      "/PUHTI_TYKKY_FRQGCcR/miniconda/envs/env1/lib/python3.10/site-packages/sklearn/discriminant_analysis.py:935: UserWarning: Variables are collinear\n",
      "  warnings.warn(\"Variables are collinear\")\n"
     ]
    },
    {
     "name": "stdout",
     "output_type": "stream",
     "text": [
      "LOO7 -> Acc: 0.5612, Prec: 0.5753, AUC: 0.5442, Spec: 0.2955, Kappa: 0.0763\n"
     ]
    },
    {
     "name": "stderr",
     "output_type": "stream",
     "text": [
      "/PUHTI_TYKKY_FRQGCcR/miniconda/envs/env1/lib/python3.10/site-packages/sklearn/discriminant_analysis.py:935: UserWarning: Variables are collinear\n",
      "  warnings.warn(\"Variables are collinear\")\n"
     ]
    },
    {
     "name": "stdout",
     "output_type": "stream",
     "text": [
      "LOO8 -> Acc: 0.3611, Prec: 0.3984, AUC: 0.2278, Spec: 0.1778, Kappa: -0.2778\n"
     ]
    },
    {
     "name": "stderr",
     "output_type": "stream",
     "text": [
      "/PUHTI_TYKKY_FRQGCcR/miniconda/envs/env1/lib/python3.10/site-packages/sklearn/discriminant_analysis.py:935: UserWarning: Variables are collinear\n",
      "  warnings.warn(\"Variables are collinear\")\n"
     ]
    },
    {
     "name": "stdout",
     "output_type": "stream",
     "text": [
      "LOO9 -> Acc: 0.6500, Prec: 0.6195, AUC: 0.6474, Spec: 0.5222, Kappa: 0.3000\n"
     ]
    },
    {
     "name": "stderr",
     "output_type": "stream",
     "text": [
      "/PUHTI_TYKKY_FRQGCcR/miniconda/envs/env1/lib/python3.10/site-packages/sklearn/discriminant_analysis.py:935: UserWarning: Variables are collinear\n",
      "  warnings.warn(\"Variables are collinear\")\n"
     ]
    },
    {
     "name": "stdout",
     "output_type": "stream",
     "text": [
      "LOO10 -> Acc: 0.5487, Prec: 0.5741, AUC: 0.5381, Spec: 0.5741, Kappa: 0.0991\n"
     ]
    },
    {
     "name": "stderr",
     "output_type": "stream",
     "text": [
      "/PUHTI_TYKKY_FRQGCcR/miniconda/envs/env1/lib/python3.10/site-packages/sklearn/discriminant_analysis.py:935: UserWarning: Variables are collinear\n",
      "  warnings.warn(\"Variables are collinear\")\n"
     ]
    },
    {
     "name": "stdout",
     "output_type": "stream",
     "text": [
      "LOO11 -> Acc: 0.6500, Prec: 0.6116, AUC: 0.6568, Spec: 0.4778, Kappa: 0.3000\n",
      "LOO12 -> Acc: 0.6333, Prec: 0.6111, AUC: 0.5928, Spec: 0.5333, Kappa: 0.2667\n",
      "\n",
      "Mean Accuracy: 0.5881393544009742\n",
      "Mean Precision: 0.58688697596534\n",
      "Mean AUROC: 0.5836785659840257\n",
      "Mean Specificity: 0.4761459059963172\n",
      "Mean Kappa: 0.17269170384553537\n",
      "Saved results to loo_qda_results.csv\n"
     ]
    },
    {
     "name": "stderr",
     "output_type": "stream",
     "text": [
      "/PUHTI_TYKKY_FRQGCcR/miniconda/envs/env1/lib/python3.10/site-packages/sklearn/discriminant_analysis.py:935: UserWarning: Variables are collinear\n",
      "  warnings.warn(\"Variables are collinear\")\n"
     ]
    }
   ],
   "source": [
    "### LEAVE ONE DATASET OUT\n",
    "## QuadraticDiscriminantAnalysis\n",
    "from sklearn.discriminant_analysis import QuadraticDiscriminantAnalysis\n",
    "from sklearn.metrics import accuracy_score, precision_score, roc_auc_score, confusion_matrix, cohen_kappa_score\n",
    "import numpy as np\n",
    "import pandas as pd\n",
    "\n",
    "LOOs = ['LOO1','LOO2','LOO3','LOO4','LOO5','LOO6','LOO7','LOO8','LOO9','LOO10','LOO11','LOO12']\n",
    "\n",
    "avg_acc = []\n",
    "avg_prec = []\n",
    "avg_auc = []\n",
    "avg_spec = []\n",
    "avg_kappa = []\n",
    "\n",
    "for LOO in LOOs:\n",
    "    test_path = f\"/scratch/project_2014260/data/LOO_finetune/{LOO}/test\"\n",
    "    train_path = f\"/scratch/project_2014260/data/LOO_finetune/{LOO}/finetune\"\n",
    "    train_dataset, valid_dataset, test_dataset = get_leaveOneDatasetOut(test_path, train_path, 0, target_sample=256*2)\n",
    "    clf = QuadraticDiscriminantAnalysis()\n",
    "        \n",
    "    x_train = []\n",
    "    y_train = train_dataset.y.numpy()\n",
    "    for epoch in train_dataset.x:\n",
    "        features = []\n",
    "        for sig in epoch:\n",
    "            sig_min, sig_max, sig_mean, sig_std = statistical_features(sig)\n",
    "            sig_skew, sig_kurtosis = shape_features(sig)\n",
    "            peaks, properties = find_peaks(sig, width=5)\n",
    "            num_Peaks = len(peaks)\n",
    "            prominences = np.array(properties['prominences'])\n",
    "            widths = np.array(properties['widths'])\n",
    "            amplitude = np.sum(prominences)\n",
    "            duration = np.sum(widths)\n",
    "            features += [sig_min, sig_max, sig_mean, sig_std, sig_skew, sig_kurtosis, num_Peaks, amplitude, duration]\n",
    "        x_train.append(features)\n",
    "    x_train = np.array(x_train)\n",
    "    \n",
    "    x_test = []\n",
    "    y_test = test_dataset.y.numpy()\n",
    "    for epoch in test_dataset.x:\n",
    "        features = []\n",
    "        for sig in epoch:\n",
    "            sig_min, sig_max, sig_mean, sig_std = statistical_features(sig)\n",
    "            sig_skew, sig_kurtosis = shape_features(sig)\n",
    "            peaks, properties = find_peaks(sig, width=5)\n",
    "            num_Peaks = len(peaks)\n",
    "            prominences = np.array(properties['prominences'])\n",
    "            widths = np.array(properties['widths'])\n",
    "            amplitude = np.sum(prominences)\n",
    "            duration = np.sum(widths)\n",
    "            features += [sig_min, sig_max, sig_mean, sig_std, sig_skew, sig_kurtosis, num_Peaks, amplitude, duration]\n",
    "        x_test.append(features)\n",
    "    x_test = np.array(x_test)\n",
    "    \n",
    "    clf.fit(x_train, y_train)\n",
    "    y_pred = clf.predict(x_test)\n",
    "    y_prob = clf.predict_proba(x_test)[:,1]\n",
    "    \n",
    "    # ------- METRICS --------\n",
    "    acc = accuracy_score(y_test, y_pred)\n",
    "    avg_acc.append(acc)\n",
    "    \n",
    "    prec = precision_score(y_test, y_pred, zero_division=0)\n",
    "    avg_prec.append(prec)\n",
    "    \n",
    "    auc = roc_auc_score(y_test, y_prob)\n",
    "    avg_auc.append(auc)\n",
    "    \n",
    "    cm = confusion_matrix(y_test, y_pred)\n",
    "    specificity = cm[0,0] / (cm[0,0] + cm[0,1] + 1e-7)\n",
    "    avg_spec.append(specificity)\n",
    "\n",
    "    kappa = cohen_kappa_score(y_test, y_pred)\n",
    "    avg_kappa.append(kappa)\n",
    "\n",
    "    print(f\"{LOO} -> Acc: {acc:.4f}, Prec: {prec:.4f}, AUC: {auc:.4f}, Spec: {specificity:.4f}, Kappa: {kappa:.4f}\")\n",
    "\n",
    "print(\"\\nMean Accuracy:\", np.mean(avg_acc))\n",
    "print(\"Mean Precision:\", np.mean(avg_prec))\n",
    "print(\"Mean AUROC:\", np.mean(avg_auc))\n",
    "print(\"Mean Specificity:\", np.mean(avg_spec))\n",
    "print(\"Mean Kappa:\", np.mean(avg_kappa))\n",
    "\n",
    "results = pd.DataFrame({\n",
    "    'LOO': LOOs,\n",
    "    'Accuracy': avg_acc,\n",
    "    'Precision': avg_prec,\n",
    "    'AUROC': avg_auc,\n",
    "    'Specificity': avg_spec,\n",
    "    'Kappa': avg_kappa\n",
    "})\n",
    "results.to_csv('loo_qda_results.csv', index=False)\n",
    "print(\"Saved results to loo_qda_results.csv\")"
   ]
  },
  {
   "cell_type": "code",
   "execution_count": 18,
   "id": "c1f921e6-a910-40c1-bb5f-fd965727bc67",
   "metadata": {},
   "outputs": [
    {
     "name": "stdout",
     "output_type": "stream",
     "text": [
      "LOO1 -> Acc: 0.5962, Prec: 0.7143, AUC: 0.6340, Spec: 0.8718, Kappa: 0.1923\n",
      "LOO2 -> Acc: 0.6630, Prec: 0.6642, AUC: 0.6827, Spec: 0.6667, Kappa: 0.3259\n",
      "LOO3 -> Acc: 0.5866, Prec: 0.5596, AUC: 0.5562, Spec: 0.3604, Kappa: 0.1731\n",
      "LOO4 -> Acc: 0.7755, Prec: 0.7164, AUC: 0.7968, Spec: 0.5957, Kappa: 0.5442\n",
      "LOO5 -> Acc: 0.7526, Prec: 0.7059, AUC: 0.7863, Spec: 0.5556, Kappa: 0.4904\n",
      "LOO6 -> Acc: 0.5619, Prec: 0.6000, AUC: 0.5293, Spec: 0.3778, Kappa: 0.0800\n",
      "LOO7 -> Acc: 0.6429, Prec: 0.6557, AUC: 0.6507, Spec: 0.5227, Kappa: 0.2674\n",
      "LOO8 -> Acc: 0.4056, Prec: 0.4298, AUC: 0.3205, Spec: 0.2333, Kappa: -0.1889\n",
      "LOO9 -> Acc: 0.6889, Prec: 0.6700, AUC: 0.7316, Spec: 0.6333, Kappa: 0.3778\n",
      "LOO10 -> Acc: 0.4027, Prec: 0.3867, AUC: 0.4966, Spec: 0.5741, Kappa: -0.1772\n",
      "LOO11 -> Acc: 0.7722, Prec: 0.7059, AUC: 0.8728, Spec: 0.6111, Kappa: 0.5444\n",
      "LOO12 -> Acc: 0.6833, Prec: 0.6737, AUC: 0.6795, Spec: 0.6556, Kappa: 0.3667\n",
      "\n",
      "Mean Accuracy: 0.6275994619139298\n",
      "Mean Precision: 0.6235082324096888\n",
      "Mean AUROC: 0.644758517454226\n",
      "Mean Specificity: 0.5548415209898953\n",
      "Mean Kappa: 0.24968043693464723\n",
      "Saved results to loo_logreg_results.csv\n"
     ]
    }
   ],
   "source": [
    "from sklearn.linear_model import LogisticRegression\n",
    "from sklearn.metrics import accuracy_score, precision_score, roc_auc_score, confusion_matrix, cohen_kappa_score\n",
    "import numpy as np\n",
    "import pandas as pd\n",
    "\n",
    "LOOs = ['LOO1','LOO2','LOO3','LOO4','LOO5','LOO6','LOO7','LOO8','LOO9','LOO10','LOO11','LOO12']\n",
    "\n",
    "avg_acc = []\n",
    "avg_prec = []\n",
    "avg_auc = []\n",
    "avg_spec = []\n",
    "avg_kappa = []\n",
    "\n",
    "for LOO in LOOs:\n",
    "    test_path = f\"/scratch/project_2014260/data/LOO_finetune/{LOO}/test\"\n",
    "    train_path = f\"/scratch/project_2014260/data/LOO_finetune/{LOO}/finetune\"\n",
    "    train_dataset, valid_dataset, test_dataset = get_leaveOneDatasetOut(test_path, train_path, 0, target_sample=256*2)\n",
    "    clf = LogisticRegression(solver='liblinear')  # Good for binary/small datasets\n",
    "        \n",
    "    x_train = []\n",
    "    y_train = train_dataset.y.numpy()\n",
    "    for epoch in train_dataset.x:\n",
    "        features = []\n",
    "        for sig in epoch:\n",
    "            sig_min, sig_max, sig_mean, sig_std = statistical_features(sig)\n",
    "            sig_skew, sig_kurtosis = shape_features(sig)\n",
    "            peaks, properties = find_peaks(sig, width=5)\n",
    "            num_Peaks = len(peaks)\n",
    "            prominences = np.array(properties['prominences'])\n",
    "            widths = np.array(properties['widths'])\n",
    "            amplitude = np.sum(prominences)\n",
    "            duration = np.sum(widths)\n",
    "            features += [sig_min, sig_max, sig_mean, sig_std, sig_skew, sig_kurtosis, num_Peaks, amplitude, duration]\n",
    "        x_train.append(features)\n",
    "    x_train = np.array(x_train)\n",
    "    \n",
    "    x_test = []\n",
    "    y_test = test_dataset.y.numpy()\n",
    "    for epoch in test_dataset.x:\n",
    "        features = []\n",
    "        for sig in epoch:\n",
    "            sig_min, sig_max, sig_mean, sig_std = statistical_features(sig)\n",
    "            sig_skew, sig_kurtosis = shape_features(sig)\n",
    "            peaks, properties = find_peaks(sig, width=5)\n",
    "            num_Peaks = len(peaks)\n",
    "            prominences = np.array(properties['prominences'])\n",
    "            widths = np.array(properties['widths'])\n",
    "            amplitude = np.sum(prominences)\n",
    "            duration = np.sum(widths)\n",
    "            features += [sig_min, sig_max, sig_mean, sig_std, sig_skew, sig_kurtosis, num_Peaks, amplitude, duration]\n",
    "        x_test.append(features)\n",
    "    x_test = np.array(x_test)\n",
    "    \n",
    "    clf.fit(x_train, y_train)\n",
    "    y_pred = clf.predict(x_test)\n",
    "    y_prob = clf.predict_proba(x_test)[:,1]\n",
    "    \n",
    "    # ------- METRICS --------\n",
    "    acc = accuracy_score(y_test, y_pred)\n",
    "    avg_acc.append(acc)\n",
    "    \n",
    "    prec = precision_score(y_test, y_pred, zero_division=0)\n",
    "    avg_prec.append(prec)\n",
    "    \n",
    "    auc = roc_auc_score(y_test, y_prob)\n",
    "    avg_auc.append(auc)\n",
    "    \n",
    "    cm = confusion_matrix(y_test, y_pred)\n",
    "    specificity = cm[0,0] / (cm[0,0] + cm[0,1] + 1e-7)\n",
    "    avg_spec.append(specificity)\n",
    "\n",
    "    kappa = cohen_kappa_score(y_test, y_pred)\n",
    "    avg_kappa.append(kappa)\n",
    "\n",
    "    print(f\"{LOO} -> Acc: {acc:.4f}, Prec: {prec:.4f}, AUC: {auc:.4f}, Spec: {specificity:.4f}, Kappa: {kappa:.4f}\")\n",
    "\n",
    "print(\"\\nMean Accuracy:\", np.mean(avg_acc))\n",
    "print(\"Mean Precision:\", np.mean(avg_prec))\n",
    "print(\"Mean AUROC:\", np.mean(avg_auc))\n",
    "print(\"Mean Specificity:\", np.mean(avg_spec))\n",
    "print(\"Mean Kappa:\", np.mean(avg_kappa))\n",
    "\n",
    "results = pd.DataFrame({\n",
    "    'LOO': LOOs,\n",
    "    'Accuracy': avg_acc,\n",
    "    'Precision': avg_prec,\n",
    "    'AUROC': avg_auc,\n",
    "    'Specificity': avg_spec,\n",
    "    'Kappa': avg_kappa\n",
    "})\n",
    "results.to_csv('loo_logreg_results.csv', index=False)\n",
    "print(\"Saved results to loo_logreg_results.csv\")"
   ]
  },
  {
   "cell_type": "code",
   "execution_count": null,
   "id": "8e6ed151-7e55-4115-9d14-3fff2a56995f",
   "metadata": {},
   "outputs": [],
   "source": []
  },
  {
   "cell_type": "code",
   "execution_count": null,
   "id": "4ae1c916-089c-4f08-820d-ae563512c320",
   "metadata": {},
   "outputs": [],
   "source": [
    "### VANILLA TRANSFORMER\n",
    "from sklearn.metrics import precision_score, roc_auc_score, confusion_matrix, cohen_kappa_score\n",
    "import numpy as np\n",
    "\n",
    "num_transformer_blocks = 2\n",
    "head_size = 256\n",
    "num_heads = 4\n",
    "dropout = 0.25\n",
    "ff_dim = 4\n",
    "mlp_units=[128]\n",
    "mlp_dropout=0.4\n",
    "\n",
    "LOOs = ['LOO1','LOO2','LOO3','LOO4','LOO5','LOO6','LOO7','LOO8','LOO9','LOO10','LOO11','LOO12']\n",
    "\n",
    "avg_acc = []\n",
    "avg_prec = []\n",
    "avg_auc = []\n",
    "avg_spec = []\n",
    "avg_kappa = []\n",
    "\n",
    "for LOO in LOOs:\n",
    "    test_path = f\"/scratch/project_2014260/data/LOO_finetune/{LOO}/test\"\n",
    "    train_path = f\"/scratch/project_2014260/data/LOO_finetune/{LOO}/finetune\"\n",
    "    train_dataset, valid_dataset, test_dataset = get_leaveOneDatasetOut(test_path, train_path, 0, target_sample=256*2)\n",
    "\n",
    "    train_data = {}\n",
    "    test_data = {}\n",
    "    \n",
    "    train_data[\"data\"] = train_dataset.x.numpy()\n",
    "    train_data[\"label\"] = train_dataset.y.numpy()\n",
    "    test_data[\"data\"] = test_dataset.x.numpy()\n",
    "    test_data[\"label\"] = test_dataset.y.numpy()\n",
    "  \n",
    "    X_train = train_data['data'].astype(np.float32)\n",
    "    y_train = train_data[\"label\"]\n",
    "    X_test = test_data['data'].astype(np.float32)\n",
    "    y_test = test_data[\"label\"]\n",
    "    \n",
    "    input = keras.layers.Input(shape=(X_train.shape[1], X_train.shape[2]))\n",
    "    x = input\n",
    "\n",
    "    for _ in range(num_transformer_blocks):\n",
    "        transformer_layer = transformer_encoder(x, head_size, num_heads, ff_dim, dropout)\n",
    "\n",
    "    pooling_layer = layers.GlobalAveragePooling1D(data_format=\"channels_first\")(transformer_layer)\n",
    "\n",
    "    for dim in mlp_units:\n",
    "        dense_layer = layers.Dense(dim, activation=\"relu\")(pooling_layer)\n",
    "        drop_out = layers.Dropout(mlp_dropout)(dense_layer)\n",
    "\n",
    "    output_layer = keras.layers.Dense(2, activation=\"softmax\")(drop_out)  # <-- 2 for binary classification\n",
    "\n",
    "    model = tf.keras.Model(inputs=input, outputs=output_layer)\n",
    "    \n",
    "    model.compile(optimizer=tf.keras.optimizers.Adam(learning_rate=1e-3), \n",
    "                  loss=\"sparse_categorical_crossentropy\", metrics=['accuracy'])\n",
    "    \n",
    "    history = model.fit(X_train, y_train, epochs=30, batch_size=128, \n",
    "                         validation_data=(X_test, y_test), verbose=0) \n",
    "    scores = model.evaluate(X_test, y_test, batch_size=128, verbose=1)\n",
    "\n",
    "    acc = scores[1]\n",
    "    avg_acc.append(acc)\n",
    "\n",
    "    y_pred_prob = model.predict(X_test)\n",
    "    y_pred = np.argmax(y_pred_prob, axis=1)\n",
    "\n",
    "    # Precision\n",
    "    prec = precision_score(y_test, y_pred, zero_division=0)\n",
    "    avg_prec.append(prec)\n",
    "\n",
    "    # ROC AUC (for binary)\n",
    "    # y_test should be 0/1, y_pred_prob[:,1] is probability for class 1\n",
    "    auc = roc_auc_score(y_test, y_pred_prob[:, 1])\n",
    "    avg_auc.append(auc)\n",
    "\n",
    "    # Specificity (for binary)\n",
    "    cm = confusion_matrix(y_test, y_pred)\n",
    "    specificity = cm[0,0] / (cm[0,0] + cm[0,1] + 1e-7)\n",
    "    avg_spec.append(specificity)\n",
    "\n",
    "    # Kappa\n",
    "    kappa = cohen_kappa_score(y_test, y_pred)\n",
    "    avg_kappa.append(kappa)\n",
    "\n",
    "    print(f\"{LOO} -> Acc: {acc:.4f}, Prec: {prec:.4f}, AUC: {auc:.4f}, Spec: {specificity:.4f}, Kappa: {kappa:.4f}\")\n",
    "\n",
    "print(\"\\nMean Accuracy:\", np.mean(avg_acc))\n",
    "print(\"Mean Precision:\", np.mean(avg_prec))\n",
    "print(\"Mean AUROC:\", np.mean(avg_auc))\n",
    "print(\"Mean Specificity:\", np.mean(avg_spec))\n",
    "print(\"Mean Kappa:\", np.mean(avg_kappa))\n",
    "\n",
    "results = pd.DataFrame({\n",
    "    'LOO': LOOs,\n",
    "    'Accuracy': avg_acc,\n",
    "    'Precision': avg_prec,\n",
    "    'AUROC': avg_auc,\n",
    "    'Specificity': avg_spec,\n",
    "    'Kappa': avg_kappa\n",
    "})\n",
    "results.to_csv('loo_transformer_results.csv', index=False)\n",
    "print(\"Saved results to loo_transformer_results.csv\")"
   ]
  },
  {
   "cell_type": "code",
   "execution_count": null,
   "id": "4ea8b361-a78f-4232-a3cc-4cc71e4a56de",
   "metadata": {},
   "outputs": [],
   "source": []
  },
  {
   "cell_type": "code",
   "execution_count": null,
   "id": "1174444c-1dd2-4380-8047-6bddf2826bfe",
   "metadata": {},
   "outputs": [],
   "source": []
  },
  {
   "cell_type": "code",
   "execution_count": null,
   "id": "8236d46a-3973-4259-9c51-77498c41bd92",
   "metadata": {
    "scrolled": true
   },
   "outputs": [],
   "source": []
  },
  {
   "cell_type": "code",
   "execution_count": null,
   "id": "72ebc455-41dd-48ba-bebc-2337f5c1673c",
   "metadata": {},
   "outputs": [],
   "source": []
  },
  {
   "cell_type": "code",
   "execution_count": null,
   "id": "ecd10289-e675-40a6-b2d3-8def24d7929e",
   "metadata": {},
   "outputs": [],
   "source": []
  },
  {
   "cell_type": "code",
   "execution_count": null,
   "id": "a39d10b6-e801-4f63-bfaf-7a60a3868cee",
   "metadata": {},
   "outputs": [],
   "source": []
  },
  {
   "cell_type": "code",
   "execution_count": null,
   "id": "80827193-c8de-49a5-a3f1-42b60c322f2a",
   "metadata": {},
   "outputs": [],
   "source": []
  },
  {
   "cell_type": "code",
   "execution_count": null,
   "id": "c2b6c948-4b6d-4d80-afe9-34a47aba9241",
   "metadata": {},
   "outputs": [],
   "source": []
  },
  {
   "cell_type": "code",
   "execution_count": null,
   "id": "e32bc476-83ef-4724-b173-cf4e7eda547f",
   "metadata": {
    "scrolled": true
   },
   "outputs": [],
   "source": []
  },
  {
   "cell_type": "code",
   "execution_count": null,
   "id": "1166bbfe-768b-4d3a-91bb-da5e42a98552",
   "metadata": {},
   "outputs": [],
   "source": []
  },
  {
   "cell_type": "code",
   "execution_count": 6,
   "id": "adf1dd30-2031-434e-8eda-d67c750e645a",
   "metadata": {},
   "outputs": [],
   "source": []
  },
  {
   "cell_type": "code",
   "execution_count": null,
   "id": "cbc9e8c0-21bf-4cf6-8e26-1071cf7b3a19",
   "metadata": {
    "scrolled": true
   },
   "outputs": [],
   "source": []
  },
  {
   "cell_type": "code",
   "execution_count": null,
   "id": "3bb6efa4-149a-4d4d-9f95-fd900084b407",
   "metadata": {},
   "outputs": [],
   "source": []
  },
  {
   "cell_type": "code",
   "execution_count": null,
   "id": "795f5fa2-7bf1-4c78-9dab-78073206eaad",
   "metadata": {},
   "outputs": [],
   "source": []
  },
  {
   "cell_type": "code",
   "execution_count": null,
   "id": "45789382-e6a2-4f2d-8952-5b1bc4aab475",
   "metadata": {
    "scrolled": true
   },
   "outputs": [],
   "source": []
  },
  {
   "cell_type": "code",
   "execution_count": null,
   "id": "b71c6ca7-945c-4227-9d6e-bce51bf2bea0",
   "metadata": {},
   "outputs": [],
   "source": []
  },
  {
   "cell_type": "code",
   "execution_count": null,
   "id": "66d14139-10dd-4030-9b11-b7cbb7904431",
   "metadata": {},
   "outputs": [],
   "source": []
  }
 ],
 "metadata": {
  "kernelspec": {
   "display_name": "Python 3 (ipykernel)",
   "language": "python",
   "name": "python3"
  },
  "language_info": {
   "codemirror_mode": {
    "name": "ipython",
    "version": 3
   },
   "file_extension": ".py",
   "mimetype": "text/x-python",
   "name": "python",
   "nbconvert_exporter": "python",
   "pygments_lexer": "ipython3",
   "version": "3.10.14"
  }
 },
 "nbformat": 4,
 "nbformat_minor": 5
}
