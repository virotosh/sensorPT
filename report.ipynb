{
 "cells": [
  {
   "cell_type": "code",
   "execution_count": 1,
   "id": "bd25f61e-f7d6-4648-bc4f-de8c40a4c58c",
   "metadata": {},
   "outputs": [],
   "source": [
    "import numpy as np\n",
    "import pandas as pd"
   ]
  },
  {
   "cell_type": "code",
   "execution_count": 2,
   "id": "926e19b4-48d6-4553-82b5-4577d2fb5dde",
   "metadata": {},
   "outputs": [
    {
     "name": "stdout",
     "output_type": "stream",
     "text": [
      "\n",
      "=== Paired t-tests against foundation for Accuracy ===\n",
      "t-test rf vs foundation: t = -7.2739, raw p = 0.0000, Bonferroni corrected p = 0.0000\n",
      "t-test lda vs foundation: t = -6.4519, raw p = 0.0000, Bonferroni corrected p = 0.0001\n",
      "t-test qda vs foundation: t = -6.4752, raw p = 0.0000, Bonferroni corrected p = 0.0001\n",
      "t-test logreg vs foundation: t = -7.8532, raw p = 0.0000, Bonferroni corrected p = 0.0000\n",
      "t-test transformer vs foundation: t = -4.9455, raw p = 0.0002, Bonferroni corrected p = 0.0011\n",
      "\n",
      "=== Paired t-tests against foundation for Precision ===\n",
      "t-test rf vs foundation: t = -3.8388, raw p = 0.0014, Bonferroni corrected p = 0.0069\n",
      "t-test lda vs foundation: t = -7.2724, raw p = 0.0000, Bonferroni corrected p = 0.0000\n",
      "t-test qda vs foundation: t = -6.8670, raw p = 0.0000, Bonferroni corrected p = 0.0001\n",
      "t-test logreg vs foundation: t = -6.6061, raw p = 0.0000, Bonferroni corrected p = 0.0001\n",
      "t-test transformer vs foundation: t = -4.6133, raw p = 0.0004, Bonferroni corrected p = 0.0019\n",
      "\n",
      "=== Paired t-tests against foundation for AUROC ===\n",
      "t-test rf vs foundation: t = -5.3516, raw p = 0.0001, Bonferroni corrected p = 0.0006\n",
      "t-test lda vs foundation: t = -4.4473, raw p = 0.0005, Bonferroni corrected p = 0.0025\n",
      "t-test qda vs foundation: t = -5.2172, raw p = 0.0001, Bonferroni corrected p = 0.0007\n",
      "t-test logreg vs foundation: t = -6.6245, raw p = 0.0000, Bonferroni corrected p = 0.0001\n",
      "t-test transformer vs foundation: t = -4.6285, raw p = 0.0004, Bonferroni corrected p = 0.0018\n",
      "\n",
      "=== Paired t-tests against foundation for Specificity ===\n",
      "t-test rf vs foundation: t = -2.4882, raw p = 0.0151, Bonferroni corrected p = 0.0753\n",
      "t-test lda vs foundation: t = -4.6301, raw p = 0.0004, Bonferroni corrected p = 0.0018\n",
      "t-test qda vs foundation: t = -5.3450, raw p = 0.0001, Bonferroni corrected p = 0.0006\n",
      "t-test logreg vs foundation: t = -4.4067, raw p = 0.0005, Bonferroni corrected p = 0.0026\n",
      "t-test transformer vs foundation: t = -3.3122, raw p = 0.0035, Bonferroni corrected p = 0.0173\n",
      "\n",
      "=== Paired t-tests against foundation for Kappa ===\n",
      "t-test rf vs foundation: t = -7.3498, raw p = 0.0000, Bonferroni corrected p = 0.0000\n",
      "t-test lda vs foundation: t = -6.4298, raw p = 0.0000, Bonferroni corrected p = 0.0001\n",
      "t-test qda vs foundation: t = -6.2172, raw p = 0.0000, Bonferroni corrected p = 0.0002\n",
      "t-test logreg vs foundation: t = -7.8995, raw p = 0.0000, Bonferroni corrected p = 0.0000\n",
      "t-test transformer vs foundation: t = -4.9359, raw p = 0.0002, Bonferroni corrected p = 0.0011\n"
     ]
    }
   ],
   "source": [
    "from scipy.stats import ttest_rel\n",
    "\n",
    "methods = ['rf', 'lda', 'qda', 'logreg', 'transformer', 'foundation']\n",
    "dfs = {method: pd.read_csv(f'louo_{method}_results.csv') for method in methods}\n",
    "metrics = ['Accuracy', 'Precision', 'AUROC', 'Specificity', 'Kappa']\n",
    "\n",
    "for metric in metrics:\n",
    "    print(f\"\\n=== Paired t-tests against foundation for {metric} ===\")\n",
    "    comparisons = [m for m in methods if m != 'foundation']\n",
    "    n_tests = len(comparisons)\n",
    "    for m in comparisons:\n",
    "        col = metric\n",
    "        if col not in dfs[m].columns:\n",
    "            col = 'AUROC'\n",
    "        vals1 = dfs[m][col]\n",
    "        vals2 = dfs['foundation'][col]\n",
    "        tstat, pval = ttest_rel(vals1, vals2, alternative='less')\n",
    "        pval_bonf = min(pval * n_tests, 1.0)  # Bonferroni correction\n",
    "        print(f\"t-test {m} vs foundation: t = {tstat:.4f}, \"\n",
    "              f\"raw p = {pval:.4f}, Bonferroni corrected p = {pval_bonf:.4f}\")"
   ]
  },
  {
   "cell_type": "code",
   "execution_count": 3,
   "id": "9be12dd9-3c0a-4579-a740-91d427038d04",
   "metadata": {},
   "outputs": [
    {
     "name": "stdout",
     "output_type": "stream",
     "text": [
      "\\begin{table}\n",
      "\\caption{Mean metrics for all methods}\n",
      "\\label{tab:means}\n",
      "\\begin{tabular}{lrrrrr}\n",
      "\\toprule\n",
      " & Accuracy & Precision & AUC & Specificity & Kappa \\\\\n",
      "\\midrule\n",
      "\\textbf{Random Forest} & 0.653 & 0.705 & 0.701 & 0.649 & 0.298 \\\\\n",
      "\\textbf{Linear Discriminant Analysis} & 0.622 & 0.650 & 0.670 & 0.598 & 0.236 \\\\\n",
      "\\textbf{Quadratic Discriminant Analysis} & 0.614 & 0.624 & 0.648 & 0.431 & 0.205 \\\\\n",
      "\\textbf{Logistic Regression} & 0.628 & 0.658 & 0.696 & 0.624 & 0.252 \\\\\n",
      "\\textbf{Transformer} & 0.646 & 0.602 & 0.701 & 0.598 & 0.283 \\\\\n",
      "\\textbf{Foundation Model} & 0.806 & 0.825 & 0.846 & 0.762 & 0.605 \\\\\n",
      "\\bottomrule\n",
      "\\end{tabular}\n",
      "\\end{table}\n",
      "\n"
     ]
    }
   ],
   "source": [
    "import pandas as pd\n",
    "\n",
    "# Map abbreviations to full names\n",
    "method_names = {\n",
    "    'rf': 'Random Forest',\n",
    "    'lda': 'Linear Discriminant Analysis',\n",
    "    'qda': 'Quadratic Discriminant Analysis',\n",
    "    'logreg': 'Logistic Regression',\n",
    "    'transformer': 'Transformer',\n",
    "    'foundation': 'Foundation Model'\n",
    "}\n",
    "\n",
    "abbr_methods = list(method_names.keys())\n",
    "metrics = ['Accuracy', 'Precision', 'AUC', 'Specificity', 'Kappa']\n",
    "\n",
    "# Read in all results\n",
    "dfs = {abbr: pd.read_csv(f'louo_{abbr}_results.csv') for abbr in abbr_methods}\n",
    "\n",
    "# Compute mean for each method and metric\n",
    "means_dict = {}\n",
    "for abbr in abbr_methods:\n",
    "    means_dict[method_names[abbr]] = []\n",
    "    for metric in metrics:\n",
    "        col = metric\n",
    "        if col not in dfs[abbr].columns:\n",
    "            col = 'AUROC'\n",
    "        means_dict[method_names[abbr]].append(dfs[abbr][col].mean())\n",
    "\n",
    "# Make DataFrame for the table\n",
    "means_df = pd.DataFrame(means_dict, index=metrics).T\n",
    "\n",
    "# Generate LaTeX table\n",
    "latex_table = means_df.to_latex(\n",
    "    float_format=\"%.3f\", \n",
    "    caption=\"Mean metrics for all methods\", \n",
    "    label=\"tab:means\", \n",
    "    bold_rows=True\n",
    ")\n",
    "print(latex_table)"
   ]
  },
  {
   "cell_type": "code",
   "execution_count": 4,
   "id": "23594ff6-a22d-44fc-bbb6-83ca206367c1",
   "metadata": {},
   "outputs": [
    {
     "name": "stdout",
     "output_type": "stream",
     "text": [
      "\n",
      "=== Paired t-tests against foundation for Accuracy ===\n",
      "t-test rf vs foundation: t = -3.2827, raw p = 0.0036, Bonferroni corrected p = 0.0182\n",
      "t-test lda vs foundation: t = -2.1447, raw p = 0.0276, Bonferroni corrected p = 0.1379\n",
      "t-test qda vs foundation: t = -3.0814, raw p = 0.0052, Bonferroni corrected p = 0.0261\n",
      "t-test logreg vs foundation: t = -1.8468, raw p = 0.0459, Bonferroni corrected p = 0.2296\n",
      "t-test transformer vs foundation: t = -2.7100, raw p = 0.0101, Bonferroni corrected p = 0.0507\n",
      "\n",
      "=== Paired t-tests against foundation for Precision ===\n",
      "t-test rf vs foundation: t = -3.1715, raw p = 0.0044, Bonferroni corrected p = 0.0222\n",
      "t-test lda vs foundation: t = -2.7274, raw p = 0.0098, Bonferroni corrected p = 0.0492\n",
      "t-test qda vs foundation: t = -4.0333, raw p = 0.0010, Bonferroni corrected p = 0.0049\n",
      "t-test logreg vs foundation: t = -2.2415, raw p = 0.0233, Bonferroni corrected p = 0.1164\n",
      "t-test transformer vs foundation: t = -1.8757, raw p = 0.0437, Bonferroni corrected p = 0.2187\n",
      "\n",
      "=== Paired t-tests against foundation for AUROC ===\n",
      "t-test rf vs foundation: t = -3.5784, raw p = 0.0022, Bonferroni corrected p = 0.0108\n",
      "t-test lda vs foundation: t = -1.7721, raw p = 0.0520, Bonferroni corrected p = 0.2601\n",
      "t-test qda vs foundation: t = -3.1775, raw p = 0.0044, Bonferroni corrected p = 0.0220\n",
      "t-test logreg vs foundation: t = -1.8807, raw p = 0.0434, Bonferroni corrected p = 0.2168\n",
      "t-test transformer vs foundation: t = -2.6184, raw p = 0.0119, Bonferroni corrected p = 0.0597\n",
      "\n",
      "=== Paired t-tests against foundation for Specificity ===\n",
      "t-test rf vs foundation: t = -1.4910, raw p = 0.0820, Bonferroni corrected p = 0.4102\n",
      "t-test lda vs foundation: t = -1.9490, raw p = 0.0386, Bonferroni corrected p = 0.1931\n",
      "t-test qda vs foundation: t = -3.2347, raw p = 0.0040, Bonferroni corrected p = 0.0199\n",
      "t-test logreg vs foundation: t = -1.4880, raw p = 0.0824, Bonferroni corrected p = 0.4121\n",
      "t-test transformer vs foundation: t = -1.8895, raw p = 0.0427, Bonferroni corrected p = 0.2137\n",
      "\n",
      "=== Paired t-tests against foundation for Kappa ===\n",
      "t-test rf vs foundation: t = -3.2698, raw p = 0.0037, Bonferroni corrected p = 0.0187\n",
      "t-test lda vs foundation: t = -2.1889, raw p = 0.0255, Bonferroni corrected p = 0.1277\n",
      "t-test qda vs foundation: t = -3.1276, raw p = 0.0048, Bonferroni corrected p = 0.0240\n",
      "t-test logreg vs foundation: t = -1.8794, raw p = 0.0435, Bonferroni corrected p = 0.2173\n",
      "t-test transformer vs foundation: t = -2.7636, raw p = 0.0092, Bonferroni corrected p = 0.0461\n"
     ]
    }
   ],
   "source": [
    "from scipy.stats import ttest_rel\n",
    "import pandas as pd\n",
    "\n",
    "methods = ['rf', 'lda', 'qda', 'logreg', 'transformer', 'foundation']\n",
    "dfs = {method: pd.read_csv(f'loo_{method}_results.csv') for method in methods}\n",
    "metrics = ['Accuracy', 'Precision', 'AUROC', 'Specificity', 'Kappa']\n",
    "\n",
    "for metric in metrics:\n",
    "    print(f\"\\n=== Paired t-tests against foundation for {metric} ===\")\n",
    "    comparisons = [m for m in methods if m != 'foundation']\n",
    "    n_tests = len(comparisons)\n",
    "    for m in comparisons:\n",
    "        col = metric\n",
    "        if col not in dfs[m].columns:\n",
    "            col = 'AUROC'\n",
    "        vals1 = dfs[m][col]\n",
    "        vals2 = dfs['foundation'][col]\n",
    "        tstat, pval = ttest_rel(vals1, vals2, alternative='less')\n",
    "        pval_bonf = min(pval * n_tests, 1.0)  # Bonferroni correction\n",
    "        print(f\"t-test {m} vs foundation: t = {tstat:.4f}, \"\n",
    "              f\"raw p = {pval:.4f}, Bonferroni corrected p = {pval_bonf:.4f}\")"
   ]
  },
  {
   "cell_type": "code",
   "execution_count": 5,
   "id": "9459679b-c35c-44c7-b8af-fc1813781b92",
   "metadata": {
    "scrolled": true
   },
   "outputs": [
    {
     "name": "stdout",
     "output_type": "stream",
     "text": [
      "\\begin{table}\n",
      "\\caption{Mean metrics for all methods}\n",
      "\\label{tab:means}\n",
      "\\begin{tabular}{lrrrrr}\n",
      "\\toprule\n",
      " & Accuracy & Precision & AUC & Specificity & Kappa \\\\\n",
      "\\midrule\n",
      "\\textbf{Random Forest} & 0.601 & 0.611 & 0.623 & 0.589 & 0.200 \\\\\n",
      "\\textbf{Linear Discriminant Analysis} & 0.623 & 0.612 & 0.654 & 0.524 & 0.240 \\\\\n",
      "\\textbf{Quadratic Discriminant Analysis} & 0.588 & 0.587 & 0.584 & 0.476 & 0.173 \\\\\n",
      "\\textbf{Logistic Regression} & 0.628 & 0.624 & 0.645 & 0.555 & 0.250 \\\\\n",
      "\\textbf{Transformer} & 0.633 & 0.604 & 0.648 & 0.617 & 0.262 \\\\\n",
      "\\textbf{Foundation Model} & 0.692 & 0.706 & 0.729 & 0.658 & 0.380 \\\\\n",
      "\\bottomrule\n",
      "\\end{tabular}\n",
      "\\end{table}\n",
      "\n"
     ]
    }
   ],
   "source": [
    "import pandas as pd\n",
    "\n",
    "# Map abbreviations to full names\n",
    "method_names = {\n",
    "    'rf': 'Random Forest',\n",
    "    'lda': 'Linear Discriminant Analysis',\n",
    "    'qda': 'Quadratic Discriminant Analysis',\n",
    "    'logreg': 'Logistic Regression',\n",
    "    'transformer': 'Transformer',\n",
    "    'foundation': 'Foundation Model'\n",
    "}\n",
    "\n",
    "abbr_methods = list(method_names.keys())\n",
    "metrics = ['Accuracy', 'Precision', 'AUC', 'Specificity', 'Kappa']\n",
    "\n",
    "# Read in all results\n",
    "dfs = {abbr: pd.read_csv(f'loo_{abbr}_results.csv') for abbr in abbr_methods}\n",
    "\n",
    "# Compute mean for each method and metric\n",
    "means_dict = {}\n",
    "for abbr in abbr_methods:\n",
    "    means_dict[method_names[abbr]] = []\n",
    "    for metric in metrics:\n",
    "        col = metric\n",
    "        if col not in dfs[abbr].columns:\n",
    "            col = 'AUROC'\n",
    "        means_dict[method_names[abbr]].append(dfs[abbr][col].mean())\n",
    "\n",
    "# Make DataFrame for the table\n",
    "means_df = pd.DataFrame(means_dict, index=metrics).T\n",
    "\n",
    "# Generate LaTeX table\n",
    "latex_table = means_df.to_latex(\n",
    "    float_format=\"%.3f\", \n",
    "    caption=\"Mean metrics for all methods\", \n",
    "    label=\"tab:means\", \n",
    "    bold_rows=True\n",
    ")\n",
    "print(latex_table)"
   ]
  },
  {
   "cell_type": "code",
   "execution_count": null,
   "id": "0ed8e46e-0606-4b96-b88f-81aebe0a696f",
   "metadata": {},
   "outputs": [],
   "source": []
  },
  {
   "cell_type": "code",
   "execution_count": 6,
   "id": "9226701f-bd7b-472c-92a0-9efd93db4fa7",
   "metadata": {},
   "outputs": [],
   "source": [
    "# importing packages\n",
    "import seaborn as sns\n",
    "import matplotlib.pyplot as plt"
   ]
  },
  {
   "cell_type": "code",
   "execution_count": 7,
   "id": "c5f7ab06-06a4-40e6-9600-e1500f098e37",
   "metadata": {},
   "outputs": [],
   "source": [
    "d = [[0.625, 1.0, 0.375, 0.7272727489471436, 0.6000000238418579, 0.9545454382896423, 0.8181818127632141, 0.800000011920929, 0.5416666865348816, 0.75, 0.5, 0.4285714328289032, 0.5909090638160706, 0.5714285969734192, 0.9166666865348816],\n",
    "[0.44999998807907104, 0.574999988079071, 0.5, 0.9545454382896423, 0.8999999761581421, 0.8636363744735718, 0.8181818127632141, 0.6000000238418579, 1.0, 0.5, 0.6666666865348816, 0.4285714328289032, 0.8636363744735718, 0.1666666716337204, 1.0],\n",
    "[0.824999988079071, 0.949999988079071, 0.75, 0.6818181872367859, 0.4000000059604645, 0.8636363744735718, 0.5, 0.7250000238418579, 1.0, 0.2954545319080353, 0.625, 0.4523809552192688, 0.5909090638160706, 1.0, 0.8333333134651184],\n",
    "[0.824999988079071, 0.949999988079071, 0.5, 0.6363636255264282, 0.7250000238418579, 0.7272727489471436, 0.40909090638160706, 0.699999988079071, 0.75, 0.4318181872367859, 0.6666666865348816, 0.3571428656578064, 0.5454545617103577, 0.8333333134651184, 1.0],\n",
    "[0.824999988079071, 1.0, 0.625, 0.9090909361839294, 0.625, 0.5, 0.40909090638160706, 0.625, 0.5, 0.5, 0.7916666865348816, 0.6904761791229248, 0.7727272510528564, 0.6428571343421936, 0.875],\n",
    "[0.824999988079071, 0.9750000238418579, 0.9090909361839294, 0.4545454680919647, 0.5, 0.7727272510528564, 0.5909090638160706, 0.7250000238418579, 0.9166666865348816, 0.5, 0.5416666865348816, 0.3571428656578064, 0.8636363744735718, 0.4047619104385376, 0.875],\n",
    "[0.7749999761581421, 0.949999988079071, 0.4583333432674408, 1.0, 0.9750000238418579, 0.7727272510528564, 0.5909090638160706, 0.7250000238418579, 0.9166666865348816, 0.5454545617103577, 0.6666666865348816, 0.8095238208770752, 0.5909090638160706, 0.5476190447807312, 1.0],\n",
    "[0.949999988079071, 0.949999988079071, 0.4583333432674408, 0.9545454382896423, 0.75, 0.9545454382896423, 0.5, 0.8500000238418579, 1.0, 0.5454545617103577, 0.8333333134651184, 0.8571428656578064, 0.5454545617103577, 0.5476190447807312, 0.8333333134651184],\n",
    "[0.6000000238418579, 0.7250000238418579, 0.75, 1.0, 0.8750000238418579, 0.9545454382896423, 0.9, 0.849999988079071, 0.6, 0.9090909361839294, 0.6000000059604645, 0.6, 0.7727272510528564, 0.6428571343421936, 0.9],\n",
    "[0.6000000238418579, 0.7250000238418579, 0.75, 0.9545454382896423, 0.9750000238418579, 0.9545454382896423, 0.8181818127632141, 0.7916666865348816, 0.5, 0.8863636255264282, 0.6666666865348816, 0.9523809552192688, 0.7727272510528564, 0.6190476417541504, 1.0],\n",
    "[0.8996753246753247, 0.7250000238418579, 0.95454544, 0.9090909361839294, 1.0, 0.9545454382896423, 0.6363636255264282, 0.8500000238418579, 0.7916666865348816, 0.6454545617103577, 0.7916666865348816, 0.738095223903656, 0.6363636255264282, 0.6190476417541504, 1.0],\n",
    "[0.8996753246753247 ,0.668683257918552 ,0.7280526868131462 ,0.8528174603174603 ,0.8533333333333333 ,0.8478354978354978 ,0.767563025210084 ,0.8722222222222221 ,0.9833333333333334 ,0.70075 ,0.7055555555555555 ,0.7888888888888889]]"
   ]
  },
  {
   "cell_type": "code",
   "execution_count": 8,
   "id": "d499e554-24f4-4588-a4a0-2146af4350f7",
   "metadata": {},
   "outputs": [
    {
     "name": "stdout",
     "output_type": "stream",
     "text": [
      "0.6799495001633962\n",
      "0.6857936511437098\n",
      "0.699502162138621\n",
      "0.6704761922359467\n",
      "0.6860606054464976\n",
      "0.6807431519031525\n",
      "0.754920635620753\n",
      "0.7686507920424144\n",
      "0.778614721695582\n",
      "0.797741707166036\n",
      "0.8101010158882265\n",
      "0.8057258821752833\n"
     ]
    }
   ],
   "source": [
    "df = []\n",
    "for looid,loo in enumerate(d):\n",
    "    for dsid,ds in enumerate(loo):\n",
    "        df.append([looid+1,dsid+1,ds])\n",
    "\n",
    "for _d in d:\n",
    "    print(np.mean(_d))"
   ]
  },
  {
   "cell_type": "code",
   "execution_count": null,
   "id": "9d6acf1c-93f0-4508-b021-35748f78cff9",
   "metadata": {},
   "outputs": [],
   "source": []
  },
  {
   "cell_type": "code",
   "execution_count": 9,
   "id": "24d6dc14-48c9-44da-9690-c68bca49b4b2",
   "metadata": {},
   "outputs": [
    {
     "data": {
      "image/png": "[encoded data removed]",
      "text/plain": [
       "<Figure size 500x300 with 1 Axes>"
      ]
     },
     "metadata": {},
     "output_type": "display_data"
    }
   ],
   "source": [
    "# draw lineplot\n",
    "data=pd.DataFrame(df,columns=['number_ds','ds','acc'])\n",
    "plt.rcParams['figure.figsize']=(5,3)\n",
    "plt.margins(x=0)\n",
    "ax = sns.lineplot(x=\"number_ds\", y=\"acc\", data=data)\n",
    "ax.set(xlabel='number of datasets', ylabel='accuracy')\n",
    "plt.savefig('numberdataset.png', dpi=1000, bbox_inches=\"tight\")\n",
    "plt.show()"
   ]
  },
  {
   "cell_type": "code",
   "execution_count": null,
   "id": "a5d5b401-9b88-4ea1-b3ed-c17d6f31dd3e",
   "metadata": {},
   "outputs": [],
   "source": []
  },
  {
   "cell_type": "code",
   "execution_count": 10,
   "id": "c7f28551-3bd8-43dd-9d04-21eb6e4cf099",
   "metadata": {},
   "outputs": [],
   "source": [
    "percents = [0,10,20,30,40,50,60,70,80,90,100]\n",
    "dfs = {percent: pd.read_csv(f'percent_{percent}_louo_foundation_results.csv') for percent in percents}"
   ]
  },
  {
   "cell_type": "code",
   "execution_count": 11,
   "id": "316b6106-e714-4ed9-8117-1e68fb6c9aaa",
   "metadata": {},
   "outputs": [
    {
     "data": {
      "image/png": "[encoded data removed]",
      "text/plain": [
       "<Figure size 500x300 with 1 Axes>"
      ]
     },
     "metadata": {},
     "output_type": "display_data"
    }
   ],
   "source": [
    "metrics = ['Accuracy', 'Precision', 'AUC', 'Specificity', 'Kappa']\n",
    "\n",
    "df = []\n",
    "for metric in metrics:\n",
    "    for percent in percents:\n",
    "        #print(metric,percent,dfs[percent][metric].mean())\n",
    "        if metric == 'Accuracy':\n",
    "            for idx,val in enumerate(dfs[percent][metric]):\n",
    "                df.append([percent,idx,val])\n",
    "                #if percent==100:\n",
    "                #    print(val,',')\n",
    "\n",
    "# draw lineplot\n",
    "data=pd.DataFrame(df,columns=['percent','ds','acc'])\n",
    "plt.rcParams['figure.figsize']=(5,3)\n",
    "plt.margins(x=0)\n",
    "ax = sns.lineplot(x=\"percent\", y=\"acc\", data=data)\n",
    "ax.set(xlabel='percent amount of data', ylabel='accuracy')\n",
    "plt.savefig('percentdata.png', dpi=1000, bbox_inches=\"tight\")\n",
    "plt.show()"
   ]
  },
  {
   "cell_type": "code",
   "execution_count": 20,
   "id": "040ddccd-de6f-4543-aea3-89ac9ec53e3a",
   "metadata": {},
   "outputs": [],
   "source": []
  },
  {
   "cell_type": "code",
   "execution_count": 35,
   "id": "09e3064d-619d-4c53-9905-61f1f44135df",
   "metadata": {},
   "outputs": [
    {
     "name": "stdout",
     "output_type": "stream",
     "text": [
      "Accuracy\n",
      "exclude HR 0.7641871971993681\n",
      "exclude EDA 0.7699380748939798\n",
      "exclude IBI 0.7992031279546149\n",
      "exclude ACC 0.7871014631475625\n",
      "exclude BVP 0.797345427754089\n",
      "exclude TEMP 0.7822560509212252\n",
      "exclude ALL 0.8057258821752833\n",
      "Precision\n",
      "exclude HR 0.7961777124332419\n",
      "exclude EDA 0.7917216948834005\n",
      "exclude IBI 0.824540784492382\n",
      "exclude ACC 0.8122589994579893\n",
      "exclude BVP 0.8233658642145069\n",
      "exclude TEMP 0.8137763657125078\n",
      "exclude ALL 0.8248693574266491\n",
      "AUC\n",
      "exclude HR 0.8186749268845768\n",
      "exclude EDA 0.7936813045490583\n",
      "exclude IBI 0.830511154191127\n",
      "exclude ACC 0.831340516115686\n",
      "exclude BVP 0.8442612808625564\n",
      "exclude TEMP 0.8221252351277154\n",
      "exclude ALL 0.8455206777916029\n",
      "Specificity\n",
      "exclude HR 0.7038388373133796\n",
      "exclude EDA 0.7234955119181734\n",
      "exclude IBI 0.7475171820183261\n",
      "exclude ACC 0.7402852798947094\n",
      "exclude BVP 0.768626600564383\n",
      "exclude TEMP 0.7379160698363335\n",
      "exclude ALL 0.7623624857203118\n",
      "Kappa\n",
      "exclude HR 0.5245923205000232\n",
      "exclude EDA 0.5351484912862019\n",
      "exclude IBI 0.592519560599353\n",
      "exclude ACC 0.5674665958950359\n",
      "exclude BVP 0.5898432623337447\n",
      "exclude TEMP 0.5576597648927762\n",
      "exclude ALL 0.604554595567376\n"
     ]
    }
   ],
   "source": [
    "excludes = [0,1,3,4,5,6]\n",
    "excludes_labels = ['HR','EDA','IBI','ACC','BVP','TEMP','ALL']\n",
    "dfs = {exclude: pd.read_csv(f'excludeFeature_{exclude}_louo_foundation_results.csv') for exclude in excludes}\n",
    "dfs[7] = pd.read_csv(f'percent_100_louo_foundation_results.csv')\n",
    "excludes.append(7)\n",
    "metrics = ['Accuracy', 'Precision', 'AUC', 'Specificity', 'Kappa']\n",
    "\n",
    "df = []\n",
    "for metric in metrics:\n",
    "    print(metric)\n",
    "    for exidx,exclude in enumerate(excludes):\n",
    "        for idx,val in enumerate(dfs[exclude][metric]):\n",
    "            df.append([exclude,idx,val])\n",
    "        print('exclude '+excludes_labels[exidx],np.mean(dfs[exclude][metric]))"
   ]
  },
  {
   "cell_type": "code",
   "execution_count": 36,
   "id": "42a0cd96-0c59-4262-9b20-fc7b6467d86d",
   "metadata": {},
   "outputs": [
    {
     "name": "stdout",
     "output_type": "stream",
     "text": [
      "\\begin{tabular}{lccccc}\n",
      "\\toprule\n",
      "Excluded Feature & Accuracy & Precision & AUC & Specificity & Kappa \\\\\n",
      "\\midrule\n",
      "HR & 0.764 & 0.796 & 0.819 & 0.704 & 0.525 \\\\\n",
      "EDA & 0.770 & 0.792 & 0.794 & 0.723 & 0.535 \\\\\n",
      "IBI & 0.799 & 0.825 & 0.831 & 0.748 & 0.593 \\\\\n",
      "ACC & 0.787 & 0.812 & 0.831 & 0.740 & 0.567 \\\\\n",
      "BVP & 0.797 & 0.823 & 0.844 & 0.769 & 0.590 \\\\\n",
      "TEMP & 0.782 & 0.814 & 0.822 & 0.738 & 0.558 \\\\\n",
      "ALL & 0.806 & 0.825 & 0.846 & 0.762 & 0.605 \\\\\n",
      "\\bottomrule\n",
      "\\end{tabular}\n"
     ]
    }
   ],
   "source": [
    "import numpy as np\n",
    "import pandas as pd\n",
    "\n",
    "excludes = [0,1,3,4,5,6]\n",
    "excludes_labels = ['HR','EDA','IBI','ACC','BVP','TEMP','ALL']\n",
    "dfs = {exclude: pd.read_csv(f'excludeFeature_{exclude}_louo_foundation_results.csv') for exclude in excludes}\n",
    "dfs[7] = pd.read_csv(f'percent_100_louo_foundation_results.csv')\n",
    "excludes.append(7)\n",
    "excludes_labels.append('ALL')\n",
    "\n",
    "metrics = ['Accuracy', 'Precision', 'AUC', 'Specificity', 'Kappa']\n",
    "\n",
    "# Collect means in a list-of-lists for table\n",
    "means = []\n",
    "for exidx, exclude in enumerate(excludes):\n",
    "    row = []\n",
    "    for metric in metrics:\n",
    "        mean_val = np.mean(dfs[exclude][metric])\n",
    "        row.append(mean_val)\n",
    "    means.append(row)\n",
    "\n",
    "# Print LaTeX Table\n",
    "print(\"\\\\begin{tabular}{l\" + \"c\"*len(metrics) + \"}\")\n",
    "print(\"\\\\toprule\")\n",
    "print(\"Excluded Feature & \" + \" & \".join(metrics) + \" \\\\\\\\\")\n",
    "print(\"\\\\midrule\")\n",
    "for label, row in zip(excludes_labels, means):\n",
    "    vals = [\"{:.3f}\".format(val) for val in row]\n",
    "    print(f\"{label} & {' & '.join(vals)} \\\\\\\\\")\n",
    "print(\"\\\\bottomrule\")\n",
    "print(\"\\\\end{tabular}\")"
   ]
  },
  {
   "cell_type": "code",
   "execution_count": null,
   "id": "63db0019-7ee2-4181-9bbb-ce801d56f511",
   "metadata": {},
   "outputs": [],
   "source": []
  },
  {
   "cell_type": "code",
   "execution_count": null,
   "id": "2299e563-cfea-44a6-87bf-59eccbfb0cf9",
   "metadata": {},
   "outputs": [],
   "source": []
  }
 ],
 "metadata": {
  "kernelspec": {
   "display_name": "Python 3 (ipykernel)",
   "language": "python",
   "name": "python3"
  },
  "language_info": {
   "codemirror_mode": {
    "name": "ipython",
    "version": 3
   },
   "file_extension": ".py",
   "mimetype": "text/x-python",
   "name": "python",
   "nbconvert_exporter": "python",
   "pygments_lexer": "ipython3",
   "version": "3.10.14"
  }
 },
 "nbformat": 4,
 "nbformat_minor": 5
}
